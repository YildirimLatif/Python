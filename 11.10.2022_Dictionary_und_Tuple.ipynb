{
 "cells": [
  {
   "cell_type": "code",
   "execution_count": null,
   "metadata": {},
   "outputs": [],
   "source": []
  },
  {
   "cell_type": "code",
   "execution_count": 1,
   "metadata": {},
   "outputs": [],
   "source": [
    "#####################################"
   ]
  },
  {
   "cell_type": "code",
   "execution_count": 2,
   "metadata": {},
   "outputs": [
    {
     "data": {
      "text/plain": [
       "True"
      ]
     },
     "execution_count": 2,
     "metadata": {},
     "output_type": "execute_result"
    }
   ],
   "source": [
    "\"Mike\" in \"Mike\" in \"Mike\"\n",
    "#(\"Mike\" in \"Mike\") and (\"Mike\" in \"Mike\")\n"
   ]
  },
  {
   "cell_type": "code",
   "execution_count": 3,
   "metadata": {},
   "outputs": [
    {
     "name": "stdout",
     "output_type": "stream",
     "text": [
      "['__add__', '__class__', '__class_getitem__', '__contains__', '__delattr__', '__dir__', '__doc__', '__eq__', '__format__', '__ge__', '__getattribute__', '__getitem__', '__getnewargs__', '__gt__', '__hash__', '__init__', '__init_subclass__', '__iter__', '__le__', '__len__', '__lt__', '__mul__', '__ne__', '__new__', '__reduce__', '__reduce_ex__', '__repr__', '__rmul__', '__setattr__', '__sizeof__', '__str__', '__subclasshook__', 'count', 'index']\n"
     ]
    }
   ],
   "source": [
    "print(dir(tuple))"
   ]
  },
  {
   "cell_type": "code",
   "execution_count": 4,
   "metadata": {},
   "outputs": [
    {
     "name": "stdout",
     "output_type": "stream",
     "text": [
      "('happy', 'birdday')\n"
     ]
    }
   ],
   "source": [
    "word = \"happy\", \"birdday\"\n",
    "print(tuple(word))"
   ]
  },
  {
   "cell_type": "code",
   "execution_count": 5,
   "metadata": {},
   "outputs": [
    {
     "name": "stdout",
     "output_type": "stream",
     "text": [
      "<class 'tuple'>\n"
     ]
    }
   ],
   "source": [
    "empty_tuple = ()\n",
    "print(type(empty_tuple))\n",
    "# list == []\n",
    "# tuple == () \n",
    "# string == \"\""
   ]
  },
  {
   "cell_type": "code",
   "execution_count": 6,
   "metadata": {},
   "outputs": [
    {
     "name": "stdout",
     "output_type": "stream",
     "text": [
      "Solar\n",
      "<class 'str'>\n",
      "('Solar',)\n",
      "<class 'tuple'>\n",
      "('S', 'o', 'l', 'a', 'r')\n",
      "<class 'tuple'>\n"
     ]
    }
   ],
   "source": [
    "my_tuple = (\"Solar\")\n",
    "print(my_tuple,type(my_tuple), sep=\"\\n\")\n",
    "\n",
    "my_tuple = (\"Solar\",)\n",
    "print(my_tuple,type(my_tuple), sep=\"\\n\")\n",
    "\n",
    "my_tuple = tuple(\"Solar\")\n",
    "print(my_tuple,type(my_tuple), sep=\"\\n\")"
   ]
  },
  {
   "cell_type": "code",
   "execution_count": 7,
   "metadata": {},
   "outputs": [
    {
     "name": "stdout",
     "output_type": "stream",
     "text": [
      "<class 'tuple'> (1, 2, 3, 4, 5, 6, 7)\n"
     ]
    }
   ],
   "source": [
    "my_tuple=(1,2,3,4,5,6,7)\n",
    "my_list = list(my_tuple)\n",
    "print(type(my_tuple), my_tuple)"
   ]
  },
  {
   "cell_type": "code",
   "execution_count": 8,
   "metadata": {},
   "outputs": [
    {
     "name": "stdout",
     "output_type": "stream",
     "text": [
      "(1, 2, 3, 4, 5, 6, 7)\n"
     ]
    }
   ],
   "source": [
    "#list to tuple\n",
    "my_list=(1,2,3,4,5,6,7)\n",
    "my_tuple = tuple(my_list)\n",
    "print(my_tuple)"
   ]
  },
  {
   "cell_type": "code",
   "execution_count": 9,
   "metadata": {},
   "outputs": [
    {
     "name": "stdout",
     "output_type": "stream",
     "text": [
      "(1, 2, 3, 4, 5, 6, 7)\n",
      "(1, 2, 3, 4, 5, 6, 7)\n"
     ]
    }
   ],
   "source": [
    "#tuple to list \n",
    "my_tuple=(1,2,3,4,5,6,7)\n",
    "my_list = tuple(my_tuple)\n",
    "print(my_tuple)\n",
    "print(my_list)"
   ]
  },
  {
   "cell_type": "code",
   "execution_count": 10,
   "metadata": {},
   "outputs": [
    {
     "name": "stdout",
     "output_type": "stream",
     "text": [
      "('h', 'a', 'p', 'p', 'y')\n",
      "<class 'tuple'>\n",
      "5\n"
     ]
    }
   ],
   "source": [
    "tuple_1 = \"h\",\"a\",\"p\",\"p\",\"y\"\n",
    "tuple_2 = 1,3,5\n",
    "print(tuple_1)\n",
    "print(type(tuple_2))\n",
    "print(tuple_2[2])\n"
   ]
  },
  {
   "cell_type": "code",
   "execution_count": 11,
   "metadata": {},
   "outputs": [
    {
     "ename": "NameError",
     "evalue": "name 'city_tx' is not defined",
     "output_type": "error",
     "traceback": [
      "\u001b[1;31m---------------------------------------------------------------------------\u001b[0m",
      "\u001b[1;31mNameError\u001b[0m                                 Traceback (most recent call last)",
      "Cell \u001b[1;32mIn [11], line 2\u001b[0m\n\u001b[0;32m      1\u001b[0m city \u001b[39m=\u001b[39m [\u001b[39m\"\u001b[39m\u001b[39mistanbul\u001b[39m\u001b[39m\"\u001b[39m, \u001b[39m\"\u001b[39m\u001b[39mTokyo\u001b[39m\u001b[39m\"\u001b[39m, \u001b[39m\"\u001b[39m\u001b[39mBerlin\u001b[39m\u001b[39m\"\u001b[39m, \u001b[39m\"\u001b[39m\u001b[39mSeul\u001b[39m\u001b[39m\"\u001b[39m]\n\u001b[1;32m----> 2\u001b[0m city_tx\u001b[39m.\u001b[39munion(y)\n\u001b[0;32m      3\u001b[0m mix_tuple[\u001b[39m2\u001b[39m][\u001b[39m2\u001b[39m][\u001b[39m0\u001b[39m]\n",
      "\u001b[1;31mNameError\u001b[0m: name 'city_tx' is not defined"
     ]
    }
   ],
   "source": [
    "city = [\"istanbul\", \"Tokyo\", \"Berlin\", \"Seul\"]\n",
    "city_tx.union(y)\n",
    "mix_tuple[2][2][0]\n"
   ]
  },
  {
   "cell_type": "code",
   "execution_count": null,
   "metadata": {},
   "outputs": [
    {
     "name": "stdout",
     "output_type": "stream",
     "text": [
      "['two', ('six', 6)]\n",
      "<class 'list'>\n",
      "fair\n",
      "fair\n"
     ]
    }
   ],
   "source": [
    "mix_tuple = (\"11\",11,[2, \"two\",(\"six\",6)], (5,\"fair\"))\n",
    "str_six = mix_tuple[2][1:3]\n",
    "print(str_six, type(str_six), sep=\"\\n\")\n",
    "print(mix_tuple[3][1])\n",
    "print(mix_tuple[-1][-1])"
   ]
  },
  {
   "cell_type": "code",
   "execution_count": null,
   "metadata": {},
   "outputs": [
    {
     "name": "stdout",
     "output_type": "stream",
     "text": [
      "[1, 3, 4, 6, 7]\n"
     ]
    },
    {
     "ename": "AttributeError",
     "evalue": "'list' object has no attribute 'popleft'",
     "output_type": "error",
     "traceback": [
      "\u001b[1;31m---------------------------------------------------------------------------\u001b[0m\n",
      "\u001b[1;31mAttributeError\u001b[0m                            Traceback (most recent call last)\n",
      "Cell \u001b[1;32mIn [62], line 7\u001b[0m\n",
      "\u001b[0;32m      4\u001b[0m queue\u001b[39m.\u001b[39mappend(\u001b[39m7\u001b[39m)\n",
      "\u001b[0;32m      5\u001b[0m \u001b[39mprint\u001b[39m(queue)\n",
      "\u001b[1;32m----> 7\u001b[0m \u001b[39mprint\u001b[39m(queue\u001b[39m.\u001b[39;49mpopleft(\u001b[39m1\u001b[39m))\n",
      "\n",
      "\u001b[1;31mAttributeError\u001b[0m: 'list' object has no attribute 'popleft'"
     ]
    }
   ],
   "source": [
    "from collections import deque\n",
    "queue = [1,3,4]\n",
    "queue.append(6)\n",
    "queue.append(7)\n",
    "print(queue)\n",
    "\n",
    "print(queue.popleft())"
   ]
  },
  {
   "cell_type": "code",
   "execution_count": null,
   "metadata": {},
   "outputs": [
    {
     "name": "stdout",
     "output_type": "stream",
     "text": [
      "(5, 2)\n",
      "[(3, 2), (5, 2), (1, 1), (2, 1), (6, 1), (4, 1)]\n"
     ]
    }
   ],
   "source": [
    "from collections import Counter\n",
    "numbers = [1,3,5,3,2,5,6,4]\n",
    "c = Counter(numbers).most_common()\n",
    "print(c[1])\n",
    "print(c)"
   ]
  },
  {
   "cell_type": "code",
   "execution_count": null,
   "metadata": {},
   "outputs": [
    {
     "name": "stdout",
     "output_type": "stream",
     "text": [
      "[(3, 2), (5, 2), (1, 1), (2, 1), (6, 1), (4, 1)]\n"
     ]
    }
   ],
   "source": [
    "from collections import Counter\n",
    "numbers = [1,3,5,3,2,5,6,4]\n",
    "c = Counter(numbers).most_common()\n",
    "print(c)\n"
   ]
  },
  {
   "cell_type": "code",
   "execution_count": null,
   "metadata": {},
   "outputs": [
    {
     "name": "stdout",
     "output_type": "stream",
     "text": [
      "{'fruit': 'apple', 'drink': 'bier'}\n",
      "{'fruit': 'apple', 'drink': 'bier'}\n"
     ]
    }
   ],
   "source": [
    "#Dictionary\n",
    "grocer1 = {\"fruit\": \"apple\", \"drink\":\"bier\"}\n",
    "grocer2 =  dict(fruit=\"apple\", drink=\"bier\")\n",
    "print(grocer1)\n",
    "print(grocer2)\n"
   ]
  },
  {
   "cell_type": "code",
   "execution_count": null,
   "metadata": {},
   "outputs": [
    {
     "name": "stdout",
     "output_type": "stream",
     "text": [
      "{'aaa': '111', 'bbb': '222', 'ccc': '333', 'ddd': '444'}\n"
     ]
    }
   ],
   "source": [
    "state_capitals = {\"aaa\":\"111\",\"bbb\":\"222\", \"ccc\":\"333\" }\n",
    "state_capitals[\"ddd\"]= \"444\"\n",
    "print(state_capitals)"
   ]
  },
  {
   "cell_type": "code",
   "execution_count": null,
   "metadata": {},
   "outputs": [
    {
     "name": "stdout",
     "output_type": "stream",
     "text": [
      "{'aaa': '555', 'bbb': '222', 'ccc': '333', 'ddd': '444'}\n"
     ]
    }
   ],
   "source": [
    "state_capitals = {\"aaa\":\"111\",\"bbb\":\"222\", \"ccc\":\"333\" }\n",
    "state_capitals[\"ddd\"]= \"444\"\n",
    "state_capitals[\"aaa\"] = \"555\" # Man kann direkt verschieben\n",
    "print(state_capitals)"
   ]
  },
  {
   "cell_type": "code",
   "execution_count": null,
   "metadata": {},
   "outputs": [
    {
     "name": "stdout",
     "output_type": "stream",
     "text": [
      "{'name1': 'mustafa', 'name2': 'Ibrahim', 'name 3': 'latif', 'name4': 'Kemal'}\n"
     ]
    }
   ],
   "source": [
    "family = {\"name1\":\"mustafa\",\"name2\":\"Ibrahim\",\"name 3\":\"latif\"}\n",
    "family[\"name4\"] = \"Kemal\"\n",
    "\n",
    "print(family)"
   ]
  },
  {
   "cell_type": "code",
   "execution_count": null,
   "metadata": {},
   "outputs": [],
   "source": [
    "family = {\"name1\":\"mustafa\",\n",
    "          \"name2\":30,\n",
    "          \"name 3\":3.14}\n",
    "family[\"name4\"] = \"Kemal\"\n",
    "\n",
    "# print(family.items(), \"\\n\")\n",
    "print(list(family.items()))\n",
    "# print(family.keys(), \"\\n\")\n",
    "print(list(family.keys()), \"\\n\")\n",
    "# print(family.values())\n",
    "print(list(family.values()))"
   ]
  },
  {
   "cell_type": "code",
   "execution_count": null,
   "metadata": {},
   "outputs": [
    {
     "name": "stdout",
     "output_type": "stream",
     "text": [
      "{'p': 'y', 't': 'h', 'o': 'n'}\n"
     ]
    }
   ],
   "source": [
    "\n",
    "print(dict((\"py\",\"th\", \"on\")))"
   ]
  }
 ],
 "metadata": {
  "kernelspec": {
   "display_name": "Python 3.10.7 64-bit (microsoft store)",
   "language": "python",
   "name": "python3"
  },
  "language_info": {
   "codemirror_mode": {
    "name": "ipython",
    "version": 3
   },
   "file_extension": ".py",
   "mimetype": "text/x-python",
   "name": "python",
   "nbconvert_exporter": "python",
   "pygments_lexer": "ipython3",
   "version": "3.10.7"
  },
  "orig_nbformat": 4,
  "vscode": {
   "interpreter": {
    "hash": "ba33de22a5821ff61dd53097cd70511c2f19fae7b0f9e8b27ee69b6aca2c4956"
   }
  }
 },
 "nbformat": 4,
 "nbformat_minor": 2
}
