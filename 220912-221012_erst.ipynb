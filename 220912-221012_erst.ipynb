{
  "cells": [
    {
      "cell_type": "code",
      "execution_count": null,
      "metadata": {
        "colab": {
          "base_uri": "https://localhost:8080/"
        },
        "id": "qwvtiXxS9B0B",
        "outputId": "20003043-1f21-4876-dd7b-4f5dc71b2df9"
      },
      "outputs": [],
      "source": [
        "print(\"merhaba\")"
      ]
    },
    {
      "cell_type": "code",
      "execution_count": 16,
      "metadata": {},
      "outputs": [
        {
          "name": "stdout",
          "output_type": "stream",
          "text": [
            "bir sayi gir bakem\n",
            "1\n",
            "3\n",
            "6\n"
          ]
        },
        {
          "data": {
            "text/plain": [
              "6"
            ]
          },
          "execution_count": 16,
          "metadata": {},
          "output_type": "execute_result"
        }
      ],
      "source": [
        "def karisik(x):\n",
        "    if(x > 0):\n",
        "        sonuc = x+karisik(x-1)\n",
        "        print(sonuc)\n",
        "    else:\n",
        "       sonuc = 0\n",
        "    return sonuc\n",
        "       \n",
        "\n",
        "print(\"bir sayi gir bakem\")\n",
        "karisik(3)"
      ]
    },
    {
      "cell_type": "code",
      "execution_count": 18,
      "metadata": {},
      "outputs": [
        {
          "name": "stdout",
          "output_type": "stream",
          "text": [
            "1\n",
            "3\n",
            "6\n",
            "10\n",
            "15\n",
            "21\n"
          ]
        },
        {
          "data": {
            "text/plain": [
              "21"
            ]
          },
          "execution_count": 18,
          "metadata": {},
          "output_type": "execute_result"
        }
      ],
      "source": [
        "def tri_recursion(k):\n",
        "    if k>0:\n",
        "        result = k + tri_recursion(k-1)\n",
        "        print(result)\n",
        "    else:\n",
        "        result = 0\n",
        "    return result\n",
        "tri_recursion(6)"
      ]
    },
    {
      "cell_type": "code",
      "execution_count": 1,
      "metadata": {},
      "outputs": [
        {
          "data": {
            "text/plain": [
              "64"
            ]
          },
          "execution_count": 1,
          "metadata": {},
          "output_type": "execute_result"
        }
      ],
      "source": [
        "sum([16,0b10000,0o20,0x10])"
      ]
    },
    {
      "cell_type": "code",
      "execution_count": 13,
      "metadata": {},
      "outputs": [
        {
          "data": {
            "text/plain": [
              "'grault'"
            ]
          },
          "execution_count": 13,
          "metadata": {},
          "output_type": "execute_result"
        }
      ],
      "source": [
        "a = ['foo', 'bar', 'baz', 'qux', 'quux', 'corge']\n",
        "\n",
        "max(a[2:4] + ['grault'])"
      ]
    },
    {
      "cell_type": "code",
      "execution_count": 29,
      "metadata": {},
      "outputs": [
        {
          "name": "stdout",
          "output_type": "stream",
          "text": [
            "['a', 'b', 'c', 'd', 'e']\n"
          ]
        }
      ],
      "source": [
        "a = [\"a\",\"b\",\"c\"]\n",
        "a += \"de\"\n",
        "print(a)"
      ]
    },
    {
      "cell_type": "code",
      "execution_count": null,
      "metadata": {
        "colab": {
          "base_uri": "https://localhost:8080/",
          "height": 36
        },
        "id": "iRnrjrp-9dx-",
        "outputId": "4117e601-a5c1-4ac7-f05f-ac9f40c1f78a"
      },
      "outputs": [],
      "source": [
        "\"merhaba deniz\" #böylede calisiyor"
      ]
    },
    {
      "cell_type": "code",
      "execution_count": null,
      "metadata": {
        "colab": {
          "base_uri": "https://localhost:8080/"
        },
        "id": "IFevv4GhIMOs",
        "outputId": "14afbcb7-a2a0-47de-da74-7bbc2e1a78ff"
      },
      "outputs": [],
      "source": [
        "print(\"merhaba -1\")\n",
        "print()\n",
        "\n",
        "print(\"helllo\")"
      ]
    },
    {
      "cell_type": "code",
      "execution_count": 1,
      "metadata": {},
      "outputs": [
        {
          "name": "stdout",
          "output_type": "stream",
          "text": [
            "924.446\n"
          ]
        }
      ],
      "source": [
        "print(format(924.446,\"3\"))"
      ]
    },
    {
      "cell_type": "code",
      "execution_count": 10,
      "metadata": {},
      "outputs": [
        {
          "name": "stdout",
          "output_type": "stream",
          "text": [
            "62\n",
            "bir sayi gir bakem\n",
            "1\n",
            "3\n",
            "6\n",
            "10\n",
            "15\n",
            "21\n",
            "21\n"
          ]
        }
      ],
      "source": [
        "def iki(n):\n",
        "    return lambda a:a*n\n",
        "\n",
        "kelli = iki(2)\n",
        "\n",
        "print(kelli(31))\n",
        "def karisik(x):\n",
        "    if x>0:\n",
        "        sonuc = x+karisik(x-1)\n",
        "        print(sonuc)\n",
        "    else:\n",
        "       sonuc = 0\n",
        "    return sonuc\n",
        "       \n",
        "\n",
        "print(\"bir sayi gir bakem\")\n",
        "print(karisik(6)) "
      ]
    },
    {
      "cell_type": "code",
      "execution_count": 9,
      "metadata": {},
      "outputs": [
        {
          "name": "stdout",
          "output_type": "stream",
          "text": [
            "\n",
            "\n",
            "Recursion Example Results\n",
            "1\n",
            "3\n",
            "6\n",
            "10\n",
            "15\n",
            "21\n"
          ]
        },
        {
          "data": {
            "text/plain": [
              "21"
            ]
          },
          "execution_count": 9,
          "metadata": {},
          "output_type": "execute_result"
        }
      ],
      "source": [
        "def tri_recursion(k):\n",
        "  if(k > 0):\n",
        "    result = k + tri_recursion(k - 1)\n",
        "    print(result)\n",
        "  else:\n",
        "    result = 0\n",
        "  return result\n",
        "\n",
        "print(\"\\n\\nRecursion Example Results\")\n",
        "tri_recursion(6)"
      ]
    },
    {
      "cell_type": "code",
      "execution_count": null,
      "metadata": {
        "colab": {
          "base_uri": "https://localhost:8080/"
        },
        "id": "FxJX_NVeJ95i",
        "outputId": "330f23f6-3f53-42ae-ab66-06d4a0a5502e"
      },
      "outputs": [],
      "source": [
        "help(print)"
      ]
    },
    {
      "cell_type": "code",
      "execution_count": null,
      "metadata": {
        "colab": {
          "base_uri": "https://localhost:8080/"
        },
        "id": "8Dk1AtmTK6yC",
        "outputId": "429352d7-de19-4eb2-d5da-f839853dacd7"
      },
      "outputs": [],
      "source": [
        "A=3\n",
        "#A niin degegerini ekrana yazdiryioruz\n",
        "print(A)\n",
        "print(\"A = \", A)"
      ]
    },
    {
      "cell_type": "code",
      "execution_count": null,
      "metadata": {
        "colab": {
          "base_uri": "https://localhost:8080/"
        },
        "id": "O8IC95jHMXYW",
        "outputId": "f264751e-ec4c-4fbe-a03d-369d54f27037"
      },
      "outputs": [],
      "source": [
        "A = 8; B = 5; C = 6\n",
        "#print(f\"A = {A}\")\n",
        "print(\"A = {0}  B = {1}\".format(A, B, C)); print(f\"A = {A}\")\n"
      ]
    },
    {
      "cell_type": "code",
      "execution_count": null,
      "metadata": {
        "colab": {
          "base_uri": "https://localhost:8080/"
        },
        "id": "rnEyc-yqPOSa",
        "outputId": "3d59ff5f-8c23-4b09-9c09-56ff54e00df0"
      },
      "outputs": [],
      "source": [
        "print(\"ali\"'veli')"
      ]
    },
    {
      "cell_type": "code",
      "execution_count": null,
      "metadata": {
        "id": "2f8qTXiSWEaT"
      },
      "outputs": [],
      "source": [
        "ad_soyad = \"tabak bakicisi\""
      ]
    },
    {
      "cell_type": "code",
      "execution_count": null,
      "metadata": {
        "colab": {
          "base_uri": "https://localhost:8080/"
        },
        "id": "FN2Ywo0NO13M",
        "outputId": "669edc6c-2a94-48d9-ac0a-82cfd77bb283"
      },
      "outputs": [],
      "source": [
        "def function(): \n",
        "    \"\"\" \n",
        "    tosbaga avcisi\n",
        "    \"\"\"\n",
        "\n",
        "print(function.__doc__)"
      ]
    },
    {
      "cell_type": "code",
      "execution_count": null,
      "metadata": {},
      "outputs": [],
      "source": [
        "no1, no2 = 31, 27\n",
        "no3 = no1 - no2\n",
        "print(no3)"
      ]
    },
    {
      "cell_type": "code",
      "execution_count": null,
      "metadata": {},
      "outputs": [],
      "source": [
        "no1, no2 = 31, 27\n",
        "no3 = no1 - no2\n",
        "print(no3)"
      ]
    },
    {
      "cell_type": "code",
      "execution_count": null,
      "metadata": {},
      "outputs": [],
      "source": [
        "no1, no2 = 7, 2\n",
        "no3 = no1 // no2 # (//)  Kalansiz bölüyor\n",
        "print(no3)"
      ]
    },
    {
      "cell_type": "code",
      "execution_count": null,
      "metadata": {},
      "outputs": [],
      "source": [
        "no1, no2 = 7, 2\n",
        "no3 = no1 % no2 # (#) isreti kalan i yazdiriyor\n",
        "print(no3)"
      ]
    },
    {
      "cell_type": "code",
      "execution_count": null,
      "metadata": {},
      "outputs": [],
      "source": [
        "no1, no2 = 7, 2\n",
        "no3 = no1 ** no2 # (**) isreti karesi yazdiriyor\n",
        "print(no3)"
      ]
    },
    {
      "cell_type": "code",
      "execution_count": null,
      "metadata": {},
      "outputs": [],
      "source": [
        "print('ich will', end='')\n",
        "print(\"keleer\")"
      ]
    },
    {
      "cell_type": "code",
      "execution_count": null,
      "metadata": {},
      "outputs": [],
      "source": [
        "type(4)"
      ]
    },
    {
      "cell_type": "code",
      "execution_count": null,
      "metadata": {},
      "outputs": [],
      "source": [
        "print('isreti karesi\\nyazdiriyor')   # (\\n) bir asagiya yazdir"
      ]
    },
    {
      "cell_type": "code",
      "execution_count": null,
      "metadata": {},
      "outputs": [],
      "source": [
        "print('isreti', ' karesi', ' yazdiriyor', sep='\\t')   # (\\t) araya Tab koyuyor"
      ]
    },
    {
      "cell_type": "code",
      "execution_count": null,
      "metadata": {},
      "outputs": [],
      "source": [
        "print('isreti', '\\bkaresi', '\\byazdiriyor') # (\\b)  bitisik yazdiriyor "
      ]
    },
    {
      "cell_type": "code",
      "execution_count": null,
      "metadata": {},
      "outputs": [],
      "source": [
        "print('isreti kares\\'i yazdiriyor')    # (\\) isareti sonra gelen (') isaretinin\n",
        "                                        # fonctionunu yok sayiyor\n"
      ]
    },
    {
      "cell_type": "code",
      "execution_count": null,
      "metadata": {},
      "outputs": [],
      "source": [
        "x = True and False or not False or False\n",
        "print(x)"
      ]
    },
    {
      "cell_type": "code",
      "execution_count": null,
      "metadata": {},
      "outputs": [],
      "source": [
        "print(9 and 3)\n",
        "print(1 and \"hexxeeeeee\")\n",
        "print([] or \"hexxeeeeee\")\n",
        "print(0 or {})"
      ]
    },
    {
      "cell_type": "code",
      "execution_count": null,
      "metadata": {},
      "outputs": [],
      "source": [
        "fruit = 'sümeyye'\n",
        "print('Word              :' , fruit)\n",
        "print('Word3             :' , fruit[0])\n",
        "print('Word4             :' , fruit[1])\n",
        "print('Word5             :' , fruit[2:5])\n",
        "print('Word5             :' , fruit[2:])"
      ]
    },
    {
      "cell_type": "code",
      "execution_count": null,
      "metadata": {},
      "outputs": [],
      "source": [
        "city = 'Phoenix'\n",
        "\n",
        "print(city[1:])\n",
        "print(city[:3])\n",
        "print(city[3:])\n",
        "print(city[::3])\n",
        "print(city[1::4])\n",
        "print(city[-3:])\n",
        "print(city[::-1])"
      ]
    },
    {
      "cell_type": "code",
      "execution_count": null,
      "metadata": {},
      "outputs": [],
      "source": [
        "Veg = \"0123456789\"\n",
        "print('kelime uzunlugu', Veg, 'nin', len(Veg) )\n",
        "\n",
        "str = '01234567890123456789'\n",
        "print(str[:2])\n",
        "print(str[::3])\n",
        "print(str[3::5])\n",
        "print(str[2:])\n",
        "print(str[::-1])\n",
        "print(str[:3])"
      ]
    },
    {
      "cell_type": "code",
      "execution_count": null,
      "metadata": {},
      "outputs": [],
      "source": [
        "print(3*'no way ')\n",
        "x = ' elma '\n",
        "y = ' Armut '\n",
        "\n",
        "print(x + y)\n",
        "print(x*3)"
      ]
    },
    {
      "cell_type": "code",
      "execution_count": null,
      "metadata": {},
      "outputs": [],
      "source": [
        "x = 'kal'\n",
        "x += 'ma'\n",
        "x += 'yin'\n",
        "print(x)"
      ]
    },
    {
      "cell_type": "code",
      "execution_count": null,
      "metadata": {},
      "outputs": [],
      "source": [
        "denklem = 'ben oraya %d %s and %.2f gidecegim' % (4, \"cocuk\", 5)\n",
        "print(denklem)"
      ]
    },
    {
      "cell_type": "code",
      "execution_count": 97,
      "metadata": {},
      "outputs": [
        {
          "name": "stdout",
          "output_type": "stream",
          "text": [
            "hey bolu beine beyine \n",
            "hey b\n"
          ]
        }
      ],
      "source": [
        "olmaz = 'hey %s %s %s ' % (\"bolu\", \"beine\", \"beyine\" )\n",
        "print(olmaz)\n",
        "\n",
        "print('%.5s' % olmaz)"
      ]
    },
    {
      "cell_type": "code",
      "execution_count": null,
      "metadata": {},
      "outputs": [],
      "source": [
        "x = 'ahmet'\n",
        "y = 'mehmet'\n",
        "print('heyy {x} ve {y} gelsin' .format(x='ahmet' , y='mehmet'))"
      ]
    },
    {
      "cell_type": "code",
      "execution_count": null,
      "metadata": {},
      "outputs": [],
      "source": [
        "print('{} heyyy {} e baksana'.format('ahmet','mehmet'))"
      ]
    },
    {
      "cell_type": "code",
      "execution_count": null,
      "metadata": {},
      "outputs": [],
      "source": [
        "print(\"{9}{7}{1}{10}{3}{2}{5}{8}{6}{0}{4}\".format(\n",
        "    'in ','know ','bring ','to ','students.','out ','best ' \n",
        "    ,'teachers ','the ','Good ','how '\n",
        "    ))"
      ]
    },
    {
      "cell_type": "code",
      "execution_count": null,
      "metadata": {},
      "outputs": [],
      "source": [
        "fstring = f\"buraya f modulünün ayarini yapioyruz {4*5}\"\n",
        "kal = '15 dirrr'\n",
        "tosba = f'{3*5} {kal}'\n",
        "\n",
        "print(fstring)\n",
        "print(tosba)"
      ]
    },
    {
      "cell_type": "code",
      "execution_count": null,
      "metadata": {},
      "outputs": [],
      "source": [
        "adim = \"LATIF\"\n",
        "düzlestir = f\"Adin harfleri düzenlenince {adim.capitalize()}\" # capitalize ismi düzeltir\n",
        "print(düzlestir)"
      ]
    },
    {
      "cell_type": "code",
      "execution_count": null,
      "metadata": {},
      "outputs": [],
      "source": [
        "x = \" casdas \"\n",
        "y = \" tosbas \"\n",
        "birlikte = f\"nanimi sikma {x}\" f\"bana bak bakayim {y}\"\n",
        "print(birlikte)"
      ]
    },
    {
      "cell_type": "code",
      "execution_count": null,
      "metadata": {},
      "outputs": [],
      "source": [
        "text = \"www.twitter.com\"\n",
        "print(len(text))\n",
        "print(text.endswith(\"m\"))\n",
        "print(text.startswith(\"www\"))\n",
        "print(text.startswith(\"t\", 4))\n",
        "print(text.endswith(\"r\", 6, 15))"
      ]
    },
    {
      "cell_type": "code",
      "execution_count": null,
      "metadata": {},
      "outputs": [],
      "source": [
        "text = \"www.TWitte-r.com\"\n",
        "print(len(text))\n",
        "print(text.endswith(\"-\", 6, 16))\n",
        "print(text.upper())\n",
        "print(text.lower())\n",
        "print(text.capitalize())\n",
        "print(text.count(\"z\"))"
      ]
    },
    {
      "cell_type": "code",
      "execution_count": null,
      "metadata": {},
      "outputs": [],
      "source": [
        "email = \"clarusway@clarusway.com is my e-mail address\"\n",
        "print(email.startswith(\"@\", 9))\n",
        "print(email.endswith(\"-\", 10, 32))"
      ]
    },
    {
      "cell_type": "code",
      "execution_count": null,
      "metadata": {},
      "outputs": [],
      "source": [
        "ilk_deger = input(\"Adinizi girin\")\n",
        "son_deger = input(\"Soyadiniz\")\n",
        "print(\"adiniz :\"+ ilk_deger.capitalize() \\\n",
        "     + \"\\nsoyadiniz :\"+ son_deger.upper())"
      ]
    },
    {
      "cell_type": "code",
      "execution_count": null,
      "metadata": {},
      "outputs": [],
      "source": [
        "name = \" Kara Kasan Kamayasicasi\"\n",
        "print(name.replace(\"a\", \"i\")) # degistiriyor\n",
        "print(name.title()) # bas harflerini büyütüyür\n",
        "print(name.swapcase()) # tersine ceviriyor\n",
        "print(name.upper()) # hepsini büyütüyor"
      ]
    },
    {
      "cell_type": "code",
      "execution_count": null,
      "metadata": {},
      "outputs": [],
      "source": [
        "print(\"bak\", \"beri\", \"beri\", sep=\"..\", end=\" \" )"
      ]
    },
    {
      "cell_type": "code",
      "execution_count": null,
      "metadata": {},
      "outputs": [],
      "source": [
        "karpuzz()\n",
        "\"\"\"\n",
        "heyyyyooooooo\n",
        "\n",
        "\"\"\"\n",
        "print(parpuzz.__doc__)"
      ]
    },
    {
      "cell_type": "code",
      "execution_count": null,
      "metadata": {},
      "outputs": [],
      "source": [
        "name = \" Latif \" \n",
        "nachname = \" Yildirim \"  \n",
        "    alt= \" 31 \" \n",
        "    print(name + nachname + alt)"
      ]
    },
    {
      "cell_type": "code",
      "execution_count": null,
      "metadata": {},
      "outputs": [],
      "source": [
        "import keyword              #özel kullanilan komutlari böyle cagiriyoruz\n",
        "print(keyword.kwlist)"
      ]
    },
    {
      "cell_type": "code",
      "execution_count": null,
      "metadata": {},
      "outputs": [],
      "source": [
        "print(\"adasd\" \"adasdsa\" \"dadaa\",  3, 5,)\n"
      ]
    },
    {
      "cell_type": "code",
      "execution_count": null,
      "metadata": {},
      "outputs": [],
      "source": [
        "x = 10\n",
        "if x == 10 :\n",
        "    print('karpuz')   \n",
        "    \n",
        "else : \n",
        "    \n",
        "    print('kaviun')"
      ]
    },
    {
      "cell_type": "code",
      "execution_count": 161,
      "metadata": {},
      "outputs": [
        {
          "name": "stdout",
          "output_type": "stream",
          "text": [
            "S\n"
          ]
        },
        {
          "ename": "TypeError",
          "evalue": "'str' object does not support item assignment",
          "output_type": "error",
          "traceback": [
            "\u001b[1;31m---------------------------------------------------------------------------\u001b[0m",
            "\u001b[1;31mTypeError\u001b[0m                                 Traceback (most recent call last)",
            "Cell \u001b[1;32mIn [161], line 3\u001b[0m\n\u001b[0;32m      1\u001b[0m \u001b[38;5;28mprint\u001b[39m(\u001b[38;5;28mmax\u001b[39m(\u001b[38;5;124m\"\u001b[39m\u001b[38;5;124mJOSEPH\u001b[39m\u001b[38;5;124m\"\u001b[39m))\n\u001b[0;32m      2\u001b[0m example \u001b[38;5;241m=\u001b[39m \u001b[38;5;124m\"\u001b[39m\u001b[38;5;124msnow world\u001b[39m\u001b[38;5;124m\"\u001b[39m\n\u001b[1;32m----> 3\u001b[0m \u001b[43mexample\u001b[49m\u001b[43m[\u001b[49m\u001b[38;5;241;43m3\u001b[39;49m\u001b[43m]\u001b[49m \u001b[38;5;241m=\u001b[39m \u001b[38;5;124m'\u001b[39m\u001b[38;5;124ms\u001b[39m\u001b[38;5;124m'\u001b[39m\n\u001b[0;32m      4\u001b[0m \u001b[38;5;28mprint\u001b[39m(example)\n",
            "\u001b[1;31mTypeError\u001b[0m: 'str' object does not support item assignment"
          ]
        }
      ],
      "source": [
        "print(max(\"JOSEPH\"))\n",
        "example = \"snow world\"\n",
        "example[3] = 's'\n",
        "print(example)"
      ]
    },
    {
      "cell_type": "code",
      "execution_count": null,
      "metadata": {},
      "outputs": [],
      "source": [
        "example ='helen'\n",
        "print(example[::-1])\n",
        "print(example.find('e'))\n"
      ]
    },
    {
      "cell_type": "code",
      "execution_count": null,
      "metadata": {},
      "outputs": [],
      "source": [
        "s = '  karaciger'\n",
        "print(s.strip())"
      ]
    },
    {
      "cell_type": "code",
      "execution_count": 23,
      "metadata": {},
      "outputs": [
        {
          "name": "stdout",
          "output_type": "stream",
          "text": [
            "Clarusway, Clarusway, Clarusway,\n",
            "\tClarusway, Clarusway, Clarusway,\n",
            "\t\tClarusway, Clarusway, Clarusway\n"
          ]
        }
      ],
      "source": [
        "text = \"Clarusway, Clarusway, Clarusway\"\n",
        "print(text + \",\\n\\t\" + text +\",\\n\\t\\t\" + text)"
      ]
    },
    {
      "cell_type": "code",
      "execution_count": null,
      "metadata": {},
      "outputs": [],
      "source": [
        "word = 'clarusway'\n",
        "n = 3\n",
        "front = word[:n]\n",
        "back = word[n+1:]\n",
        "print(front + back)"
      ]
    },
    {
      "cell_type": "code",
      "execution_count": null,
      "metadata": {},
      "outputs": [],
      "source": [
        "liste = ['kkk', 'lll', 'hhhhh']\n",
        "print(liste)"
      ]
    },
    {
      "cell_type": "code",
      "execution_count": null,
      "metadata": {},
      "outputs": [],
      "source": [
        "string_1 = 'hemen uyurum'\n",
        "new_list_1 = list(string_1)\n",
        "print(new_list_1)\n",
        "new_list_2 = [string_1]\n",
        "print(new_list_2)"
      ]
    },
    {
      "cell_type": "code",
      "execution_count": null,
      "metadata": {},
      "outputs": [],
      "source": [
        "mixed_list = [11, 'joseph', False, [1, 2, 3]]\n",
        "print(mixed_list)"
      ]
    },
    {
      "cell_type": "code",
      "execution_count": null,
      "metadata": {},
      "outputs": [],
      "source": [
        "warning = 'You must quit smoking!'\n",
        "print(len(list(warning)))"
      ]
    },
    {
      "cell_type": "code",
      "execution_count": null,
      "metadata": {},
      "outputs": [],
      "source": [
        "empty_list_1 = ['New York', 'London', 'Istanbul', 'Seoul', 'Sydney']\n",
        "empty_list_1.append('Element')\n",
        "empty_list_1.insert(3,'Kalamar')\n",
        "empty_list_1[1] = 'Karababa'\n",
        "empty_list_1.remove('Seoul')\n",
        "empty_list_1.sort()\n",
        "#empty_list_1.insert()\n",
        "x = '7'\n",
        "y = '3'\n",
        "print(len(empty_list_1), empty_list_1)\n",
        "print(empty_list_1[1])"
      ]
    },
    {
      "cell_type": "code",
      "execution_count": null,
      "metadata": {},
      "outputs": [],
      "source": [
        "city = ['aaaa', 'bxcv', 'cccc', 'dddddd', 'eeeee']\n",
        "list_city = []\n",
        "list_city.append(city)\n",
        "print(list_city)\n",
        "print(list_city[0][1][2])\n"
      ]
    },
    {
      "cell_type": "code",
      "execution_count": 22,
      "metadata": {},
      "outputs": [
        {
          "name": "stdout",
          "output_type": "stream",
          "text": [
            "{'cherry', 'apple', 'banana', 'microsoft', 'google'}\n"
          ]
        }
      ],
      "source": [
        "\n",
        "x = {'apple', 'banana', 'cherry'}\n",
        "y = {'google', 'microsoft', 'apple'}\n",
        "z = x.union(y)\n",
        "print(z)\n",
        "print(ahmet)"
      ]
    },
    {
      "cell_type": "code",
      "execution_count": 25,
      "metadata": {},
      "outputs": [],
      "source": [
        "a = 33\n",
        "b = 0\n",
        "\n",
        "if b > a:\n",
        "    pass\n",
        "    "
      ]
    },
    {
      "cell_type": "code",
      "execution_count": 20,
      "metadata": {},
      "outputs": [
        {
          "name": "stdout",
          "output_type": "stream",
          "text": [
            "True\n"
          ]
        }
      ],
      "source": [
        "\n",
        "x = {'a', 'b', 'c'}\n",
        "y = {'g', 'm', 'r', 't', 'z'}\n",
        "z = x.isdisjoint(y)\n",
        "print(z)"
      ]
    },
    {
      "cell_type": "code",
      "execution_count": null,
      "metadata": {},
      "outputs": [],
      "source": [
        "numbers = [1, 3, 5, 7, 9, 11, 13, 15, 17]\n",
        "print(numbers[:-3])"
      ]
    },
    {
      "cell_type": "code",
      "execution_count": 4,
      "metadata": {},
      "outputs": [
        {
          "name": "stdout",
          "output_type": "stream",
          "text": [
            "[0, 1, 2, 3, 4, 5, 6, 7, 8, 9, 10]\n",
            "[0, 5, 10]\n",
            "[0, 2, 4, 6, 8, 10]\n",
            "[0, 1, 2, 3, 4, 5, 6, 7, 8, 9, 10]\n",
            "[1, 4, 7, 10]\n",
            "[0, 2, 4, 6, 8, 10]\n"
          ]
        }
      ],
      "source": [
        "count = list(range(11))\n",
        "print(count)\n",
        "\n",
        "print(count[0:11:5])\n",
        "print(count[0:11:2])\n",
        "print(count[:])\n",
        "print(count[1::3])\n",
        "print(count[::2])\n"
      ]
    },
    {
      "cell_type": "code",
      "execution_count": null,
      "metadata": {},
      "outputs": [],
      "source": [
        "print(len([[12, 14, 16]][0]))"
      ]
    },
    {
      "cell_type": "code",
      "execution_count": null,
      "metadata": {},
      "outputs": [],
      "source": [
        "reef = ['swordfish', 'shark', 'whale', 'jellyfish', 'lobster', 'squid', 'octopus']\n",
        "print(reef[0:5:2])"
      ]
    },
    {
      "cell_type": "code",
      "execution_count": null,
      "metadata": {},
      "outputs": [],
      "source": [
        "my_list = [1, 2, 3, 4, 5, 6]\n",
        "new_list =[]\n",
        "my_list\n",
        "\n",
        "for x in my_list:\n",
        "    if x % 2 != 0:\n",
        "        new_list.append(x**2)\n",
        "print(new_list)        \n",
        "print([x**2 for x in my_list if x % 2 != 0])"
      ]
    },
    {
      "cell_type": "code",
      "execution_count": null,
      "metadata": {},
      "outputs": [],
      "source": [
        "try_tuple = ('love',0)\n",
        "print(try_tuple)\n",
        "print(type(try_tuple))"
      ]
    },
    {
      "cell_type": "code",
      "execution_count": null,
      "metadata": {},
      "outputs": [],
      "source": [
        "planets = 'horalet', 'tomalet', 'kereiz'\n",
        "print(planets)\n",
        "print(type(planets))"
      ]
    },
    {
      "cell_type": "code",
      "execution_count": null,
      "metadata": {},
      "outputs": [],
      "source": [
        "haha = tuple()\n",
        "print(haha)\n",
        "print(type(haha))"
      ]
    },
    {
      "cell_type": "code",
      "execution_count": null,
      "metadata": {},
      "outputs": [],
      "source": [
        "my_tuple=(1, 3, 5, 7, 9)\n",
        "my_list = list(my_tuple)\n",
        "print(type(my_list), my_list)"
      ]
    },
    {
      "cell_type": "code",
      "execution_count": null,
      "metadata": {},
      "outputs": [],
      "source": [
        "my_list = [1, 3, 5, 7, 9]\n",
        "my_tuple = tuple(my_list)\n",
        "print(type(my_tuple), my_tuple)"
      ]
    },
    {
      "cell_type": "code",
      "execution_count": null,
      "metadata": {},
      "outputs": [],
      "source": [
        "karaciger = list('kereviz')\n",
        "karaciger[0] = 'top', 5\n",
        "karaciger[1] = 'hello'\n",
        "print(karaciger)\n",
        "print(karaciger.count('r'))    #.count() aradigimiz karakteri buldurur."
      ]
    },
    {
      "cell_type": "markdown",
      "metadata": {},
      "source": [
        "tuple() tipi list() tipinden hizlidir."
      ]
    },
    {
      "cell_type": "code",
      "execution_count": null,
      "metadata": {},
      "outputs": [],
      "source": [
        "my_list = list(range(1,11))\n",
        "my_list_2 = my_list\n",
        "my_list.sort(reverse=True)\n",
        "print(my_list)\n",
        "my_list_2[::-1]\n",
        "print(my_list_2)\n",
        "type(my_list)"
      ]
    },
    {
      "cell_type": "code",
      "execution_count": null,
      "metadata": {},
      "outputs": [],
      "source": [
        "grocer = [\"banana\", [\"orange\", [\"apple\", \"eggplant\", \"melon\", \"spinach\", \"cheese\", \"leek\" ], \"water\"], \"mandarin\"]\n",
        "print(grocer[1][1][1:6:2])"
      ]
    },
    {
      "cell_type": "code",
      "execution_count": null,
      "metadata": {},
      "outputs": [],
      "source": [
        "escapes = [\"\\n\\t\", \"\\n\\t\\t\"]\n",
        "\n",
        "sentence = \"I am 40 years old. {}I have two children. {}Data Science is my IT domain.\".format(\"\\n\\t\", \"\\n\\t\\t\")\n",
        "\n",
        "print(sentence)"
      ]
    },
    {
      "cell_type": "code",
      "execution_count": null,
      "metadata": {},
      "outputs": [],
      "source": [
        "flowers = [[\"jasmine\", [\"lavender\", \"rose\"], \"tulip\"]]\n",
        "colors = [\"red\", (\"blue\", [\"yellow\", \"green\"]), \"pink\"]\n",
        "text = \"My two favorite flowers are {} and {}, \\\n",
        "two favorite colors are {} and {}.\".format(flowers[0][2], flowers[0][1][1], colors[1][0], colors[1][1][1])\n",
        "print(text)"
      ]
    },
    {
      "cell_type": "code",
      "execution_count": null,
      "metadata": {},
      "outputs": [],
      "source": []
    },
    {
      "cell_type": "code",
      "execution_count": null,
      "metadata": {},
      "outputs": [],
      "source": [
        "empty_dict_1 = {}\n",
        "empty_list_2 = dict()\n",
        "my_dict = {'key1': 'value1',\n",
        "           'key2': 'value2',\n",
        "           'key3': 'value3'}"
      ]
    },
    {
      "cell_type": "code",
      "execution_count": null,
      "metadata": {},
      "outputs": [],
      "source": [
        "my_dict = {'name': 'Yildirim',\n",
        "           'vorname': 'Latif',\n",
        "           'alt': '31'}\n",
        "my_dict['name'] = 'Mahmut'\n",
        "print(my_dict)"
      ]
    },
    {
      "cell_type": "code",
      "execution_count": null,
      "metadata": {},
      "outputs": [],
      "source": [
        "my_dict = dict(name='Latif', vorname='yildirim', number=3, pi=3.14)\n",
        "print(dict.__doc__)\n"
      ]
    },
    {
      "cell_type": "code",
      "execution_count": null,
      "metadata": {},
      "outputs": [],
      "source": [
        "my_dict = {'name': 'Yildirim',\n",
        "           'vorname': 'Latif',\n",
        "           'alt': '31'}\n",
        "my_dict.update({'ort': 'Hemer'})  #eklemek icin\n",
        "my_dict.update({'OK!': False})\n",
        "my_dict['name'] = 'Mahmut'\n",
        "print(my_dict)\n",
        "print('ort' in my_dict)         #olup olamdigini\n",
        "print('OK' not in my_dict)      #olup olamdigini sorgulariz"
      ]
    },
    {
      "cell_type": "code",
      "execution_count": null,
      "metadata": {},
      "outputs": [],
      "source": [
        "student_ages = {\"Harry\": 29,\n",
        "                \"Clark\": 32,\n",
        "                \"Peter\": 22,\n",
        "                \"Bruce\": 36\n",
        "                }\n",
        "del student_ages[\"Harry\"]   #   silmek icin bunu kullaniriz\n",
        "print(student_ages)\n",
        "print(student_ages['Clark'])"
      ]
    },
    {
      "cell_type": "code",
      "execution_count": null,
      "metadata": {},
      "outputs": [],
      "source": [
        "okul_kayit={\n",
        "    \"personel_bilgi\":\n",
        "        {\"cocuk\":{\"ali\":{\"sinif\":\"orta\", \"yas\":10},\n",
        "                  \"su\":{\"sinif\":\"baslangic\", \"yas\":8}\n",
        "                },\n",
        "         \"genc\":{\"yusuf\":{\"sinif\":\"lise\", \"yas\":19},\n",
        "                 \"meryem\":{\"sinif\":\"anadolu\", \"yas\":16}\n",
        "                 },\n",
        "         },\n",
        "        \n",
        "}\n",
        "print(okul_kayit[\"personel_bilgi\"][\"genc\"][\"meryem\"][\"yas\"])"
      ]
    },
    {
      "cell_type": "code",
      "execution_count": null,
      "metadata": {},
      "outputs": [],
      "source": [
        "okul_kayit={\n",
        "    \"personel_bilgi\":\n",
        "        {\"cocuk\":{\"ali\":{\"sinif\":\"orta\", \"yas\":10},\n",
        "                  \"su\":{\"sinif\":\"baslangic\", \"yas\":8}\n",
        "                },\n",
        "         \"genc\":{\"yusuf\":{\"sinif\":\"lise\", \"yas\":19},\n",
        "                 \"meryem\":{\"sinif\":\"anadolu\", \"yas\":16}\n",
        "                 },\n",
        "         },\n",
        "        \n",
        "}\n",
        "print(okul_kayit[\"personel_bilgi\"][\"cocuk\"][\"su\"][\"yas\"])"
      ]
    },
    {
      "cell_type": "code",
      "execution_count": null,
      "metadata": {},
      "outputs": [],
      "source": [
        "{x: x**2 for x in (2, 4,6)}\n",
        "dict(ahmet=31, mehmet=25, latif=29)"
      ]
    },
    {
      "cell_type": "code",
      "execution_count": null,
      "metadata": {},
      "outputs": [],
      "source": [
        "empty_set = set()\n",
        "colorset = {'mavi', 'kirmisi', 'turuncu'}\n",
        "s = set('kara')\n",
        "print(type(empty_set))\n",
        "print(type(colorset))\n",
        "print(s)"
      ]
    },
    {
      "cell_type": "code",
      "execution_count": null,
      "metadata": {},
      "outputs": [],
      "source": [
        "flower_list = ['rose', 'violet', 'menekse']\n",
        "flowerset = set(flower_list)\n",
        "flowerlist = list(flowerset)\n",
        "\n",
        "print(flowerset)\n",
        "print(flowerlist)"
      ]
    },
    {
      "cell_type": "code",
      "execution_count": null,
      "metadata": {},
      "outputs": [],
      "source": [
        "a = set('abracadabra')\n",
        "b =set('kalabalick')\n",
        "print(a)\n",
        "print(a - b)                    # a da olup b de olamayanlar(a fark b)\n",
        "print(a.difference(b))\n",
        "print(a | b)                    # a ve b birlesimi. (a U b) Birlesim\n",
        "print(a.union(b))\n",
        "a.remove('a')\n",
        "print(a)\n",
        "print(a & b)                    # a ve b de ayni olanlar (a n b) kesisim\n",
        "print(a.intersection(b))"
      ]
    },
    {
      "cell_type": "code",
      "execution_count": null,
      "metadata": {},
      "outputs": [],
      "source": [
        "a = set('abracadabra')\n",
        "#a.remove('a')\n",
        "#a.add('a')\n",
        "print(a)\n",
        "print(len(a), )"
      ]
    },
    {
      "cell_type": "code",
      "execution_count": null,
      "metadata": {},
      "outputs": [],
      "source": [
        "print(len(set('listen to the voice of enlisted')))\n"
      ]
    },
    {
      "cell_type": "code",
      "execution_count": null,
      "metadata": {},
      "outputs": [],
      "source": [
        "names = ['ahmet', 'mehmet']\n",
        "scores = []\n",
        "scores.append(32)\n",
        "scores.append(35)\n",
        "\n",
        "print(names)\n",
        "print(scores)\n",
        "print(scores[0])"
      ]
    },
    {
      "cell_type": "code",
      "execution_count": null,
      "metadata": {},
      "outputs": [],
      "source": [
        "aaaa = ['ahmet', 'mehmet', 'ahmdet']\n",
        "print(aaaa[0:3:])"
      ]
    },
    {
      "cell_type": "code",
      "execution_count": null,
      "metadata": {},
      "outputs": [],
      "source": [
        "from array import array\n",
        "scores = array('d')\n",
        "scores.append(92)\n",
        "scores.append(97)\n",
        "print(scores)\n",
        "print(scores[1])"
      ]
    },
    {
      "cell_type": "code",
      "execution_count": null,
      "metadata": {},
      "outputs": [],
      "source": [
        "person = {'first':'Christopher'}\n",
        "person['last'] = 'Harrison'\n",
        "print(person)\n",
        "print(person['last'])"
      ]
    },
    {
      "cell_type": "code",
      "execution_count": null,
      "metadata": {},
      "outputs": [],
      "source": [
        "ahmet = {}\n",
        "ahmet['first'] = 'Ahmet'\n",
        "ahmet['last'] = 'Kaya'\n",
        "\n",
        "mehmet = {}\n",
        "mehmet['first'] = 'Mehmet'\n",
        "mehmet['last'] = 'Daya'\n",
        "\n",
        "ilgililer = []\n",
        "ilgililer.append(ahmet)\n",
        "ilgililer.append(mehmet)\n",
        "ilgililer.append({\n",
        "    'first':'Veli', 'last':'Kara'\n",
        "})\n",
        "print(ilgililer)  "
      ]
    },
    {
      "cell_type": "code",
      "execution_count": null,
      "metadata": {},
      "outputs": [],
      "source": [
        "family_members = tuple(['Meghan', 'Tom', 'Nicole', 'Tim'])\n",
        "print(family_members)"
      ]
    },
    {
      "cell_type": "code",
      "execution_count": null,
      "metadata": {},
      "outputs": [],
      "source": [
        "num1 = input()\n",
        "num2 = input()\n",
        "num3 = (int(num1) - int(num2))\n",
        "print(num3)"
      ]
    },
    {
      "cell_type": "code",
      "execution_count": null,
      "metadata": {},
      "outputs": [],
      "source": [
        "import math\n",
        "r = 5\n",
        "area = math.pi*(r**2)\n",
        "print(area)\n",
        "print()"
      ]
    },
    {
      "cell_type": "code",
      "execution_count": null,
      "metadata": {},
      "outputs": [],
      "source": [
        "import math\n",
        "a = 2\n",
        "b = 8\n",
        "print(math.sqrt(a*b))"
      ]
    },
    {
      "cell_type": "code",
      "execution_count": null,
      "metadata": {},
      "outputs": [],
      "source": [
        "import math \n",
        "a = 3\n",
        "b = 4\n",
        "c = math.hypot(a,b)\n",
        "# c = (((a**2)+(b**2))**.5)\n",
        "print(c)"
      ]
    },
    {
      "cell_type": "code",
      "execution_count": null,
      "metadata": {},
      "outputs": [],
      "source": [
        "email = \"latif\\x40clarusway.com\"\n",
        "print(email, \"\\N{fire}\")"
      ]
    },
    {
      "cell_type": "code",
      "execution_count": null,
      "metadata": {},
      "outputs": [],
      "source": [
        "print(any([\"ahmet\", True, \"\"]))   # icinde bir tane True varsa True döndürür.\n",
        "print(all([\"ahmet\", True, \"\"]))    #  icinde hepsi True ise True döndürür."
      ]
    },
    {
      "cell_type": "code",
      "execution_count": null,
      "metadata": {},
      "outputs": [],
      "source": [
        "z = 5\n",
        "Zx = (1 /math.sqrt(2*math.pi))*math.exp(-z*z/2)\n",
        "print(Zx)"
      ]
    },
    {
      "cell_type": "code",
      "execution_count": null,
      "metadata": {},
      "outputs": [],
      "source": [
        "print(\"\\x61\")\n",
        "print(0x11)"
      ]
    },
    {
      "cell_type": "code",
      "execution_count": null,
      "metadata": {},
      "outputs": [],
      "source": [
        "if True :\n",
        "    print('karpuz')"
      ]
    },
    {
      "cell_type": "code",
      "execution_count": null,
      "metadata": {},
      "outputs": [],
      "source": [
        "empty_set = 14\n",
        "if empty_set > 13:\n",
        "    print(empty_set)"
      ]
    },
    {
      "cell_type": "code",
      "execution_count": null,
      "metadata": {},
      "outputs": [],
      "source": [
        "x = 6\n",
        "y = 7\n",
        "print(\"x y ye esitmi bi bak bakam \", x==y)\n",
        "\n",
        "\n",
        "course = \"top\"\n",
        "\n",
        "if course <= \"op\":\n",
        "    print(\"yupiuuuu\")\n",
        "else:\n",
        "    print(\"yuh\")   \n",
        "\n"
      ]
    },
    {
      "cell_type": "code",
      "execution_count": null,
      "metadata": {},
      "outputs": [],
      "source": [
        "sayi = 35\n",
        "if sayi < 30:\n",
        "    print(\"ok\")\n",
        "elif sayi > 25:\n",
        "    print(\"hadi bildin yine\")\n",
        "elif sayi == 331:\n",
        "    print()             # istedigimiz kadar eliff\n",
        "    \n",
        "else:\n",
        "    print(\"olmadi be müdür\")"
      ]
    },
    {
      "cell_type": "code",
      "execution_count": null,
      "metadata": {},
      "outputs": [],
      "source": [
        "number = 23\n",
        "if number >= 10:\n",
        "    print( 'The number is equal or greater than 10')\n",
        "else:\n",
        "    print('The number is less than 10')"
      ]
    },
    {
      "cell_type": "code",
      "execution_count": null,
      "metadata": {},
      "outputs": [],
      "source": [
        "price = 4\n",
        "if price >= 1.00:\n",
        "    tax = .07\n",
        "else:\n",
        "    tax = 0\n",
        "if price:\n",
        "    print(tax)"
      ]
    },
    {
      "cell_type": "code",
      "execution_count": 45,
      "metadata": {},
      "outputs": [
        {
          "name": "stdout",
          "output_type": "stream",
          "text": [
            "0\n",
            "1\n",
            "2\n",
            "3\n",
            "4\n",
            "5\n",
            "code 6 ya esit veya 6 dan büyüktür\n"
          ]
        }
      ],
      "source": [
        "code = 0\n",
        "while code < 6:\n",
        "    print(code)\n",
        "    code += 1\n",
        "print(\"code 6 ya esit veya 6 dan büyüktür\")"
      ]
    },
    {
      "cell_type": "code",
      "execution_count": 7,
      "metadata": {},
      "outputs": [
        {
          "name": "stdout",
          "output_type": "stream",
          "text": [
            "square of 0 is: 0\n",
            "square of 1 is: 1\n",
            "square of 2 is: 4\n",
            "square of 3 is: 9\n",
            "square of 4 is: 16\n"
          ]
        }
      ],
      "source": [
        "my_list = [\"a\", \"b\", \"c\", \"d\", \"e\"]\n",
        "a = 0\n",
        "while a < len(my_list):\n",
        "    print('square of {} is: {}'.format(a, a**2))\n",
        "    a+=1\n"
      ]
    },
    {
      "cell_type": "code",
      "execution_count": 61,
      "metadata": {},
      "outputs": [
        {
          "name": "stdout",
          "output_type": "stream",
          "text": [
            "Hadi Tahmin Et\n",
            "63 bildinnn yupppiyyyy\n"
          ]
        }
      ],
      "source": [
        "answer = 63\n",
        "question = \"Hadi numarayi bil bakalim\"\n",
        "print(\"Hadi Tahmin Et\")\n",
        "while True:\n",
        "    tahmin = int(input(question))\n",
        "    if tahmin < answer:\n",
        "        print(tahmin, \"biray daha yüksek :\")        \n",
        "    elif tahmin > answer:\n",
        "        print(tahmin, \"biraz daha kücük\")\n",
        "    else:\n",
        "        print(tahmin, \"bildinnn yupppiyyyy\")    \n",
        "        break    "
      ]
    },
    {
      "cell_type": "code",
      "execution_count": 56,
      "metadata": {},
      "outputs": [
        {
          "name": "stdout",
          "output_type": "stream",
          "text": [
            "Rose\n",
            "Orchid\n",
            "Tulip\n"
          ]
        }
      ],
      "source": [
        "flowers = ['Rose', 'Orchid', 'Tulip']\n",
        "count1 = len(flowers)\n",
        "count2 = 0\n",
        "\n",
        "while count1 > 0:\n",
        "    print(flowers[count2])\n",
        "    count1 -= 1\n",
        "    count2 += 1"
      ]
    },
    {
      "cell_type": "code",
      "execution_count": null,
      "metadata": {},
      "outputs": [],
      "source": []
    },
    {
      "cell_type": "code",
      "execution_count": 73,
      "metadata": {},
      "outputs": [
        {
          "name": "stdout",
          "output_type": "stream",
          "text": [
            "a\n",
            "h\n",
            "m\n",
            "e\n",
            "t\n"
          ]
        }
      ],
      "source": [
        "ahmet = [\"a\", \"h\", \"m\", \"e\", \"t\"]\n",
        "for ahmet in [\"a\",\"h\",\"m\",\"e\",\"t\"]:\n",
        "    print(ahmet, end='\\n')"
      ]
    },
    {
      "cell_type": "code",
      "execution_count": 71,
      "metadata": {},
      "outputs": [
        {
          "name": "stdout",
          "output_type": "stream",
          "text": [
            "n 1\n",
            "n 2\n"
          ]
        }
      ],
      "source": [
        "\n",
        "for i, j in {'n1': 'one', 'n2':'two'}:\n",
        "    print(i,j)"
      ]
    },
    {
      "cell_type": "code",
      "execution_count": 84,
      "metadata": {},
      "outputs": [
        {
          "name": "stdout",
          "output_type": "stream",
          "text": [
            "clarusway"
          ]
        }
      ],
      "source": [
        "noter = 'clarusway'\n",
        "for i in noter:\n",
        "    print(i, end=\"\")\n",
        "\n"
      ]
    },
    {
      "cell_type": "code",
      "execution_count": 88,
      "metadata": {},
      "outputs": [
        {
          "name": "stdout",
          "output_type": "stream",
          "text": [
            "Seni seviyorum range(0, 5) 0\n",
            "Seni seviyorum range(0, 5) 1\n",
            "Seni seviyorum range(0, 5) 2\n",
            "Seni seviyorum range(0, 5) 3\n",
            "Seni seviyorum range(0, 5) 4\n"
          ]
        }
      ],
      "source": [
        "girdi = int(input(\"Kac kez 'Seni Sevioyrum' yazmami istoyrsan yaz\"))\n",
        "for i in range(girdi):\n",
        "    print(\"Seni seviyorum\", range(girdi), i)"
      ]
    },
    {
      "cell_type": "code",
      "execution_count": 119,
      "metadata": {},
      "outputs": [
        {
          "name": "stdout",
          "output_type": "stream",
          "text": [
            "7*0 : 0\n",
            "7*0 : 0\n",
            "7*1 : 7\n",
            "7*1 : 7\n",
            "7*2 : 14\n",
            "7*2 : 14\n",
            "7*3 : 21\n",
            "7*3 : 21\n",
            "7*4 : 28\n",
            "7*4 : 28\n",
            "7*5 : 35\n",
            "7*5 : 35\n",
            "7*6 : 42\n",
            "7*6 : 42\n",
            "7*7 : 49\n",
            "7*7 : 49\n",
            "7*8 : 56\n",
            "7*8 : 56\n",
            "7*9 : 63\n",
            "7*9 : 63\n",
            "7*10 : 70\n",
            "7*10 : 70\n"
          ]
        }
      ],
      "source": [
        "x = int(input(\"1-10 arasi sayi gir\"))\n",
        "for i in range(11):\n",
        "    print(\"{}*{} :\".format(x,i), x*i)          # iceri cekme seysii\n",
        "    print('%s*%s :' % (x, i), i*x)          # secme seysi"
      ]
    },
    {
      "cell_type": "code",
      "execution_count": null,
      "metadata": {},
      "outputs": [],
      "source": [
        "print(abs(19))\n",
        "result = ((25 % 7 + 10 / 2) % 3 == 0) and ((abs(-19) / 2 - 2) > 9)\n",
        "print(result)\n",
        "print(pow(2, abs(3)))\n",
        "\n"
      ]
    },
    {
      "cell_type": "code",
      "execution_count": null,
      "metadata": {},
      "outputs": [],
      "source": [
        "city = \"kalem\"\n",
        "print(city[1:4:-2])"
      ]
    },
    {
      "cell_type": "code",
      "execution_count": 21,
      "metadata": {},
      "outputs": [
        {
          "name": "stdout",
          "output_type": "stream",
          "text": [
            "[0, 1, 2, 3, 4, 5, 6, 7, 8, 9, 10]\n",
            "0 1 2 3 4 5 6 7 8 9 10\n",
            "(0, 1, 2, 3, 4, 5, 6, 7, 8, 9, 10)\n",
            "al\n",
            "kalem\n",
            "k a l e m\n"
          ]
        }
      ],
      "source": [
        "a = list(range(11))\n",
        "b = set(range(11))\n",
        "c = tuple(range(11))\n",
        "d = \"kalem\"\n",
        "print(a)\n",
        "print(*b)\n",
        "print(c)\n",
        "print(d[-4:3])\n",
        "print(d[:])\n",
        "print(* d)"
      ]
    },
    {
      "cell_type": "code",
      "execution_count": 31,
      "metadata": {},
      "outputs": [
        {
          "name": "stdout",
          "output_type": "stream",
          "text": [
            "2 4 6 8 10 12 14 16\n",
            "s e p a r a t e\n"
          ]
        }
      ],
      "source": [
        "print(*range(2,17,2))\n",
        "print(*('separate'))"
      ]
    },
    {
      "cell_type": "code",
      "execution_count": 36,
      "metadata": {},
      "outputs": [
        {
          "name": "stdout",
          "output_type": "stream",
          "text": [
            "generosity wins in all circumstances\n"
          ]
        }
      ],
      "source": [
        "phrase = ('{2} {3} {1} {0}'.format('circumstances', 'in all', 'generosity', 'wins'))\n",
        "print(phrase)"
      ]
    },
    {
      "cell_type": "code",
      "execution_count": 43,
      "metadata": {},
      "outputs": [
        {
          "name": "stdout",
          "output_type": "stream",
          "text": [
            "generosity in all wins circumstances\n"
          ]
        }
      ],
      "source": [
        "condition = 'circumstances'\n",
        "morality = 'generosity'\n",
        "phrase = '{morality} {0} {1} {condition}'.format('in all', 'wins', condition = 'circumstances', morality = 'generosity')\n",
        "print(phrase)"
      ]
    },
    {
      "cell_type": "code",
      "execution_count": 46,
      "metadata": {},
      "outputs": [
        {
          "name": "stdout",
          "output_type": "stream",
          "text": [
            "8\n"
          ]
        }
      ],
      "source": [
        "print(f\"{2**3}\")"
      ]
    },
    {
      "cell_type": "code",
      "execution_count": 49,
      "metadata": {},
      "outputs": [
        {
          "name": "stdout",
          "output_type": "stream",
          "text": [
            "Hi latif My job is a IT\n"
          ]
        }
      ],
      "source": [
        "name = \"latif\"\n",
        "job = \"IT\"\n",
        "mesg = (\n",
        "    f\"Hi {name}\"\n",
        "    f\" My job is a {job}\"\n",
        ")\n",
        "print(mesg)"
      ]
    },
    {
      "cell_type": "code",
      "execution_count": 50,
      "metadata": {},
      "outputs": [
        {
          "name": "stdout",
          "output_type": "stream",
          "text": [
            "Hi latif My job is a IT\n"
          ]
        }
      ],
      "source": [
        "name = \"latif\"\n",
        "job = \"IT\"\n",
        "mesg = f\"Hi {name}\" \\\n",
        "    f\" My job is a {job}\" \n",
        "print(mesg)"
      ]
    },
    {
      "cell_type": "code",
      "execution_count": 54,
      "metadata": {},
      "outputs": [
        {
          "name": "stdout",
          "output_type": "stream",
          "text": [
            "('Hi', 'latif', ' My job is a ', 'IT')\n"
          ]
        }
      ],
      "source": [
        "name = \"latif\"\n",
        "job = \"IT\"\n",
        "mesg = (\"Hi\", name, \\\n",
        "    \" My job is a \", job)\n",
        "print(mesg)"
      ]
    },
    {
      "cell_type": "code",
      "execution_count": 62,
      "metadata": {},
      "outputs": [
        {
          "name": "stdout",
          "output_type": "stream",
          "text": [
            "Susan isa young lady and she is a student at theCLRWY IT university.\n"
          ]
        }
      ],
      "source": [
        "name = \"Susan\"\n",
        "age = \"young\"\n",
        "gender = \"lady\"\n",
        "school = \"CLRWY IT university\"\n",
        "msg = (\n",
        "f\"{name} is\" \\\n",
        "f\"a {age} \" \\\n",
        "f\"{gender} and she is a student at the\" \\\n",
        "f\"{school}.\"\n",
        ")\n",
        "print(msg)"
      ]
    },
    {
      "cell_type": "code",
      "execution_count": 87,
      "metadata": {},
      "outputs": [
        {
          "name": "stdout",
          "output_type": "stream",
          "text": [
            "10 8 6 4 2\n",
            "\n"
          ]
        }
      ],
      "source": [
        "print(* range(10,0,-2))\n",
        "print()"
      ]
    },
    {
      "cell_type": "code",
      "execution_count": 85,
      "metadata": {},
      "outputs": [
        {
          "name": "stdout",
          "output_type": "stream",
          "text": [
            "<class 'float'>\n"
          ]
        }
      ],
      "source": [
        "\n",
        "num2 = 2\n",
        "num1 = 13.67\n",
        "num2 //= num1\n",
        "print(type(num2))"
      ]
    },
    {
      "cell_type": "code",
      "execution_count": 2,
      "metadata": {},
      "outputs": [
        {
          "name": "stdout",
          "output_type": "stream",
          "text": [
            "10 8 6 4 2\n"
          ]
        }
      ],
      "source": [
        "print(*range(10,0,-2))"
      ]
    },
    {
      "cell_type": "code",
      "execution_count": 89,
      "metadata": {},
      "outputs": [
        {
          "name": "stdout",
          "output_type": "stream",
          "text": [
            "one : 1\n",
            "two : 2\n",
            "three : 3\n",
            "four : 4\n",
            "five : 5\n"
          ]
        }
      ],
      "source": [
        "text = ['one', 'two', 'three', 'four', 'five']\n",
        "number = [1, 2, 3, 4, 5]\n",
        "for x,y in zip(text, number):\n",
        "    print(x, ':', y )"
      ]
    },
    {
      "cell_type": "code",
      "execution_count": 94,
      "metadata": {},
      "outputs": [
        {
          "name": "stdout",
          "output_type": "stream",
          "text": [
            "I am  happy\n",
            "I am  confident\n",
            "You are happy\n",
            "You are confident\n"
          ]
        }
      ],
      "source": [
        "who = ['I am ', 'You are']\n",
        "mood = ['happy', 'confident']\n",
        "\n",
        "for i in who:\n",
        "    for ii in mood:\n",
        "        print(i,ii)\n"
      ]
    },
    {
      "cell_type": "code",
      "execution_count": 96,
      "metadata": {},
      "outputs": [
        {
          "name": "stdout",
          "output_type": "stream",
          "text": [
            "0\n",
            "1\n"
          ]
        }
      ],
      "source": [
        "for index in range(0, 2):\n",
        "    print(index)"
      ]
    },
    {
      "cell_type": "code",
      "execution_count": 97,
      "metadata": {},
      "outputs": [
        {
          "name": "stdout",
          "output_type": "stream",
          "text": [
            "I am \n",
            "You are\n"
          ]
        }
      ],
      "source": [
        "who = ['I am ', 'You are']\n",
        "index = 0\n",
        "while index < len(who):\n",
        "    print(who[index])\n",
        "    index += 1"
      ]
    },
    {
      "cell_type": "code",
      "execution_count": 102,
      "metadata": {},
      "outputs": [
        {
          "name": "stdout",
          "output_type": "stream",
          "text": [
            "Fazla Kilo\n"
          ]
        }
      ],
      "source": [
        "boy = float(input(\"Boyuzu giriniz ' örnegin: 1.72'\"))\n",
        "kilo = float(input(\"Kilonuzu giriniz ' örnegin: 80'\"))\n",
        "vki = kilo / boy**2\n",
        "if vki < 18.5:\n",
        "    print(\"Düsük Kilolu\")\n",
        "elif 18.5 <= vki <=24.99:\n",
        "    print(\"Normal Kilo\")\n",
        "elif 25 <= vki <=29.99:\n",
        "    print(\"Fazla Kilo\")\n",
        "else:\n",
        "    print(\"Obez\")"
      ]
    },
    {
      "cell_type": "code",
      "execution_count": 10,
      "metadata": {},
      "outputs": [
        {
          "name": "stdout",
          "output_type": "stream",
          "text": [
            "If we had bought $2000 crypto coins at the weekend, we would have had $4,152.32 with a profit share of 11% after 5 days.\n",
            "If we had bought $2000 crypto coins at the weekend, we would have had $4,152.32 with a profit share of 11% after 5 days.\n"
          ]
        }
      ],
      "source": [
        "#Text : “If we had bought $2000 crypto coins at the weekend, we would have had $4,152.32 with a profit share of 11% after 5 days.”\n",
        "num1 = \"$2000\"\n",
        "num2 = \"$4,152.32\"\n",
        "num3 =  \"11%\"\n",
        "num4 =  \"5\"\n",
        "text1 = (\n",
        "    f\"If we had bought {num1} \" \\\n",
        "    f\"crypto coins at the weekend, we would have had {num2} \" \\\n",
        "    f\"with a profit share of {num3} \" \\\n",
        "    f\"after {num4} days.\"\n",
        ")\n",
        "\n",
        "text2 = \"If we had bought {} crypto coins at the weekend, \\\n",
        "we would have had {} with a profit share of {} \\\n",
        "after {} days.\".format(num1, num2, num3, num4)\n",
        "\n",
        "print(text1)\n",
        "print(text2)"
      ]
    },
    {
      "cell_type": "code",
      "execution_count": 12,
      "metadata": {},
      "outputs": [
        {
          "name": "stdout",
          "output_type": "stream",
          "text": [
            "bu bir Cift sayidir\n"
          ]
        }
      ],
      "source": [
        "sayi = int(input(\"Bir sayi giriniz\"))\n",
        "num1 = bool(sayi%2)\n",
        "print(num1 and \"Bu bir Tek sayidir\" or \"Bu bir Cift sayidir\")\n"
      ]
    },
    {
      "cell_type": "code",
      "execution_count": 5,
      "metadata": {},
      "outputs": [
        {
          "name": "stdout",
          "output_type": "stream",
          "text": [
            "4\n",
            "120\n",
            "0b255\n",
            "1996\n"
          ]
        }
      ],
      "source": [
        "import random\n",
        "print(random.randrange(40))\n",
        "\n",
        "\n",
        "f = 1\n",
        "724\n",
        "n = 5\n",
        "for i in range(1,6):\n",
        "    f = f*i\n",
        "print(f)\n",
        "print(\"0b{}\".format(255))\n",
        "print(998*2)\n"
      ]
    },
    {
      "cell_type": "code",
      "execution_count": 69,
      "metadata": {},
      "outputs": [
        {
          "name": "stdout",
          "output_type": "stream",
          "text": [
            "armut\n"
          ]
        }
      ],
      "source": [
        "import random\n",
        "\n",
        "liste = ['elma', 'armut', 'şeftali', 'kiraz', 'muz', 'üzüm', 'erik']\n",
        "print(random.choice(liste))\n"
      ]
    },
    {
      "cell_type": "code",
      "execution_count": 85,
      "metadata": {},
      "outputs": [
        {
          "name": "stdout",
          "output_type": "stream",
          "text": [
            "You must save more, keep saving!\n"
          ]
        }
      ],
      "source": [
        "saved_amount = int(input('Please enter your saved amount: '))\n",
        "ps4_price = 300\n",
        "if saved_amount <= ps4_price/2:\n",
        "    print(\"You must save more, keep saving!\")\n",
        "\n",
        "    \n",
        "elif saved_amount >= ps4_price:\n",
        "    print(\"Yippee! You can buy your PS4\")\n",
        "else:\n",
        "    print(\"You saved more than half, keep saving!\")"
      ]
    },
    {
      "cell_type": "code",
      "execution_count": 87,
      "metadata": {},
      "outputs": [
        {
          "name": "stdout",
          "output_type": "stream",
          "text": [
            "Yippee! You can buy your PS4\n"
          ]
        }
      ],
      "source": [
        "saved_amount = int(input('Please enter your saved amount: '))\n",
        "ps4_price = 300\n",
        "if saved_amount <= (ps4_price/2):\n",
        "    print(\"You must save more, keep saving!\")\n",
        "elif saved_amount >= ps4_price:\n",
        "    print(\"Yippee! You can buy your PS4\")\n",
        "else:\n",
        "    print(\"You saved more than half, keep saving!\")"
      ]
    },
    {
      "cell_type": "code",
      "execution_count": 96,
      "metadata": {},
      "outputs": [
        {
          "name": "stdout",
          "output_type": "stream",
          "text": [
            "100 den büyük Tekrar gir\n"
          ]
        }
      ],
      "source": [
        "math_mark = int(input('Please enter the mark: '))\n",
        "\n",
        "if math_mark < 45:\n",
        "    if math_mark < 0:\n",
        "        print(\"0 dan kücük sayi. Lütfen tekrar deneyiniz!!!!!\")\n",
        "    else:\n",
        "        print(\"F (Failed)\")\n",
        "elif math_mark < 60:\n",
        "    print(\"D (Not Bad)\")\n",
        "elif math_mark < 70:\n",
        "    print(\"C (Medium)\")\n",
        "elif math_mark < 85:\n",
        "    print(\"B (Good)\")\n",
        "elif math_mark < 101:\n",
        "    print(\"A (Excellent)\")\n",
        "else:\n",
        "    print(\"100 den büyük Tekrar gir\")\n",
        "        "
      ]
    },
    {
      "cell_type": "code",
      "execution_count": 13,
      "metadata": {},
      "outputs": [
        {
          "name": "stdout",
          "output_type": "stream",
          "text": [
            "<class 'dict'>\n"
          ]
        }
      ],
      "source": [
        "x = {\"name\" : \"John\", \"age\" : 36}\n",
        "print(type(x))\n"
      ]
    },
    {
      "cell_type": "code",
      "execution_count": 12,
      "metadata": {},
      "outputs": [
        {
          "name": "stdout",
          "output_type": "stream",
          "text": [
            "Python is fantastic\n",
            "Python is awesome\n"
          ]
        }
      ],
      "source": [
        "x = \"awesome\"\n",
        "\n",
        "def myfunc():\n",
        "  x = \"fantastic\"\n",
        "  print(\"Python is \" + x)\n",
        "\n",
        "myfunc()\n",
        "\n",
        "print(\"Python is \" + x)"
      ]
    },
    {
      "cell_type": "code",
      "execution_count": 16,
      "metadata": {},
      "outputs": [
        {
          "ename": "TypeError",
          "evalue": "int() argument must be a string, a bytes-like object or a real number, not 'complex'",
          "output_type": "error",
          "traceback": [
            "\u001b[1;31m---------------------------------------------------------------------------\u001b[0m",
            "\u001b[1;31mTypeError\u001b[0m                                 Traceback (most recent call last)",
            "Cell \u001b[1;32mIn [16], line 3\u001b[0m\n\u001b[0;32m      1\u001b[0m x \u001b[39m=\u001b[39m \u001b[39m5\u001b[39m\n\u001b[0;32m      2\u001b[0m x \u001b[39m=\u001b[39m\u001b[39mcomplex\u001b[39m(x)\n\u001b[1;32m----> 3\u001b[0m \u001b[39mprint\u001b[39m(\u001b[39mint\u001b[39;49m(x))\n",
            "\u001b[1;31mTypeError\u001b[0m: int() argument must be a string, a bytes-like object or a real number, not 'complex'"
          ]
        }
      ],
      "source": [
        "x = 5\n",
        "x =complex(x)\n",
        "print(int(x))"
      ]
    },
    {
      "cell_type": "code",
      "execution_count": 1,
      "metadata": {},
      "outputs": [
        {
          "name": "stdout",
          "output_type": "stream",
          "text": [
            "Vücut kitle endeksiniz : 18.93\n",
            "Kilonuz normal degil\n"
          ]
        }
      ],
      "source": [
        "kilo = int(input(\"Kilonuzu giriniz: \"))\n",
        "boy = float(input(\"Boyunuzu giriniz: \"))\n",
        "vki = kilo/boy**2\n",
        "print(f\"Vücut kitle endeksiniz : {vki:.2f}\")\n",
        "print((19.00<vki<25.00) and \"Kilonuz Normal\" or \"Kilonuz normal degil\")"
      ]
    },
    {
      "cell_type": "code",
      "execution_count": 16,
      "metadata": {},
      "outputs": [
        {
          "name": "stdout",
          "output_type": "stream",
          "text": [
            "ssää\n"
          ]
        }
      ],
      "source": [
        "Sicaklik_F = int(input(\"Sicakligi Fahrenheit olarak giriniz\"))\n",
        "print(Sicaklik_F,\"T(Fahrenheit) =\", ((Sicaklik_F-32)*5/9):.2f, \"T(Celcius) dur\")\n",
        "A = \"ßÄä\"\n",
        "print(A.casefold())"
      ]
    },
    {
      "cell_type": "code",
      "execution_count": 35,
      "metadata": {},
      "outputs": [
        {
          "name": "stdout",
          "output_type": "stream",
          "text": [
            "6\n",
            "7\n"
          ]
        },
        {
          "ename": "ValueError",
          "evalue": "substring not found",
          "output_type": "error",
          "traceback": [
            "\u001b[1;31m---------------------------------------------------------------------------\u001b[0m",
            "\u001b[1;31mValueError\u001b[0m                                Traceback (most recent call last)",
            "Cell \u001b[1;32mIn [35], line 8\u001b[0m\n\u001b[0;32m      6\u001b[0m \u001b[38;5;28mprint\u001b[39m(ikinci_index)\n\u001b[0;32m      7\u001b[0m email \u001b[38;5;241m=\u001b[39m email[(ikinci_index\u001b[38;5;241m+\u001b[39m\u001b[38;5;241m1\u001b[39m):]\n\u001b[1;32m----> 8\u001b[0m ücüncü_index \u001b[38;5;241m=\u001b[39m \u001b[43memail\u001b[49m\u001b[38;5;241;43m.\u001b[39;49m\u001b[43mindex\u001b[49m\u001b[43m(\u001b[49m\u001b[38;5;124;43m\"\u001b[39;49m\u001b[38;5;124;43m3\u001b[39;49m\u001b[38;5;124;43m\"\u001b[39;49m\u001b[43m)\u001b[49m\u001b[38;5;241m+\u001b[39mikinci_index\u001b[38;5;241m+\u001b[39m\u001b[38;5;241m1\u001b[39m\n\u001b[0;32m      9\u001b[0m \u001b[38;5;28mprint\u001b[39m(ücüncü_index)\n\u001b[0;32m     10\u001b[0m \u001b[38;5;124;03m\"\"\"print(\"@\" in email)\u001b[39;00m\n\u001b[0;32m     11\u001b[0m \u001b[38;5;124;03mprint(email.startswith(\"latif\"))\u001b[39;00m\n\u001b[0;32m     12\u001b[0m \u001b[38;5;124;03mprint(email.endswith(\".com\"))\"\"\"\u001b[39;00m\n",
            "\u001b[1;31mValueError\u001b[0m: substring not found"
          ]
        }
      ],
      "source": [
        "email = \"latif.33@gmail.com\"\n",
        "ilk_index = email.find(\"3\")\n",
        "print(ilk_index)\n",
        "email = email[(ilk_index+1):]\n",
        "ikinci_index = email.find(\"3\")+ilk_index+1\n",
        "print(ikinci_index)\n",
        "email = email[(ikinci_index+1):]\n",
        "ücüncü_index = email.index(\"3\")+ikinci_index+1\n",
        "print(ücüncü_index)\n",
        "\"\"\"print(\"@\" in email)\n",
        "print(email.startswith(\"latif\"))\n",
        "print(email.endswith(\".com\"))\"\"\""
      ]
    },
    {
      "cell_type": "code",
      "execution_count": 46,
      "metadata": {},
      "outputs": [
        {
          "ename": "SyntaxError",
          "evalue": "invalid syntax (72270222.py, line 3)",
          "output_type": "error",
          "traceback": [
            "\u001b[1;36m  Cell \u001b[1;32mIn [46], line 3\u001b[1;36m\u001b[0m\n\u001b[1;33m    print(email.endswith(@,5))\u001b[0m\n\u001b[1;37m                         ^\u001b[0m\n\u001b[1;31mSyntaxError\u001b[0m\u001b[1;31m:\u001b[0m invalid syntax\n"
          ]
        }
      ],
      "source": [
        "\n",
        "email = \"latif.33@gmail.com\"\n",
        "print(\"@\" in email)\n",
        "print(email.endswith(\"@\"))\n",
        "\n",
        "a =list(e)\n"
      ]
    },
    {
      "cell_type": "code",
      "execution_count": 32,
      "metadata": {},
      "outputs": [
        {
          "name": "stdout",
          "output_type": "stream",
          "text": [
            "paragraf 3 cümleden olusmaktadir\n"
          ]
        }
      ],
      "source": [
        "text = \"\"\"\n",
        "Data preprocessing is an important task in text classification. \n",
        "This program counts words in a sentence. \n",
        "It starts with space separated words.\n",
        "\"\"\"\n",
        "print(\"paragraf\", text.count(\".\"), \"cümleden olusmaktadir\") 'aradigimiz seyden kac tane var'"
      ]
    },
    {
      "cell_type": "code",
      "execution_count": 44,
      "metadata": {},
      "outputs": [
        {
          "name": "stdout",
          "output_type": "stream",
          "text": [
            "132\n",
            "8\n",
            "8\n",
            "6\n"
          ]
        }
      ],
      "source": [
        "text = \"\"\"\n",
        "Data preprocessing is an important task in text classification.\n",
        "This program counts words in a sentence.\n",
        "It starts with space separated words.\n",
        "\"\"\"\n",
        "email = \"latif.33@gmail.com\"\n",
        "print(text.rfind(\"a\"))\n",
        "print(email.find(\"@g\"))\n",
        "print(email.rfind(\"@g\"))\n",
        "print(email.index(\"\"))"
      ]
    },
    {
      "cell_type": "code",
      "execution_count": 160,
      "metadata": {},
      "outputs": [
        {
          "ename": "SyntaxError",
          "evalue": "invalid syntax (3425807936.py, line 3)",
          "output_type": "error",
          "traceback": [
            "\u001b[1;36m  Cell \u001b[1;32mIn [160], line 3\u001b[1;36m\u001b[0m\n\u001b[1;33m    circle = [i for i,x in enumerate(email) x==char]\u001b[0m\n\u001b[1;37m                                            ^\u001b[0m\n\u001b[1;31mSyntaxError\u001b[0m\u001b[1;31m:\u001b[0m invalid syntax\n"
          ]
        }
      ],
      "source": [
        "email = \"latif.33@gmail.com\"\n",
        "char = input(\"girinizz\")\n",
        "circle = [i for i,x in enumerate(email) x==char]\n",
        "a = tuple(enumerate(email))\n",
        "b = a.index()\n",
        "print(a)"
      ]
    },
    {
      "cell_type": "code",
      "execution_count": 1,
      "metadata": {},
      "outputs": [
        {
          "name": "stdout",
          "output_type": "stream",
          "text": [
            "0 indexinde l harfi vardir\n",
            "1 indexinde a harfi vardir\n",
            "2 indexinde t harfi vardir\n",
            "3 indexinde i harfi vardir\n",
            "4 indexinde f harfi vardir\n",
            "5 indexinde . harfi vardir\n",
            "6 indexinde 3 harfi vardir\n",
            "7 indexinde 3 harfi vardir\n",
            "8 indexinde @ harfi vardir\n",
            "9 indexinde g harfi vardir\n",
            "10 indexinde m harfi vardir\n",
            "11 indexinde a harfi vardir\n",
            "12 indexinde i harfi vardir\n",
            "13 indexinde l harfi vardir\n",
            "14 indexinde . harfi vardir\n",
            "15 indexinde c harfi vardir\n",
            "16 indexinde o harfi vardir\n",
            "17 indexinde m harfi vardir\n"
          ]
        }
      ],
      "source": [
        "email = \"latif.33@gmail.com\"\n",
        "deger = len(email)\n",
        "for i in range(deger):\n",
        "    print(f\"{i} indexinde {email[i]} harfi vardir\")\n",
        "a = list(enumerate(email))   \n",
        "b = zip(a[0])"
      ]
    },
    {
      "cell_type": "code",
      "execution_count": 17,
      "metadata": {},
      "outputs": [
        {
          "name": "stdout",
          "output_type": "stream",
          "text": [
            "[1, 11]\n"
          ]
        }
      ],
      "source": [
        "email = \"Latif.33@gmail.com\"\n",
        "harf = input(\"Aradiginiz harfi giriniz\")\n",
        "konumlar = [i for i, x in enumerate(email) if x == harf]\n",
        "print(konumlar)\n"
      ]
    },
    {
      "cell_type": "code",
      "execution_count": 63,
      "metadata": {},
      "outputs": [
        {
          "name": "stdout",
          "output_type": "stream",
          "text": [
            "Gelatasaray\n",
            "gALATASARAY\n",
            "00000000Galatasaray\n",
            "Galatasaray\n"
          ]
        }
      ],
      "source": [
        "text = \"Galatasaray\"\n",
        "text2 = text.replace(\"a\", \"e\", 1)\n",
        "print(text2)\n",
        "print(text.swapcase())\n",
        "print(text.zfill(19))\n",
        "print(text.center(5))"
      ]
    },
    {
      "cell_type": "code",
      "execution_count": 75,
      "metadata": {},
      "outputs": [
        {
          "name": "stdout",
          "output_type": "stream",
          "text": [
            "I LIVE AND WORK IN VIRGINIA\n",
            "i live and work in virginia\n",
            "i LIVE AND WORK IN vIRGINIA\n",
            "I live and work in virginia\n",
            "I Live And Work In Virginia\n",
            "Iliveandworkinvirginia\n"
          ]
        }
      ],
      "source": [
        "x = \"I live and work in Virginia\"\n",
        "print(x.upper())\n",
        "print(x.lower())\n",
        "xa = x.swapcase()\n",
        "print(xa)\n",
        "xa = xa.capitalize()    #  ilk harfi büyük yapiyor geri kalanlari kücük harfe cevirir.\n",
        "print(xa)\n",
        "print(xa.title())\n",
        "print(xa.replace(\" \", \"\"))"
      ]
    },
    {
      "cell_type": "code",
      "execution_count": 69,
      "metadata": {},
      "outputs": [
        {
          "name": "stdout",
          "output_type": "stream",
          "text": [
            "The Better The Family, The Better The Society\n",
            "The better the family, the better the society\n"
          ]
        }
      ],
      "source": [
        "text = 'the better the family, the better the society'\n",
        "print(text.title())\n",
        "print(text.capitalize())"
      ]
    },
    {
      "cell_type": "code",
      "execution_count": 113,
      "metadata": {},
      "outputs": [
        {
          "name": "stdout",
          "output_type": "stream",
          "text": [
            "    Sodome and Gomore   \n",
            "d0me and G0m\n",
            "    S0d0me and G0m0\n",
            "0d0me and G0m0re   \n",
            "    S0d0me and G0m0\n"
          ]
        }
      ],
      "source": [
        "x = \"    S0d0me and G0m0re   \"\n",
        "print(x.replace(\"0\", \"o\"))\n",
        "print(x.strip('oeS0r  '))\n",
        "print(x.rstrip(\"re \"))\n",
        "print(x.lstrip(\" Se\"))\n",
        "print(x.removesuffix(\"re   \"))"
      ]
    },
    {
      "cell_type": "code",
      "execution_count": null,
      "metadata": {},
      "outputs": [],
      "source": [
        "x = \"\""
      ]
    },
    {
      "cell_type": "code",
      "execution_count": 114,
      "metadata": {},
      "outputs": [
        {
          "name": "stdout",
          "output_type": "stream",
          "text": [
            "YOU CAN LEARN ALMOST EVERYTHING IN PRE-CLASS\n"
          ]
        }
      ],
      "source": [
        "text = 'tyou can learn almost everything in pre-classz'\n",
        "\n",
        "print(text.strip('zt').upper())"
      ]
    },
    {
      "cell_type": "code",
      "execution_count": 27,
      "metadata": {},
      "outputs": [
        {
          "name": "stdout",
          "output_type": "stream",
          "text": [
            "karabasan 6.00 ahmet 7 \n"
          ]
        }
      ],
      "source": [
        "#Task-7:\n",
        "    \n",
        "#text = 'In % God wee  % Trust' %  (hee ,5)\n",
        "\n",
        "#print(text.replace(\"we\", \"w\"))\n",
        "print('karabasan %.2f ahmet %i ' %(6, 7))"
      ]
    },
    {
      "cell_type": "code",
      "execution_count": 17,
      "metadata": {},
      "outputs": [
        {
          "name": "stdout",
          "output_type": "stream",
          "text": [
            "Good teachers know how to bring out the best in students.\n",
            "Good teachers know how to bring out the best in students. \n"
          ]
        }
      ],
      "source": [
        "print(\"Good teachers know how to bring out the best in students.\" )\n",
        "print('{9} {7} {1} {10} {3} {2} {5} {8} {6} {0} {4} ' \\\n",
        "      .format('in', 'know', 'bring', 'to', 'students.', 'out', 'best', 'teachers', 'the', 'Good', 'how'))"
      ]
    },
    {
      "cell_type": "code",
      "execution_count": 2,
      "metadata": {},
      "outputs": [
        {
          "name": "stdout",
          "output_type": "stream",
          "text": [
            "0\n",
            "1\n",
            "4\n"
          ]
        }
      ],
      "source": [
        "number = int(input('Please enter a number: '))\n",
        "i = 0\n",
        "while i < number:\n",
        "    print(i**2)\n",
        "    i +=1"
      ]
    },
    {
      "cell_type": "code",
      "execution_count": 32,
      "metadata": {},
      "outputs": [
        {
          "data": {
            "text/plain": [
              "'                 right aligned'"
            ]
          },
          "execution_count": 32,
          "metadata": {},
          "output_type": "execute_result"
        }
      ],
      "source": [
        "'{:>30}'.format(\"right aligned\")\n",
        "#format(\"right aligned\", '>30s')"
      ]
    },
    {
      "cell_type": "code",
      "execution_count": 60,
      "metadata": {},
      "outputs": [
        {
          "name": "stdout",
          "output_type": "stream",
          "text": [
            "Bu python dosyasi\n",
            "6\n"
          ]
        }
      ],
      "source": [
        "ifade = \"dosya.py\"\n",
        "kalem = ifade.find(\"py\")\n",
        "print((kalem>0) and \"Bu python dosyasi\" or \"pyton dosayasi degil\")\n",
        "#kalem = ifade.endswith(\"py\")\n",
        "#kagit = ifade.endswith(\"ipynb\")\n",
        "#print((kalem or kagit) and \"öyle\" or \"degil\" )\n",
        "print(kalem)\n"
      ]
    },
    {
      "cell_type": "code",
      "execution_count": 42,
      "metadata": {},
      "outputs": [
        {
          "name": "stdout",
          "output_type": "stream",
          "text": [
            "['K', 'a', 'l', 'e', 'm']\n"
          ]
        }
      ],
      "source": [
        "liste = \"Kalem\"\n",
        "list2 =list(liste)\n",
        "print(list2)"
      ]
    },
    {
      "cell_type": "code",
      "execution_count": 52,
      "metadata": {},
      "outputs": [
        {
          "name": "stdout",
          "output_type": "stream",
          "text": [
            "['I', 'quite', 'smoking']\n"
          ]
        }
      ],
      "source": [
        "listem = \"I quite smoking\"\n",
        "new_list_1 = [listem]\n",
        "new_list_1\n",
        "len(new_list_1)\n",
        "listem1 = listem.split()\n",
        "print(listem1) \n"
      ]
    },
    {
      "cell_type": "code",
      "execution_count": 51,
      "metadata": {},
      "outputs": [
        {
          "data": {
            "text/plain": [
              "['ankara', 'mus', 'diyarbakir']"
            ]
          },
          "execution_count": 51,
          "metadata": {},
          "output_type": "execute_result"
        }
      ],
      "source": [
        "listem = [\"ankara\", \"mus\", \"diyarbakir\"]\n",
        "listem1 = \"ankara, mus, diyarbakir\"\n",
        "listem2 = listem1.split(\", \")\n",
        "listem2"
      ]
    },
    {
      "cell_type": "code",
      "execution_count": 63,
      "metadata": {},
      "outputs": [
        {
          "name": "stdout",
          "output_type": "stream",
          "text": [
            "[11, 'Joseph', False, 3.14, None, [1, 2, 3]]\n",
            "[11, 'Joseph', False, 3.14, None, [1, 2, 3]]\n",
            "<class 'list'>\n",
            "[11, 'Joseph', False, 3.14, None, [1, 2, 3]]\n"
          ]
        }
      ],
      "source": [
        "mix_list = [11, 'Joseph', False, 3.14, None, [1,2,3]]\n",
        "print(list(mix_list))\n",
        "print(list(mix_list))\n",
        "print(type(mix_list[5]))\n",
        "new_list = [mix_list]\n",
        "print(mix_list)"
      ]
    },
    {
      "cell_type": "code",
      "execution_count": 74,
      "metadata": {},
      "outputs": [
        {
          "name": "stdout",
          "output_type": "stream",
          "text": [
            "['2', '0', '2', '0', \"'\", 's', ' ', 'h', 'a', 'r', 'd']\n",
            "[\"2020's hard\"]\n"
          ]
        }
      ],
      "source": [
        "listem = \"2020's hard\"\n",
        "listem2 = [listem]\n",
        "listem1 = list(listem)\n",
        "print(listem1)\n",
        "print(listem2)"
      ]
    },
    {
      "cell_type": "code",
      "execution_count": 76,
      "metadata": {},
      "outputs": [
        {
          "name": "stdout",
          "output_type": "stream",
          "text": [
            "['p', 'i', 't', 'h', 'o', 'n']\n",
            "pithon\n"
          ]
        }
      ],
      "source": [
        "text = \"python\"\n",
        "my_list = list(text)\n",
        "my_list[1] = \"i\"\n",
        "print(my_list)\n",
        "text = \"\".join(my_list)\n",
        "print(text)\n",
        "help(\"\".join) \n"
      ]
    },
    {
      "cell_type": "code",
      "execution_count": 77,
      "metadata": {},
      "outputs": [
        {
          "name": "stdout",
          "output_type": "stream",
          "text": [
            "Help on built-in function join:\n",
            "\n",
            "join(iterable, /) method of builtins.str instance\n",
            "    Concatenate any number of strings.\n",
            "    \n",
            "    The string whose method is called is inserted in between each given string.\n",
            "    The result is returned as a new string.\n",
            "    \n",
            "    Example: '.'.join(['ab', 'pq', 'rs']) -> 'ab.pq.rs'\n",
            "\n"
          ]
        }
      ],
      "source": [
        "help(\"\".join) "
      ]
    },
    {
      "cell_type": "code",
      "execution_count": 78,
      "metadata": {},
      "outputs": [
        {
          "data": {
            "text/plain": [
              "[1, 4, 7, 9]"
            ]
          },
          "execution_count": 78,
          "metadata": {},
          "output_type": "execute_result"
        }
      ],
      "source": [
        "#\n",
        "my_list = [1, 4, 7]\n",
        "my_list.append(9)\n",
        "my_list"
      ]
    },
    {
      "cell_type": "code",
      "execution_count": 80,
      "metadata": {},
      "outputs": [
        {
          "data": {
            "text/plain": [
              "[6666, 'multiverse', [0]]"
            ]
          },
          "execution_count": 80,
          "metadata": {},
          "output_type": "execute_result"
        }
      ],
      "source": [
        "my_list = []\n",
        "my_list.append(6666)\n",
        "my_list.append('multiverse')\n",
        "my_list.append([0])\n",
        "my_list"
      ]
    },
    {
      "cell_type": "code",
      "execution_count": 89,
      "metadata": {},
      "outputs": [
        {
          "data": {
            "text/plain": [
              "[1, 2, 3, 4, 5]"
            ]
          },
          "execution_count": 89,
          "metadata": {},
          "output_type": "execute_result"
        }
      ],
      "source": [
        "list3 = [1,2,3,4]\n",
        "list3.insert(7,5)\n",
        "#list4 = [5,6,7,8]\n",
        "#list3.extend(list4)   #   listeyi genisletiyor\n",
        "list3"
      ]
    },
    {
      "cell_type": "code",
      "execution_count": null,
      "metadata": {},
      "outputs": [],
      "source": [
        "numbers = [1, 4, 7]\n",
        "numbers.insert(2,9)\n",
        "print(numbers)\n",
        "number"
      ]
    },
    {
      "cell_type": "code",
      "execution_count": 106,
      "metadata": {},
      "outputs": [
        {
          "name": "stdout",
          "output_type": "stream",
          "text": [
            "[1, 4, 9]\n"
          ]
        },
        {
          "data": {
            "text/plain": [
              "[1, 4, 9]"
            ]
          },
          "execution_count": 106,
          "metadata": {},
          "output_type": "execute_result"
        }
      ],
      "source": [
        "numbers = [1, 4, 7, 9]\n",
        "numbers.remove(7)\n",
        "print(numbers)\n",
        "numbers"
      ]
    },
    {
      "cell_type": "code",
      "execution_count": 158,
      "metadata": {},
      "outputs": [
        {
          "name": "stdout",
          "output_type": "stream",
          "text": [
            "['ankara', 'mus', 'diyarbakir']\n",
            "[1, 7, 9]\n"
          ]
        }
      ],
      "source": [
        "numbers = [1, 4, 7, 9]\n",
        "listem = [\"ankara\", \"mus\", \"diyarbakir\"]\n",
        "numbers.pop(1)\n",
        "print(listem)\n",
        "print(numbers)\n"
      ]
    },
    {
      "cell_type": "code",
      "execution_count": 117,
      "metadata": {},
      "outputs": [
        {
          "name": "stdout",
          "output_type": "stream",
          "text": [
            "[9, 8, 7, 4, 3, 1]\n",
            "[1, 3, 4, 7, 8, 9]\n",
            "[9, 8, 7, 4, 3, 1]\n"
          ]
        }
      ],
      "source": [
        "numbers = [1, 4, 8, 3, 7, 9]\n",
        "numbers.sort(reverse=True)\n",
        "print(numbers)\n",
        "numbers.sort() #kucukten buyuge siraliyor\n",
        "print(numbers)\n",
        "numbers.reverse() # ters ceriryor\n",
        "print(numbers)"
      ]
    },
    {
      "cell_type": "code",
      "execution_count": 118,
      "metadata": {},
      "outputs": [
        {
          "data": {
            "text/plain": [
              "[1, 3, 4, 7, 8, 9]"
            ]
          },
          "execution_count": 118,
          "metadata": {},
          "output_type": "execute_result"
        }
      ],
      "source": [
        "numbers = [1, 4, 8, 3, 7, 9]\n",
        "nubers_sorted = sorted(numbers)\n",
        "nubers_sorted"
      ]
    },
    {
      "cell_type": "code",
      "execution_count": 122,
      "metadata": {},
      "outputs": [
        {
          "ename": "TypeError",
          "evalue": "'<' not supported between instances of 'int' and 'str'",
          "output_type": "error",
          "traceback": [
            "\u001b[1;31m---------------------------------------------------------------------------\u001b[0m",
            "\u001b[1;31mTypeError\u001b[0m                                 Traceback (most recent call last)",
            "Cell \u001b[1;32mIn [122], line 2\u001b[0m\n\u001b[0;32m      1\u001b[0m mix_list \u001b[38;5;241m=\u001b[39m [\u001b[38;5;124m'\u001b[39m\u001b[38;5;124md\u001b[39m\u001b[38;5;124m'\u001b[39m, \u001b[38;5;241m1\u001b[39m, \u001b[38;5;124m\"\u001b[39m\u001b[38;5;124ma\u001b[39m\u001b[38;5;124m\"\u001b[39m, \u001b[38;5;241m7\u001b[39m]\n\u001b[1;32m----> 2\u001b[0m \u001b[43mmix_list\u001b[49m\u001b[38;5;241;43m.\u001b[39;49m\u001b[43msort\u001b[49m\u001b[43m(\u001b[49m\u001b[43m)\u001b[49m\n\u001b[0;32m      3\u001b[0m \u001b[38;5;28mprint\u001b[39m(mix_list)\n",
            "\u001b[1;31mTypeError\u001b[0m: '<' not supported between instances of 'int' and 'str'"
          ]
        }
      ],
      "source": [
        "mix_list = ['d', 1, \"a\", 7]\n",
        "mix_list.sort()\n",
        "print(mix_list)"
      ]
    },
    {
      "cell_type": "code",
      "execution_count": 120,
      "metadata": {},
      "outputs": [
        {
          "name": "stdout",
          "output_type": "stream",
          "text": [
            "['1', '7', 'a', 'd']\n"
          ]
        }
      ],
      "source": [
        "mix_list = ['d', '1', \"a\", '7']\n",
        "mix_list.sort()\n",
        "print(mix_list)"
      ]
    },
    {
      "cell_type": "code",
      "execution_count": 124,
      "metadata": {},
      "outputs": [
        {
          "name": "stdout",
          "output_type": "stream",
          "text": [
            "[True, False, 1, 4, 7, 9]\n",
            "[True, False, 1, 4, 7, 9]\n",
            "False\n",
            "False\n",
            "True\n"
          ]
        }
      ],
      "source": [
        "numbers = [True, False, 1, 4, 7, 9]\n",
        "a_liste = numbers.copy()\n",
        "b_liste = numbers[:]\n",
        "c_liste = numbers\n",
        "print(a_liste)\n",
        "print(b_liste)\n",
        "print(id(a_liste)==id(b_liste))\n",
        "print(id(a_liste)==id(numbers))\n",
        "print(id(c_liste)==id(numbers)) # yeni bir konuma kopyalamadi sadece baglanti atti \n",
        "                                # üstttekinlerde ise yeni bir alana kopyaladi"
      ]
    },
    {
      "cell_type": "markdown",
      "metadata": {},
      "source": []
    },
    {
      "cell_type": "code",
      "execution_count": 129,
      "metadata": {},
      "outputs": [
        {
          "name": "stdout",
          "output_type": "stream",
          "text": [
            "[0, 1, 2, 3, 4, 5, 6, 7, 8, 9]\n",
            "[9, 8, 7, 6, 5, 4, 3, 2, 1, 0]\n",
            "[9, 8, 7, 6, 5, 4, 3, 2, 1, 0]\n"
          ]
        }
      ],
      "source": [
        "A = []\n",
        "A.extend([0,1,2,3,4,5,6,7,8,9])\n",
        "print(A)\n",
        "B = A[::-1]\n",
        "C = A[:]\n",
        "C.reverse()\n",
        "print(B)\n",
        "print(C)"
      ]
    },
    {
      "cell_type": "code",
      "execution_count": 29,
      "metadata": {},
      "outputs": [
        {
          "name": "stdout",
          "output_type": "stream",
          "text": [
            "ikili = [1, 1, 1, 0, 0, 0]\n",
            "sekizli = [7, 0]\n",
            "onaltili = [3, 8]\n"
          ]
        }
      ],
      "source": [
        "sayi = sayi8 = sayi16 = int(input(\"Bir sayi giriniz\"))\n",
        "ikili = []\n",
        "sekizli = []\n",
        "onaltili = []\n",
        "while sayi > 0:\n",
        "        kalan = sayi%2    \n",
        "        ikili.insert(0,kalan)\n",
        "        sayi = sayi//2\n",
        "print(\"ikili =\", ikili)\n",
        "\n",
        "\n",
        "while sayi8 > 0:\n",
        "    kalan = sayi8%8  \n",
        "    sekizli.insert(0,kalan)  \n",
        "    sayi8 = sayi8//8\n",
        "print(\"sekizli =\", sekizli)\n",
        "\n",
        "\n",
        "while sayi16 > 0:\n",
        "    kalan = sayi16%16 \n",
        "    onaltili.insert(0,kalan)  \n",
        "    sayi16 = sayi16//16    \n",
        "print(\"onaltili =\", onaltili)"
      ]
    },
    {
      "cell_type": "code",
      "execution_count": 47,
      "metadata": {},
      "outputs": [
        {
          "name": "stdout",
          "output_type": "stream",
          "text": [
            "a\n"
          ]
        },
        {
          "data": {
            "text/plain": [
              "3"
            ]
          },
          "execution_count": 47,
          "metadata": {},
          "output_type": "execute_result"
        }
      ],
      "source": [
        "ikili = [\"istanbul\", 3, 1, 0, 6, 0]\n",
        "sekizli = [7, 0]\n",
        "ikili +=(sekizli)\n",
        "print(ikili[0][3])\n",
        "# print(ikili.sort(reverse = True))\n",
        "\n",
        "ikili.pop(1)\n"
      ]
    },
    {
      "cell_type": "code",
      "execution_count": 48,
      "metadata": {},
      "outputs": [
        {
          "name": "stdout",
          "output_type": "stream",
          "text": [
            "[1, 3, 5, 7, 9]\n"
          ]
        }
      ],
      "source": [
        "print(list(range(1,11))[::2])\n",
        "animals_ = animals[].copy"
      ]
    },
    {
      "cell_type": "code",
      "execution_count": 44,
      "metadata": {},
      "outputs": [
        {
          "name": "stdout",
          "output_type": "stream",
          "text": [
            "55\n"
          ]
        }
      ],
      "source": [
        "print(sum(range(1,11)))"
      ]
    },
    {
      "cell_type": "code",
      "execution_count": null,
      "metadata": {},
      "outputs": [],
      "source": [
        "def ikinci_büyük(a):\n",
        "    a.sort()\n",
        "    a.remove(-1)"
      ]
    },
    {
      "cell_type": "code",
      "execution_count": 70,
      "metadata": {},
      "outputs": [],
      "source": [
        "Email = input(\"Email adresinizi giriniz\")\n",
        "print(((Email.count(\"@\") > 0 ) and (Email.count(\".\") > 0) and (Email.rfind(\".\") > Email.rfind(\"@\"))) and \"Valid Email\" or \"Invalid Email\")\n"
      ]
    },
    {
      "cell_type": "code",
      "execution_count": 5,
      "metadata": {},
      "outputs": [
        {
          "data": {
            "text/plain": [
              "'M'"
            ]
          },
          "execution_count": 5,
          "metadata": {},
          "output_type": "execute_result"
        }
      ],
      "source": [
        "\"Monty Python\".strip(\" Python\")"
      ]
    },
    {
      "cell_type": "code",
      "execution_count": 10,
      "metadata": {},
      "outputs": [
        {
          "data": {
            "text/plain": [
              "'ancd'"
            ]
          },
          "execution_count": 10,
          "metadata": {},
          "output_type": "execute_result"
        }
      ],
      "source": [
        "url = \"abcdc.com\"\n",
        "url.strip(\".com\")"
      ]
    },
    {
      "cell_type": "code",
      "execution_count": 11,
      "metadata": {},
      "outputs": [
        {
          "data": {
            "text/plain": [
              "'ancdc'"
            ]
          },
          "execution_count": 11,
          "metadata": {},
          "output_type": "execute_result"
        }
      ],
      "source": [
        "url = \"abcdc.com\"\n",
        "url.removesuffix(\".com\")"
      ]
    },
    {
      "cell_type": "code",
      "execution_count": 8,
      "metadata": {},
      "outputs": [
        {
          "data": {
            "text/plain": [
              "'Monty'"
            ]
          },
          "execution_count": 8,
          "metadata": {},
          "output_type": "execute_result"
        }
      ],
      "source": [
        "\"Monty Python\".removesuffix(\" Python\")"
      ]
    },
    {
      "cell_type": "code",
      "execution_count": 30,
      "metadata": {},
      "outputs": [
        {
          "name": "stdout",
          "output_type": "stream",
          "text": [
            "31,456\n"
          ]
        }
      ],
      "source": [
        "a = 31456\n",
        "print('{:,}'.format(a))"
      ]
    },
    {
      "cell_type": "code",
      "execution_count": 16,
      "metadata": {},
      "outputs": [
        {
          "name": "stdout",
          "output_type": "stream",
          "text": [
            "cdc.com\n"
          ]
        }
      ],
      "source": [
        "url = \"abcdc.com\"\n",
        "url.partition(\"ab\")[2]\n",
        "url.partition(\"ab\")\n",
        "print(url.strip(\"ab\"))"
      ]
    },
    {
      "cell_type": "code",
      "execution_count": 21,
      "metadata": {},
      "outputs": [
        {
          "name": "stdout",
          "output_type": "stream",
          "text": [
            "Ihr Notendurchschnitt liegt bei 45.\n"
          ]
        }
      ],
      "source": [
        "vize = int(input(\"Bitte geben sie Ihre Visaprüfungsnote ein\"))\n",
        "final = int(input(\"Bitte geben sie Ihre Anschlussnote ein\"))\n",
        "durch = (vize*.4 + final*.6)\n",
        "print(f\"Ihr Notendurchschnitt liegt bei {durch:.0f}.\")"
      ]
    },
    {
      "cell_type": "code",
      "execution_count": 1,
      "metadata": {},
      "outputs": [
        {
          "ename": "ModuleNotFoundError",
          "evalue": "No module named 'emoji'",
          "output_type": "error",
          "traceback": [
            "\u001b[1;31m---------------------------------------------------------------------------\u001b[0m",
            "\u001b[1;31mModuleNotFoundError\u001b[0m                       Traceback (most recent call last)",
            "Cell \u001b[1;32mIn [1], line 1\u001b[0m\n\u001b[1;32m----> 1\u001b[0m \u001b[38;5;28;01mimport\u001b[39;00m \u001b[38;5;21;01memoji\u001b[39;00m\n\u001b[0;32m      2\u001b[0m \u001b[38;5;28;01mimport\u001b[39;00m \u001b[38;5;21;01mregex\u001b[39;00m\n\u001b[0;32m      3\u001b[0m text     \u001b[38;5;241m=\u001b[39m \u001b[38;5;124m\"\u001b[39m\u001b[38;5;124m???? ???? me así, bla es se ???? ds ????????????\u001b[39m\u001b[38;5;124m\"\u001b[39m\n",
            "\u001b[1;31mModuleNotFoundError\u001b[0m: No module named 'emoji'"
          ]
        }
      ],
      "source": [
        "import emoji\n",
        "import regex\n",
        "text     = \"???? ???? me así, bla es se ???? ds ????????????\"\n",
        "decode   = text.decode('utf-8')\n",
        "allchars = [str for str in decode]\n",
        "list     = [c for c in allchars if c in emoji.UNICODE_EMOJI]\n",
        "print(list)"
      ]
    },
    {
      "cell_type": "code",
      "execution_count": 19,
      "metadata": {},
      "outputs": [
        {
          "name": "stdout",
          "output_type": "stream",
          "text": [
            "2323 342\n"
          ]
        }
      ],
      "source": [
        "AB = input(\"Iki sayi giriniz. Örnegin: 55,27\").split(\",\")\n",
        "A = AB[0]\n",
        "B = AB[-1]\n",
        "print(A>B and f\"{B} {A}\" or f\"{A} {B}\")"
      ]
    },
    {
      "cell_type": "code",
      "execution_count": 156,
      "metadata": {},
      "outputs": [
        {
          "data": {
            "text/plain": [
              "['Hi :']"
            ]
          },
          "execution_count": 156,
          "metadata": {},
          "output_type": "execute_result"
        }
      ],
      "source": [
        "import re:\n",
        "    \n",
        "mesaj = \"Hi :junge:! Is the group meeting tomorrow? :breites_lächeln: I need to plan something.  So, please let me know. :breites_lächeln::beten:\"\n",
        "\n",
        "emoji = re.findall(\"[H][a-z]+[\\W][:]\", mesaj)\n",
        "emoji\n",
        "#mesaj.replace(emoji[0],\"\" ).replace(emoji[1],\"\" ).replace(emoji[2],\"\" ).replace(emoji[3],\"\" )"
      ]
    },
    {
      "cell_type": "code",
      "execution_count": 7,
      "metadata": {},
      "outputs": [
        {
          "name": "stdout",
          "output_type": "stream",
          "text": [
            "49\n"
          ]
        }
      ],
      "source": [
        "a = 49\n",
        "while a % 2 != 0:\n",
        "    print(a)\n",
        "    a += 5"
      ]
    },
    {
      "cell_type": "code",
      "execution_count": 5,
      "metadata": {},
      "outputs": [
        {
          "name": "stdout",
          "output_type": "stream",
          "text": [
            "The type of {'section': 5, 'topic': 2} is <class 'dict'>.\n",
            "The type of clarusway is <class 'str'>.\n",
            "The type of [1, 4] is <class 'list'>.\n",
            "The type of 2020 is <class 'int'>.\n",
            "The type of 3.14 is <class 'float'>.\n",
            "The type of (1+618j) is <class 'complex'>.\n",
            "The type of False is <class 'bool'>.\n",
            "The type of (10, 20) is <class 'tuple'>.\n"
          ]
        }
      ],
      "source": [
        "sample_list = [{\"section\":5, \"topic\":2}, 'clarusway', [1, 4], 2020, 3.14, 1+618j, False, (10, 20)]\n",
        "x = len(sample_list)\n",
        "for i in range(0,x):\n",
        "    print(f\"The type of {sample_list[i]} is {type(sample_list[i])}.\")"
      ]
    },
    {
      "cell_type": "code",
      "execution_count": 25,
      "metadata": {},
      "outputs": [
        {
          "name": "stdout",
          "output_type": "stream",
          "text": [
            "[2, 3, 5, 7, 11, 13, 17, 19, 23]\n"
          ]
        }
      ],
      "source": [
        "nu = int(input(\"bir sayi giriniz\"))\n",
        "prime = []\n",
        "\n",
        "for i in range(1, (nu+1)):\n",
        "    a=0\n",
        "    for j in range(1,i+1):\n",
        "        if i%j == 0:\n",
        "            a +=1\n",
        "    if a == 2:\n",
        "        prime.append(i)\n",
        "        \n",
        "print(prime)\n",
        "# if a ==2:\n",
        "#     print(f\"{nu} asal sayidir\")\n",
        "# else:\n",
        "#     print(f\"{nu} asal sayi degildir\")"
      ]
    },
    {
      "cell_type": "code",
      "execution_count": 2,
      "metadata": {},
      "outputs": [
        {
          "name": "stdout",
          "output_type": "stream",
          "text": [
            "5\n"
          ]
        }
      ],
      "source": [
        "a, b, c = (1, 2, 3, 4, 5, 6, 7, 8, 9)[1::3]\n",
        "print(b)"
      ]
    },
    {
      "cell_type": "code",
      "execution_count": 49,
      "metadata": {},
      "outputs": [
        {
          "data": {
            "text/plain": [
              "[2, 3, 5, 7, 11, 13]"
            ]
          },
          "execution_count": 49,
          "metadata": {},
          "output_type": "execute_result"
        }
      ],
      "source": [
        "[2, 3, 5, 7, 11, 13, 17, 19, 23][:-3]"
      ]
    },
    {
      "cell_type": "code",
      "execution_count": null,
      "metadata": {},
      "outputs": [],
      "source": [
        "[2, 3, 5, 7, 11, 13, 17, 19, 23][:-3]"
      ]
    },
    {
      "cell_type": "code",
      "execution_count": 9,
      "metadata": {},
      "outputs": [
        {
          "name": "stdout",
          "output_type": "stream",
          "text": [
            "Yippee! You can buy your PS4!\n"
          ]
        }
      ],
      "source": [
        "saved_amount = int(input('Please enter your saved amount: '))\n",
        "ps4_price = 300\n",
        "if saved_amount <= ps4_price/2:\n",
        "    print(\"You must save more, keep saving!\")\n",
        "elif saved_amount > ps4_price:\n",
        "    print(\"Yippee! You can buy your PS4!\")\n",
        "else:\n",
        "    print(\"You saved more than half, keep saving!\")\n",
        "    "
      ]
    },
    {
      "cell_type": "code",
      "execution_count": 31,
      "metadata": {},
      "outputs": [
        {
          "name": "stdout",
          "output_type": "stream",
          "text": [
            "[1, 2, 3, 4, 5, 6, 7, 8]\n"
          ]
        }
      ],
      "source": [
        "a = [1, 2, 7, 8]\n",
        "a = a[:2]+[3,4,5,6]+a[2:]\n",
        "print(a)"
      ]
    },
    {
      "cell_type": "code",
      "execution_count": 32,
      "metadata": {},
      "outputs": [
        {
          "ename": "TypeError",
          "evalue": "'tuple' object does not support item assignment",
          "output_type": "error",
          "traceback": [
            "\u001b[1;31m---------------------------------------------------------------------------\u001b[0m",
            "\u001b[1;31mTypeError\u001b[0m                                 Traceback (most recent call last)",
            "Cell \u001b[1;32mIn [32], line 2\u001b[0m\n\u001b[0;32m      1\u001b[0m t \u001b[39m=\u001b[39m (\u001b[39m'\u001b[39m\u001b[39mfoo\u001b[39m\u001b[39m'\u001b[39m, \u001b[39m'\u001b[39m\u001b[39mbar\u001b[39m\u001b[39m'\u001b[39m, \u001b[39m'\u001b[39m\u001b[39mbaz\u001b[39m\u001b[39m'\u001b[39m)\n\u001b[1;32m----> 2\u001b[0m t[\u001b[39m1\u001b[39;49m] \u001b[39m=\u001b[39m \u001b[39m'\u001b[39m\u001b[39mqux\u001b[39m\u001b[39m'\u001b[39m\n",
            "\u001b[1;31mTypeError\u001b[0m: 'tuple' object does not support item assignment"
          ]
        }
      ],
      "source": [
        "t = ('foo', 'bar', 'baz')\n",
        "t[1] = 'qux'\n",
        "print"
      ]
    },
    {
      "cell_type": "code",
      "execution_count": null,
      "metadata": {},
      "outputs": [],
      "source": [
        "print(min(x,y))"
      ]
    },
    {
      "cell_type": "code",
      "execution_count": 19,
      "metadata": {},
      "outputs": [
        {
          "name": "stdout",
          "output_type": "stream",
          "text": [
            "3 sayisi 4 kez tekrar etmistir.\n"
          ]
        }
      ],
      "source": [
        "numbers = [1,3,7,4,3,0,3,6,3]\n",
        "x= max(numbers, key=numbers.count)\n",
        "print(f\"{x} sayisi {numbers.count(x)} kez tekrar etmistir.\")"
      ]
    },
    {
      "cell_type": "code",
      "execution_count": 16,
      "metadata": {},
      "outputs": [
        {
          "name": "stdout",
          "output_type": "stream",
          "text": [
            "5\n"
          ]
        }
      ],
      "source": [
        "x = int(input(\"Geben Sie die erste Zahl ein\"))\n",
        "y = int(input(\"Geben Sie die zweite Zahl ein\"))\n",
        "print((x%2==0 and y%2==0) and min(x,y) or max(x,y))\n"
      ]
    },
    {
      "cell_type": "code",
      "execution_count": 21,
      "metadata": {},
      "outputs": [
        {
          "name": "stdout",
          "output_type": "stream",
          "text": [
            "heyyyyyyy 67\n"
          ]
        }
      ],
      "source": [
        "print(\"heyyyyyyy\", max(eval(input(\"sayilari gir baekm\"))))"
      ]
    },
    {
      "cell_type": "code",
      "execution_count": 42,
      "metadata": {},
      "outputs": [
        {
          "name": "stdout",
          "output_type": "stream",
          "text": [
            "Die größte Zahl ist : 55\n"
          ]
        }
      ],
      "source": [
        "print(\"Die größte Zahl ist :\",max(input(\"Zahlen eingeben\").split(\",\")))\n",
        "\n",
        "\n"
      ]
    },
    {
      "cell_type": "code",
      "execution_count": 5,
      "metadata": {},
      "outputs": [],
      "source": [
        "#####################################"
      ]
    },
    {
      "cell_type": "code",
      "execution_count": 3,
      "metadata": {},
      "outputs": [
        {
          "data": {
            "text/plain": [
              "True"
            ]
          },
          "execution_count": 3,
          "metadata": {},
          "output_type": "execute_result"
        }
      ],
      "source": [
        "\"Mike\" in \"Mike\" in \"Mike\"\n",
        "#(\"Mike\" in \"Mike\") and (\"Mike\" in \"Mike\")\n"
      ]
    },
    {
      "cell_type": "code",
      "execution_count": 2,
      "metadata": {},
      "outputs": [
        {
          "name": "stdout",
          "output_type": "stream",
          "text": [
            "['__add__', '__class__', '__class_getitem__', '__contains__', '__delattr__', '__dir__', '__doc__', '__eq__', '__format__', '__ge__', '__getattribute__', '__getitem__', '__getnewargs__', '__gt__', '__hash__', '__init__', '__init_subclass__', '__iter__', '__le__', '__len__', '__lt__', '__mul__', '__ne__', '__new__', '__reduce__', '__reduce_ex__', '__repr__', '__rmul__', '__setattr__', '__sizeof__', '__str__', '__subclasshook__', 'count', 'index']\n"
          ]
        }
      ],
      "source": [
        "print(dir(tuple))"
      ]
    },
    {
      "cell_type": "code",
      "execution_count": 4,
      "metadata": {},
      "outputs": [
        {
          "name": "stdout",
          "output_type": "stream",
          "text": [
            "('happy', 'birdday')\n"
          ]
        }
      ],
      "source": [
        "word = \"happy\", \"birdday\"\n",
        "print(tuple(word))"
      ]
    },
    {
      "cell_type": "code",
      "execution_count": 5,
      "metadata": {},
      "outputs": [
        {
          "name": "stdout",
          "output_type": "stream",
          "text": [
            "<class 'tuple'>\n"
          ]
        }
      ],
      "source": [
        "empty_tuple = ()\n",
        "print(type(empty_tuple))\n",
        "# list == []\n",
        "# tuple == () \n",
        "# string == \"\""
      ]
    },
    {
      "cell_type": "code",
      "execution_count": 13,
      "metadata": {},
      "outputs": [
        {
          "name": "stdout",
          "output_type": "stream",
          "text": [
            "Solar\n",
            "<class 'str'>\n",
            "('Solar',)\n",
            "<class 'tuple'>\n",
            "('S', 'o', 'l', 'a', 'r')\n",
            "<class 'tuple'>\n"
          ]
        }
      ],
      "source": [
        "my_tuple = (\"Solar\")\n",
        "print(my_tuple,type(my_tuple), sep=\"\\n\")\n",
        "\n",
        "my_tuple = (\"Solar\",)\n",
        "print(my_tuple,type(my_tuple), sep=\"\\n\")\n",
        "\n",
        "my_tuple = tuple(\"Solar\")\n",
        "print(my_tuple,type(my_tuple), sep=\"\\n\")"
      ]
    },
    {
      "cell_type": "code",
      "execution_count": 4,
      "metadata": {},
      "outputs": [
        {
          "name": "stdout",
          "output_type": "stream",
          "text": [
            "<class 'tuple'> (1, 2, 3, 4, 5, 6, 7)\n"
          ]
        }
      ],
      "source": [
        "my_tuple=(1,2,3,4,5,6,7)\n",
        "my_list = list(my_tuple)\n",
        "print(type(my_tuple), my_tuple)"
      ]
    },
    {
      "cell_type": "code",
      "execution_count": 25,
      "metadata": {},
      "outputs": [
        {
          "name": "stdout",
          "output_type": "stream",
          "text": [
            "(1, 2, 3, 4, 5, 6, 7)\n"
          ]
        }
      ],
      "source": [
        "#list to tuple\n",
        "my_list=(1,2,3,4,5,6,7)\n",
        "my_tuple = tuple(my_list)\n",
        "print(my_tuple)"
      ]
    },
    {
      "cell_type": "code",
      "execution_count": null,
      "metadata": {},
      "outputs": [],
      "source": [
        "#tuple to list \n",
        "my_tuple=(1,2,3,4,5,6,7)\n",
        "my_list = tuple(my_tuple)\n",
        "print(my_tuple)\n",
        "print(my_list)"
      ]
    },
    {
      "cell_type": "code",
      "execution_count": 28,
      "metadata": {},
      "outputs": [
        {
          "name": "stdout",
          "output_type": "stream",
          "text": [
            "('h', 'a', 'p', 'p', 'y')\n",
            "<class 'tuple'>\n",
            "5\n"
          ]
        }
      ],
      "source": [
        "tuple_1 = \"h\",\"a\",\"p\",\"p\",\"y\"\n",
        "tuple_2 = 1,3,5\n",
        "print(tuple_1)\n",
        "print(type(tuple_2))\n",
        "print(tuple_2[2])\n"
      ]
    },
    {
      "cell_type": "code",
      "execution_count": null,
      "metadata": {},
      "outputs": [],
      "source": [
        "city = [\"istanbul\", \"Tokyo\", \"Berlin\", \"Seul\"]\n",
        "city_tx.union(y)\n",
        "mix_tuple[2][2][0]\n"
      ]
    },
    {
      "cell_type": "code",
      "execution_count": 30,
      "metadata": {},
      "outputs": [
        {
          "name": "stdout",
          "output_type": "stream",
          "text": [
            "['two', ('six', 6)]\n",
            "<class 'list'>\n",
            "fair\n",
            "fair\n"
          ]
        }
      ],
      "source": [
        "mix_tuple = (\"11\",11,[2, \"two\",(\"six\",6)], (5,\"fair\"))\n",
        "str_six = mix_tuple[2][1:3]\n",
        "print(str_six, type(str_six), sep=\"\\n\")\n",
        "print(mix_tuple[3][1])\n",
        "print(mix_tuple[-1][-1])"
      ]
    },
    {
      "cell_type": "code",
      "execution_count": 62,
      "metadata": {},
      "outputs": [
        {
          "name": "stdout",
          "output_type": "stream",
          "text": [
            "[1, 3, 4, 6, 7]\n"
          ]
        },
        {
          "ename": "AttributeError",
          "evalue": "'list' object has no attribute 'popleft'",
          "output_type": "error",
          "traceback": [
            "\u001b[1;31m---------------------------------------------------------------------------\u001b[0m",
            "\u001b[1;31mAttributeError\u001b[0m                            Traceback (most recent call last)",
            "Cell \u001b[1;32mIn [62], line 7\u001b[0m\n\u001b[0;32m      4\u001b[0m queue\u001b[39m.\u001b[39mappend(\u001b[39m7\u001b[39m)\n\u001b[0;32m      5\u001b[0m \u001b[39mprint\u001b[39m(queue)\n\u001b[1;32m----> 7\u001b[0m \u001b[39mprint\u001b[39m(queue\u001b[39m.\u001b[39;49mpopleft(\u001b[39m1\u001b[39m))\n",
            "\u001b[1;31mAttributeError\u001b[0m: 'list' object has no attribute 'popleft'"
          ]
        }
      ],
      "source": [
        "from collections import deque\n",
        "queue = [1,3,4]\n",
        "queue.append(6)\n",
        "queue.append(7)\n",
        "print(queue)\n",
        "\n",
        "print(queue.popleft())"
      ]
    },
    {
      "cell_type": "code",
      "execution_count": 3,
      "metadata": {},
      "outputs": [
        {
          "name": "stdout",
          "output_type": "stream",
          "text": [
            "(5, 2)\n",
            "[(3, 2), (5, 2), (1, 1), (2, 1), (6, 1), (4, 1)]\n"
          ]
        }
      ],
      "source": [
        "from collections import Counter\n",
        "numbers = [1,3,5,3,2,5,6,4]\n",
        "c = Counter(numbers).most_common()\n",
        "print(c[1])\n",
        "print(c)"
      ]
    },
    {
      "cell_type": "code",
      "execution_count": 65,
      "metadata": {},
      "outputs": [
        {
          "name": "stdout",
          "output_type": "stream",
          "text": [
            "[(3, 2), (5, 2), (1, 1), (2, 1), (6, 1), (4, 1)]\n"
          ]
        }
      ],
      "source": [
        "from collections import Counter\n",
        "numbers = [1,3,5,3,2,5,6,4]\n",
        "c = Counter(numbers).most_common()\n",
        "print(c)\n"
      ]
    },
    {
      "cell_type": "code",
      "execution_count": 66,
      "metadata": {},
      "outputs": [
        {
          "name": "stdout",
          "output_type": "stream",
          "text": [
            "{'fruit': 'apple', 'drink': 'bier'}\n",
            "{'fruit': 'apple', 'drink': 'bier'}\n"
          ]
        }
      ],
      "source": [
        "#Dictionary\n",
        "grocer1 = {\"fruit\": \"apple\", \"drink\":\"bier\"}\n",
        "grocer2 =  dict(fruit=\"apple\", drink=\"bier\")\n",
        "print(grocer1)\n",
        "print(grocer2)\n"
      ]
    },
    {
      "cell_type": "code",
      "execution_count": 67,
      "metadata": {},
      "outputs": [
        {
          "name": "stdout",
          "output_type": "stream",
          "text": [
            "{'aaa': '111', 'bbb': '222', 'ccc': '333', 'ddd': '444'}\n"
          ]
        }
      ],
      "source": [
        "state_capitals = {\"aaa\":\"111\",\"bbb\":\"222\", \"ccc\":\"333\" }\n",
        "state_capitals[\"ddd\"]= \"444\"\n",
        "print(state_capitals)"
      ]
    },
    {
      "cell_type": "code",
      "execution_count": 69,
      "metadata": {},
      "outputs": [
        {
          "name": "stdout",
          "output_type": "stream",
          "text": [
            "{'aaa': '555', 'bbb': '222', 'ccc': '333', 'ddd': '444'}\n"
          ]
        }
      ],
      "source": [
        "state_capitals = {\"aaa\":\"111\",\"bbb\":\"222\", \"ccc\":\"333\" }\n",
        "state_capitals[\"ddd\"]= \"444\"\n",
        "state_capitals[\"aaa\"] = \"555\" # Man kann direkt verschieben\n",
        "print(state_capitals)"
      ]
    },
    {
      "cell_type": "code",
      "execution_count": 71,
      "metadata": {},
      "outputs": [
        {
          "name": "stdout",
          "output_type": "stream",
          "text": [
            "{'name1': 'mustafa', 'name2': 'Ibrahim', 'name 3': 'latif', 'name4': 'Kemal'}\n"
          ]
        }
      ],
      "source": [
        "family = {\"name1\":\"mustafa\",\"name2\":\"Ibrahim\",\"name 3\":\"latif\"}\n",
        "family[\"name4\"] = \"Kemal\"\n",
        "\n",
        "print(family)"
      ]
    },
    {
      "cell_type": "code",
      "execution_count": 81,
      "metadata": {},
      "outputs": [
        {
          "name": "stdout",
          "output_type": "stream",
          "text": [
            "[('name1', 'mustafa'), ('name2', 30), ('name 3', 3.14), ('name4', 'Kemal')]\n",
            "['name1', 'name2', 'name 3', 'name4'] \n",
            "\n",
            "['mustafa', 30, 3.14, 'Kemal']\n"
          ]
        }
      ],
      "source": [
        "family = {\"name1\":\"mustafa\",\n",
        "          \"name2\":30,\n",
        "          \"name 3\":3.14}\n",
        "family[\"name4\"] = \"Kemal\"\n",
        "\n",
        "# print(family.items(), \"\\n\")\n",
        "print(list(family.items()))\n",
        "# print(family.keys(), \"\\n\")\n",
        "print(list(family.keys()), \"\\n\")\n",
        "# print(family.values())\n",
        "print(list(family.values()))"
      ]
    },
    {
      "cell_type": "code",
      "execution_count": 1,
      "metadata": {},
      "outputs": [
        {
          "name": "stdout",
          "output_type": "stream",
          "text": [
            "{'p': 'y', 't': 'h', 'o': 'n'}\n"
          ]
        }
      ],
      "source": [
        "\n",
        "print(dict((\"py\",\"th\", \"on\")))"
      ]
    }
  ],
  "metadata": {
    "colab": {
      "provenance": []
    },
    "kernelspec": {
      "display_name": "Python 3.10.7 64-bit (microsoft store)",
      "language": "python",
      "name": "python3"
    },
    "language_info": {
      "codemirror_mode": {
        "name": "ipython",
        "version": 3
      },
      "file_extension": ".py",
      "mimetype": "text/x-python",
      "name": "python",
      "nbconvert_exporter": "python",
      "pygments_lexer": "ipython3",
      "version": "3.10.7"
    },
    "vscode": {
      "interpreter": {
        "hash": "ba33de22a5821ff61dd53097cd70511c2f19fae7b0f9e8b27ee69b6aca2c4956"
      }
    }
  },
  "nbformat": 4,
  "nbformat_minor": 0
}
