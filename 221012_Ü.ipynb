{
 "cells": [
  {
   "cell_type": "markdown",
   "metadata": {},
   "source": [
    "\"\"\"\n",
    "Task0: Given a string (clarusway) and an index number int n (n=3), \n",
    "return a new string where the character at index n has been removed.\n",
    "\"\"\""
   ]
  },
  {
   "cell_type": "code",
   "execution_count": 1,
   "metadata": {},
   "outputs": [
    {
     "name": "stdout",
     "output_type": "stream",
     "text": [
      "clausway\n"
     ]
    }
   ],
   "source": [
    "text = \"clarusway\"  #immutable\n",
    "n = 3       #r yi kaldırmak\n",
    "new_text = text[:n] + text[n+1:]\n",
    "print(new_text)"
   ]
  },
  {
   "cell_type": "markdown",
   "metadata": {},
   "source": [
    "Task-1: Arrange the following text variable using \\n and \\t escape sequences to print the output as follows :\n",
    "text = \"Clarusway, Clarusway, Clarusway\"\n",
    "\n",
    "Clarusway, Clarusway, Clarusway, \n",
    "\tClarusway, Clarusway, Clarusway, \n",
    "\t\tClarusway, Clarusway, Clarusway"
   ]
  },
  {
   "cell_type": "code",
   "execution_count": 1,
   "metadata": {},
   "outputs": [
    {
     "name": "stdout",
     "output_type": "stream",
     "text": [
      "Clarusway, Clarusway, Clarusway,\n",
      "\tClarusway, Clarusway, Clarusway,\n",
      "\t\tClarusway, Clarusway, Clarusway\n"
     ]
    }
   ],
   "source": [
    "text = \"Clarusway, Clarusway, Clarusway\"\n",
    "print(text + \",\\n\\t\" + text +\",\\n\\t\\t\" + text)"
   ]
  },
  {
   "cell_type": "markdown",
   "metadata": {},
   "source": [
    "Task-2: https://ascii.art/ \n",
    "$ cowthink $(fortune)\n",
    " ________________________________________ \n",
    "( The best cure for insomnia is to get a )\n",
    "( lot of sleep. -W.C. Fields             )\n",
    " ---------------------------------------- \n",
    "        o   ^__^\n",
    "         o  (oo)\\_______\n",
    "            (__)\\       )\\/\\\n",
    "                ||----w |\n",
    "                ||     ||"
   ]
  },
  {
   "cell_type": "code",
   "execution_count": 3,
   "metadata": {},
   "outputs": [
    {
     "name": "stdout",
     "output_type": "stream",
     "text": [
      "\n",
      "        o   ^__^\n",
      "         o  (oo)\\_______\n",
      "            (__)\\       )\\/\\\n",
      "                ||----w |\n",
      "                ||     ||\n",
      "      \n",
      "      \n"
     ]
    }
   ],
   "source": [
    "print(\"\"\"\n",
    "        o   ^__^\n",
    "         o  (oo)\\_______\n",
    "            (__)\\       )\\/\\\\\n",
    "                ||----w |\n",
    "                ||     ||\n",
    "      \n",
    "      \"\"\")"
   ]
  },
  {
   "cell_type": "markdown",
   "metadata": {},
   "source": [
    "Task -3:\n",
    "Let’s print the text below using .format() method only for numerical text. Create variables for numerical values each.  Take the numerical values from variables.\n",
    "Text : “If we had bought $2000 crypto coins at the weekend, we would have had $4,152.32 with a profit share of 11% after 5 days.”"
   ]
  },
  {
   "cell_type": "code",
   "execution_count": 2,
   "metadata": {},
   "outputs": [
    {
     "name": "stdout",
     "output_type": "stream",
     "text": [
      "If we had bought $2000 crypto coins at the weekend, we would have had $4,152.32 with a profit share of 11% after 5 days.\n"
     ]
    }
   ],
   "source": [
    "coin = 2000\n",
    "income = 4_152.32\n",
    "day = 5\n",
    "pay = 11\n",
    "\n",
    "print(f\"If we had bought ${coin} crypto coins at the weekend, we would have had ${income:,} with a profit share of {pay}% after {day} days.\")"
   ]
  },
  {
   "cell_type": "markdown",
   "metadata": {},
   "source": [
    "Task-4:  Girilen bir sayının tek mi çift mi olduğunu bulan programı (and, or ve % operatörlerini kullanarak ) kodlayınız."
   ]
  },
  {
   "cell_type": "code",
   "execution_count": 5,
   "metadata": {},
   "outputs": [
    {
     "name": "stdout",
     "output_type": "stream",
     "text": [
      "2 ist grade\n"
     ]
    }
   ],
   "source": [
    "num = int(input(\"Geben sie bitte ein Zahl\"))\n",
    "print(f\"{num} ist\", num%2==1 and \"ungrade\" or \"grade\")"
   ]
  },
  {
   "cell_type": "markdown",
   "metadata": {},
   "source": [
    "Task-5:How To Convert  from Fahrenheit to Celsius Degree in Python?\n",
    "Your can use the following formula for converting degree Fahrenheit into degree Celsius:"
   ]
  },
  {
   "cell_type": "code",
   "execution_count": 11,
   "metadata": {},
   "outputs": [
    {
     "name": "stdout",
     "output_type": "stream",
     "text": [
      "12.777777777777779Celcius degree\n",
      "12.78Celcius degree\n"
     ]
    }
   ],
   "source": [
    "F = int(input(\"Fahrenheit...: \"))\n",
    "C = (F-32)*5/9\n",
    "print(f\"{C}Celcius degree\")\n",
    "print(f\"{C:.2f}Celcius degree\")"
   ]
  },
  {
   "cell_type": "markdown",
   "metadata": {},
   "source": [
    "Task-6:  Bir text'teki belli bir  karakterin bulunduğu tüm konumları(indisleri) veren program"
   ]
  },
  {
   "cell_type": "code",
   "execution_count": 15,
   "metadata": {},
   "outputs": [
    {
     "name": "stdout",
     "output_type": "stream",
     "text": [
      "1 3 10 "
     ]
    }
   ],
   "source": [
    "t = \"fener bahce\"\n",
    "sub_t = \"e\"\n",
    "for i in range(len(t)):\n",
    "    if t.startswith(sub_t, i):\n",
    "        print(i, end=\" \")"
   ]
  },
  {
   "cell_type": "code",
   "execution_count": 17,
   "metadata": {},
   "outputs": [
    {
     "name": "stdout",
     "output_type": "stream",
     "text": [
      "1 3 10  fenerbahce'deki e'lerin indisleri:[1, 3, 10]\n"
     ]
    }
   ],
   "source": [
    "t = \"fener bahce\"\n",
    "sub_t = \"e\"\n",
    "y = []\n",
    "for i in range(len(t)):\n",
    "    if t.startswith(sub_t, i):\n",
    "        print(i, end=\" \")\n",
    "        y.append(i)\n",
    "print(f\" fenerbahce'deki {sub_t}'lerin indisleri:{y}\")"
   ]
  },
  {
   "cell_type": "markdown",
   "metadata": {},
   "source": [
    "Task-7: text = 'In God wee  Trust' :nach_unten_zeigen:\n",
    "In the text below, accidentally the number the word “we” is wrong written. Remove the additional “e” letter and print the correct text.\n",
    "You can also use indexing/slicing/methods of string."
   ]
  },
  {
   "cell_type": "code",
   "execution_count": 5,
   "metadata": {},
   "outputs": [
    {
     "name": "stdout",
     "output_type": "stream",
     "text": [
      "In God we Trust\n"
     ]
    }
   ],
   "source": [
    "text = 'In God wee Trust'\n",
    "e_indis = text.index(\"e\")\n",
    "text = text[:e_indis]+text[e_indis+1:]\n",
    "print(text)"
   ]
  },
  {
   "cell_type": "code",
   "execution_count": 2,
   "metadata": {},
   "outputs": [
    {
     "name": "stdout",
     "output_type": "stream",
     "text": [
      "In God we Trust\n"
     ]
    }
   ],
   "source": [
    "text = 'In God wee Trust'\n",
    "print(text.replace(\"wee\", \"we\"))"
   ]
  },
  {
   "cell_type": "markdown",
   "metadata": {},
   "source": [
    "Task-8: The unordered words of a sentence are given below. Write a code to set them in order and print \"Good teachers know how to bring out the best in students.\" using .format() method.\n",
    "#Boşluğa ne gelmeli!!!\n",
    "\"                                                                         \".format ('in', 'know', 'bring', 'to', 'students.', 'out', 'best', 'teachers', 'the', 'Good', 'how')"
   ]
  },
  {
   "cell_type": "code",
   "execution_count": 3,
   "metadata": {},
   "outputs": [
    {
     "name": "stdout",
     "output_type": "stream",
     "text": [
      "Good teachers know how to bring out the best in students.\n"
     ]
    }
   ],
   "source": [
    "print(\"{9} {7} {1} {10} {3} {2} {5} {8} {6} {0} {4}\".format ('in', 'know', 'bring', 'to', 'students.', 'out', 'best', 'teachers', 'the', 'Good', 'how'))"
   ]
  },
  {
   "cell_type": "markdown",
   "metadata": {},
   "source": [
    "Task-9: Girilen bir metnin Palindrom olup olmadığını sorgulayan programı kodlayalım. (Palindrom, tersten yazılışı da kendisi ile aynı olan metinlere denir. Örneğin\n",
    "“ada” sözcüğü palindrom iken “eda” sözcüğü palindrom değildir.) Örnek program çıktıları: (bearbeitet) "
   ]
  },
  {
   "cell_type": "code",
   "execution_count": 5,
   "metadata": {},
   "outputs": [
    {
     "name": "stdout",
     "output_type": "stream",
     "text": [
      "Palindron\n"
     ]
    }
   ],
   "source": [
    "text = input(\"metin giriniz.. :\")\n",
    "print(text==text[::-1] and \"Palindron\" or \"nicht Palindron\")"
   ]
  },
  {
   "cell_type": "markdown",
   "metadata": {},
   "source": [
    "Task-9: Verilen bir onlu sistemdeki (decimal) sayıyı (Örneğin 100) diğer sayı sistemlerine (ikili, sekizli, onaltılı) dönüştüren programı yazınız."
   ]
  },
  {
   "cell_type": "code",
   "execution_count": 7,
   "metadata": {},
   "outputs": [
    {
     "name": "stdout",
     "output_type": "stream",
     "text": [
      "Hexadecimal..:10\n",
      "Binary..:10000 \n",
      "Octal..:20\n"
     ]
    }
   ],
   "source": [
    "num = int(input(\"Zahl.. :\"))\n",
    "print(f\"Hexadecimal..:{num:0x}\\nBinary..:{num:0b} \\nOctal..:{num:0o}\")\n",
    "\n"
   ]
  },
  {
   "cell_type": "markdown",
   "metadata": {},
   "source": []
  },
  {
   "cell_type": "markdown",
   "metadata": {},
   "source": [
    "Task-10: How to check for valid email address?\n",
    "Input:  ali326@clarusway.com\n",
    "Output: Valid Email\n",
    "Input: ali.hoca@clarusway.com\n",
    "Output: Valid Email\n",
    "Input: ali326.com\n",
    "Output: Invalid Email\n",
    "Input: ali.326@com\n",
    "Output: Invalid Email"
   ]
  },
  {
   "cell_type": "code",
   "execution_count": 13,
   "metadata": {},
   "outputs": [
    {
     "name": "stdout",
     "output_type": "stream",
     "text": [
      "Valid Email\n",
      "5\n"
     ]
    }
   ],
   "source": [
    "Email =input(\"Email adresinizi giriniz\")\n",
    "print(((Email.rfind(\".\") > Email.rfind(\"@\"))) and \"Valid Email\" or \"Invalid Email\")\n",
    "print(Email.rfind(\"@\"))"
   ]
  },
  {
   "cell_type": "markdown",
   "metadata": {},
   "source": [
    "Task-11b: Aşağıda algoritması verilen programı Python dilinde kodlayınız.."
   ]
  },
  {
   "cell_type": "code",
   "execution_count": 8,
   "metadata": {},
   "outputs": [
    {
     "name": "stdout",
     "output_type": "stream",
     "text": [
      "22 44\n"
     ]
    }
   ],
   "source": [
    "A = int(input(\"A.: \"))\n",
    "B = int(input(\"B.: \"))\n",
    "if B>A:\n",
    "    A,B = B,A\n",
    "print(B,A)\n",
    "print(min(A,B),)"
   ]
  },
  {
   "cell_type": "markdown",
   "metadata": {},
   "source": []
  },
  {
   "cell_type": "markdown",
   "metadata": {},
   "source": [
    "Özgün mesaj: Hi :junge:! Is the group meeting tomorrow? :breites_lächeln: I need to plan something.  So, please let me know. :breites_lächeln::beten:\n",
    "Temizlenmiş mesaj: Hi ! Is the group meeting tomorrow?  I need to plan something.  So, please let me know."
   ]
  },
  {
   "cell_type": "code",
   "execution_count": 15,
   "metadata": {},
   "outputs": [
    {
     "name": "stdout",
     "output_type": "stream",
     "text": [
      "b'Hi :junge:! Is the group meeting tomorrow? :breites_lcheln: I need to plan something.  So, please let me know. :breites_lcheln::beten:'\n"
     ]
    }
   ],
   "source": [
    "text = \"Hi :junge:! Is the group meeting tomorrow? :breites_lächeln: I need to plan something.  So, please let me know. :breites_lächeln::beten:\"\n",
    "text2 = text.encode(encoding='ascii', errors='ignore')\n",
    "print(text2)"
   ]
  },
  {
   "cell_type": "code",
   "execution_count": 20,
   "metadata": {},
   "outputs": [
    {
     "name": "stdout",
     "output_type": "stream",
     "text": [
      "Help on method_descriptor:\n",
      "\n",
      "encode(self, /, encoding='utf-8', errors='strict')\n",
      "    Encode the string using the codec registered for encoding.\n",
      "    \n",
      "    encoding\n",
      "      The encoding in which to encode the string.\n",
      "    errors\n",
      "      The error handling scheme to use for encoding errors.\n",
      "      The default is 'strict' meaning that encoding errors raise a\n",
      "      UnicodeEncodeError.  Other possible values are 'ignore', 'replace' and\n",
      "      'xmlcharrefreplace' as well as any other name registered with\n",
      "      codecs.register_error that can handle UnicodeEncodeErrors.\n",
      "\n"
     ]
    }
   ],
   "source": [
    "help(str.encode)"
   ]
  },
  {
   "cell_type": "code",
   "execution_count": null,
   "metadata": {},
   "outputs": [],
   "source": [
    "mesaj = \"Hi :junge:! Is the group meeting tomorrow? :breites_lächeln: I need to plan something.  So, please let me know. :breites_lächeln::beten:\""
   ]
  },
  {
   "cell_type": "code",
   "execution_count": 16,
   "metadata": {},
   "outputs": [
    {
     "data": {
      "text/plain": [
       "'Hi ! Is the group meeting tomorrow?  I need to plan something.  So, please let me know. '"
      ]
     },
     "execution_count": 16,
     "metadata": {},
     "output_type": "execute_result"
    }
   ],
   "source": [
    "import re\n",
    "mesaj = \"Hi :junge:! Is the group meeting tomorrow? :breites_lächeln: I need to plan something.  So, please let me know. :breites_lächeln::beten:\"\n",
    "emoji = re.findall(\"[:][a-z]+[\\w]+[:]\", mesaj)\n",
    "mesaj.replace(emoji[0],\"\" ).replace(emoji[1],\"\" ).replace(emoji[2],\"\" ).replace(emoji[3],\"\" )"
   ]
  },
  {
   "cell_type": "markdown",
   "metadata": {},
   "source": [
    "Task 13:  (Bu ödev çözümü buraya yapılabilir ayrıca bu ödev dahil bütün ödevlerin çözümü tek bir colab notebook dosyası halinde DM'den gönderilirse kodlama pratiği yapmış olursunuz...) (bearbeitet) "
   ]
  },
  {
   "cell_type": "code",
   "execution_count": null,
   "metadata": {},
   "outputs": [],
   "source": [
    "numbers = [1,3,7,4,3,0,3,6,3]\n",
    "x= max(numbers, key=numbers.count)\n",
    "print(f\"{x} sayisi {numbers.count(x)} kez tekrar etmistir.\")"
   ]
  },
  {
   "cell_type": "code",
   "execution_count": 21,
   "metadata": {},
   "outputs": [
    {
     "name": "stdout",
     "output_type": "stream",
     "text": [
      "the most frequent number is 3 and it was 4 times repeated.\n"
     ]
    }
   ],
   "source": [
    "from collections import Counter\n",
    "numbers = [1,3,4,5,4,3,0,3,6,3]\n",
    "freq_num = Counter(numbers)\n",
    "print(f\"the most frequent number is {freq_num.most_common()[0][0]} and it was {freq_num.most_common()[0][1]} times repeated.\")"
   ]
  },
  {
   "cell_type": "code",
   "execution_count": 21,
   "metadata": {},
   "outputs": [
    {
     "name": "stdout",
     "output_type": "stream",
     "text": [
      "30 sayisi 4\n"
     ]
    }
   ],
   "source": [
    "from statistics import mode\n",
    "numbers = [1,3,7,4,3,0,3,6,3]\n",
    "freq_num = mode(numbers)\n",
    "print(f\"{freq_num} sayisi {numbers.count(freq_num)}\")"
   ]
  },
  {
   "cell_type": "markdown",
   "metadata": {},
   "source": [
    "Task 14: Write a program that returns the lesser of two given numbers if both numbers are even, but returns the greater if one or both numbers are odd.\n",
    "Desired output:\n",
    "(2,4)---> 2\n",
    "(2,3)---> 3\n",
    "(3,4)---> 4"
   ]
  },
  {
   "cell_type": "code",
   "execution_count": null,
   "metadata": {},
   "outputs": [],
   "source": [
    "x = int(input(\"Geben Sie die erste Zahl ein\"))\n",
    "y = int(input(\"Geben Sie die zweite Zahl ein\"))\n",
    "print((x%2==0 and y%2==0) and min(x,y) or max(x,y))"
   ]
  }
 ],
 "metadata": {
  "kernelspec": {
   "display_name": "Python 3.10.7 64-bit (microsoft store)",
   "language": "python",
   "name": "python3"
  },
  "language_info": {
   "codemirror_mode": {
    "name": "ipython",
    "version": 3
   },
   "file_extension": ".py",
   "mimetype": "text/x-python",
   "name": "python",
   "nbconvert_exporter": "python",
   "pygments_lexer": "ipython3",
   "version": "3.10.7"
  },
  "orig_nbformat": 4,
  "vscode": {
   "interpreter": {
    "hash": "ba33de22a5821ff61dd53097cd70511c2f19fae7b0f9e8b27ee69b6aca2c4956"
   }
  }
 },
 "nbformat": 4,
 "nbformat_minor": 2
}
