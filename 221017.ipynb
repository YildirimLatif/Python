{
 "cells": [
  {
   "cell_type": "code",
   "execution_count": 18,
   "metadata": {},
   "outputs": [
    {
     "name": "stdout",
     "output_type": "stream",
     "text": [
      "{'bar': 200, 'baz': 300}\n"
     ]
    }
   ],
   "source": [
    "d ={\"foto\":100,\"bar\":200,\"baz\":300}\n",
    "sil_value = int(input(\"silmek istediginiz sayiyi giriniz\"))\n",
    "\n",
    "d_values = list(d.values())\n",
    "x = d_values.index(sil_value)\n",
    "\n",
    "d_items = list(d.items())\n",
    "d_items.pop(x)\n",
    "print(dict(d_items))\n",
    "\n"
   ]
  },
  {
   "cell_type": "code",
   "execution_count": null,
   "metadata": {},
   "outputs": [],
   "source": [
    "d = {'foo': 100, 'bar': 200, 'baz': 300, 'kar': 400}\n",
    "sil_value = int(input(\"silmek istediğiniz değeri giriniz..:\"))\n",
    "d.pop(list(d.keys())[list(d.values()).index(sil_value)])\n",
    "print(d)"
   ]
  },
  {
   "cell_type": "code",
   "execution_count": 9,
   "metadata": {},
   "outputs": [
    {
     "name": "stdout",
     "output_type": "stream",
     "text": [
      " t harfi 21 kere vardir\n"
     ]
    }
   ],
   "source": [
    "f = open(\"neu.txt\",\"r\")\n",
    "txt = f.read()\n",
    "sayi = 0\n",
    "for c in txt:\n",
    "    if c==\"t\":\n",
    "        sayi += 1\n",
    "print(f\" t harfi {sayi} kere vardir\")\n",
    "\n"
   ]
  },
  {
   "cell_type": "code",
   "execution_count": 13,
   "metadata": {},
   "outputs": [
    {
     "name": "stdout",
     "output_type": "stream",
     "text": [
      " t harfi 21 kere vardir\n",
      " e harfi 9 kere vardir\n"
     ]
    }
   ],
   "source": [
    "f = open(\"neu.txt\",\"r\")\n",
    "txt = f.read()\n",
    "sayi = sayi_e = 0\n",
    "for c in txt:\n",
    "    if c==\"t\":\n",
    "        sayi += 1\n",
    "    elif c==\"e\":\n",
    "        sayi_e += 1\n",
    "print(f\" t harfi {sayi} kere vardir\")\n",
    "print(f\" e harfi {sayi_e} kere vardir\")"
   ]
  },
  {
   "cell_type": "code",
   "execution_count": 16,
   "metadata": {},
   "outputs": [
    {
     "name": "stdout",
     "output_type": "stream",
     "text": [
      " t harfi 21 kere vardir\n",
      " e harfi 9 kere vardir\n"
     ]
    }
   ],
   "source": [
    "f = open(\"neu.txt\",\"r\")\n",
    "txt = f.read()\n",
    "sayi = {}\n",
    "sayi['t'] = sayi['e'] = 0\n",
    "for c in txt:\n",
    "    if c==\"t\":\n",
    "        sayi[c] += 1\n",
    "    elif c==\"e\":\n",
    "        sayi[c] += 1\n",
    "print(f\" t harfi {sayi['t']} kere vardir\")\n",
    "print(f\" e harfi {sayi['e']} kere vardir\")"
   ]
  },
  {
   "cell_type": "code",
   "execution_count": null,
   "metadata": {},
   "outputs": [],
   "source": []
  },
  {
   "cell_type": "code",
   "execution_count": 29,
   "metadata": {},
   "outputs": [
    {
     "name": "stdout",
     "output_type": "stream",
     "text": [
      " t harfi 3 kere vardir\n",
      " e harfi 9 kere vardir\n"
     ]
    }
   ],
   "source": [
    "f = open(\"neu.txt\",\"r\")\n",
    "txt = f.read()\n",
    "\n",
    "sayi = {}\n",
    "for c in txt:\n",
    "    if c not in sayi:\n",
    "        sayi[c] = 0\n",
    "    sayi[c] = sayi[c] + 1\n",
    "    \n",
    "print(f\" t harfi {sayi['p']} kere vardir\")\n",
    "print(f\" e harfi {sayi['e']} kere vardir\")"
   ]
  },
  {
   "cell_type": "code",
   "execution_count": 25,
   "metadata": {},
   "outputs": [
    {
     "name": "stdout",
     "output_type": "stream",
     "text": [
      "t: 21 occurrences\n",
      "s: 9 occurrences\n"
     ]
    }
   ],
   "source": [
    "f = open('neu.txt', 'r')\n",
    "txt = f.read()\n",
    "# now txt is one long string containing all the characters\n",
    "letter_counts = {} # start with an empty dictionary\n",
    "for c in txt:\n",
    "    if c not in letter_counts:\n",
    "        # we have not seen this character before, so initialize a counter for it\n",
    "        letter_counts[c] = 0\n",
    "\n",
    "    #whether we've seen it before or not, increment its counter\n",
    "    letter_counts[c] = letter_counts[c] + 1\n",
    "\n",
    "print(\"t: \" + str(letter_counts['t']) + \" occurrences\")\n",
    "print(\"s: \" + str(letter_counts['s']) + \" occurrences\")"
   ]
  },
  {
   "cell_type": "code",
   "execution_count": null,
   "metadata": {},
   "outputs": [],
   "source": [
    "f = open(\"neu.txt\",\"r\")\n",
    "txt = f.read()\n",
    "sayi = {}\n",
    "for c in txt:\n",
    "    sayi[c] = sayi.get(c,0)+1\n",
    "print(f\" t harfi {sayi['p']} kere vardir\")\n",
    "print(f\" e harfi {sayi['e']} kere vardir\")"
   ]
  },
  {
   "cell_type": "code",
   "execution_count": 1,
   "metadata": {},
   "outputs": [
    {
     "data": {
      "text/plain": [
       "{'The': 1,\n",
       " 'dog': 1,\n",
       " 'chased': 1,\n",
       " 'the': 3,\n",
       " 'rabbit': 2,\n",
       " 'into': 1,\n",
       " 'forest': 1,\n",
       " 'but': 1,\n",
       " 'was': 1,\n",
       " 'too': 1,\n",
       " 'quick.': 1}"
      ]
     },
     "execution_count": 1,
     "metadata": {},
     "output_type": "execute_result"
    }
   ],
   "source": [
    "sentence = \"The dog chased the rabbit into the forest but the rabbit was too quick.\"\n",
    "x = sentence.split()\n",
    "word_counts = {}\n",
    "for c in x:\n",
    "    word_counts[c] = word_counts.get(c,0)+1\n",
    "word_counts"
   ]
  },
  {
   "cell_type": "code",
   "execution_count": 39,
   "metadata": {},
   "outputs": [
    {
     "data": {
      "text/plain": [
       "19"
      ]
     },
     "execution_count": 39,
     "metadata": {},
     "output_type": "execute_result"
    }
   ],
   "source": [
    "travel = {\"North America\": 2, \"Europe\": 8, \"South America\": 3, \"Asia\": 4, \"Africa\":1, \"Antarctica\": 0, \"Australia\": 1}\n",
    "sum(travel.values())"
   ]
  }
 ],
 "metadata": {
  "kernelspec": {
   "display_name": "Python 3.10.7 64-bit (microsoft store)",
   "language": "python",
   "name": "python3"
  },
  "language_info": {
   "codemirror_mode": {
    "name": "ipython",
    "version": 3
   },
   "file_extension": ".py",
   "mimetype": "text/x-python",
   "name": "python",
   "nbconvert_exporter": "python",
   "pygments_lexer": "ipython3",
   "version": "3.10.7"
  },
  "orig_nbformat": 4,
  "vscode": {
   "interpreter": {
    "hash": "ba33de22a5821ff61dd53097cd70511c2f19fae7b0f9e8b27ee69b6aca2c4956"
   }
  }
 },
 "nbformat": 4,
 "nbformat_minor": 2
}
