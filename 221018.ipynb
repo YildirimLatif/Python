{
 "cells": [
  {
   "cell_type": "code",
   "execution_count": null,
   "metadata": {},
   "outputs": [],
   "source": [
    "meat=hamburger=lattuce=peper=store=True\n",
    "if meat:\n",
    "    if hamburger:\n",
    "        if lattuce oder peper:\n",
    "            if store:\n",
    "                print(\"Bom Appetit\")"
   ]
  },
  {
   "cell_type": "code",
   "execution_count": null,
   "metadata": {},
   "outputs": [],
   "source": [
    "meat=hamburger=lattuce=peper=store=True\n",
    "hamburger = meat and hamburger and (lattuce or peper) and store\n",
    "if hamburger:\n",
    "    print(\"Guten appetit\")"
   ]
  },
  {
   "cell_type": "code",
   "execution_count": 1,
   "metadata": {},
   "outputs": [
    {
     "name": "stdout",
     "output_type": "stream",
     "text": [
      "1\n"
     ]
    }
   ],
   "source": [
    "if(a:=1):\n",
    "    print(a)"
   ]
  },
  {
   "cell_type": "code",
   "execution_count": 4,
   "metadata": {},
   "outputs": [
    {
     "name": "stdout",
     "output_type": "stream",
     "text": [
      "We are the same\n"
     ]
    }
   ],
   "source": [
    "bir = set(\"TWELVE PLUS ONE\")\n",
    "iki = set(\"ELEVEN PLUS TWO\")\n",
    "if bir == iki:\n",
    "    print(\"We are the same\")"
   ]
  },
  {
   "cell_type": "code",
   "execution_count": 3,
   "metadata": {},
   "outputs": [],
   "source": [
    "bir = set(\"TWELVE PLUS ONE\")\n",
    "iki = set(\"ELEVEN PLUS TWo\")\n",
    "if bir == iki:\n",
    "    print(\"We are the same\")"
   ]
  },
  {
   "cell_type": "code",
   "execution_count": 8,
   "metadata": {},
   "outputs": [
    {
     "name": "stdout",
     "output_type": "stream",
     "text": [
      "False\n"
     ]
    }
   ],
   "source": [
    "erst = input(\"yes veya no gir\").lower()\n",
    "\n",
    "if erst == \"yes\":\n",
    "    print(\"True\")\n",
    "else:\n",
    "    print(\"False\")"
   ]
  },
  {
   "cell_type": "code",
   "execution_count": 12,
   "metadata": {},
   "outputs": [
    {
     "name": "stdout",
     "output_type": "stream",
     "text": [
      "girdinizy True\n"
     ]
    }
   ],
   "source": [
    "erst = input(\"yes veya no gir\").lower().strip() == \"yes\" #strip ile boslilari alir\n",
    "print(\"girdinizy\", erst)"
   ]
  },
  {
   "cell_type": "code",
   "execution_count": 18,
   "metadata": {},
   "outputs": [
    {
     "name": "stdout",
     "output_type": "stream",
     "text": [
      "5  tektir\n"
     ]
    }
   ],
   "source": [
    "sayi = int(input(\"sayi gir\"))\n",
    "if sayi%2:\n",
    "    print(f\"{sayi}  tektir\")\n",
    "else:\n",
    "    print(f\"{sayi} cifttir\")\n",
    "    \n",
    "    "
   ]
  },
  {
   "cell_type": "code",
   "execution_count": 20,
   "metadata": {},
   "outputs": [
    {
     "name": "stdout",
     "output_type": "stream",
     "text": [
      "3 pozitiftir\n"
     ]
    }
   ],
   "source": [
    "sayi = int(input(\"sayi gir\"))\n",
    "if sayi < 0:\n",
    "    print(f\"{sayi}  negatiftir\")\n",
    "else:\n",
    "    print(f\"{sayi} pozitiftir\")"
   ]
  },
  {
   "cell_type": "code",
   "execution_count": 24,
   "metadata": {},
   "outputs": [
    {
     "name": "stdout",
     "output_type": "stream",
     "text": [
      "-3  negatiftir\n"
     ]
    }
   ],
   "source": [
    "sayi = int(input(\"sayi gir\"))\n",
    "if sayi < 0:\n",
    "    print(f\"{sayi}  negatiftir\")\n",
    "elif sayi == 0:\n",
    "    print(f\"{sayi} is zero\")\n",
    "else:\n",
    "    print(f\"{sayi} pozitiftir\")"
   ]
  },
  {
   "cell_type": "code",
   "execution_count": 36,
   "metadata": {},
   "outputs": [
    {
     "name": "stdout",
     "output_type": "stream",
     "text": [
      "heyyy 454\n",
      "The large number 454\n"
     ]
    }
   ],
   "source": [
    "x = int(input(\"sayi gir\"))\n",
    "y = int(input(\"sayi gir\"))\n",
    "z = int(input(\"sayi gir\"))\n",
    "print(\"heyyy\",max(x,y,z))\n",
    "if x>(y and z):\n",
    "    print(f\"The large number {x}\")\n",
    "elif y>(x and z):\n",
    "    print(f\"The large number {y}\")\n",
    "else:\n",
    "    print(f\"The large number {z}\")"
   ]
  },
  {
   "cell_type": "code",
   "execution_count": 37,
   "metadata": {},
   "outputs": [
    {
     "name": "stdout",
     "output_type": "stream",
     "text": [
      "sayiiii 23232\n"
     ]
    }
   ],
   "source": [
    "print(\"sayiiii\",max(eval(input(\"sayi giriniz\"))))# virgülle girdigimiz degerleri döndürür\n"
   ]
  },
  {
   "cell_type": "code",
   "execution_count": null,
   "metadata": {},
   "outputs": [],
   "source": [
    "math_mark = int(input('Please enter the mark: '))\n",
    "\n",
    "if math_mark <= 79:\n",
    "    if math_mark < 0:\n",
    "        print(\"0 dan kücük sayi. Lütfen tekrar deneyiniz!!!!!\")\n",
    "elif math_mark <= 84::\n",
    "        print(\" (Failed)\")\n",
    "elif math_mark <= 84:\n",
    "    print(\"B (Not Bad)\")\n",
    "elif math_mark <= 89:\n",
    "    print(\"B+ (Medium)\")\n",
    "elif math_mark <= 94:\n",
    "    print(\"A (Good)\")\n",
    "elif math_mark < 101:\n",
    "    print(\"A+ (Excellent)\")\n",
    "else:\n",
    "    print(\"100 den büyük Tekrar gir\")\n",
    "        "
   ]
  }
 ],
 "metadata": {
  "kernelspec": {
   "display_name": "Python 3.10.7 64-bit (microsoft store)",
   "language": "python",
   "name": "python3"
  },
  "language_info": {
   "codemirror_mode": {
    "name": "ipython",
    "version": 3
   },
   "file_extension": ".py",
   "mimetype": "text/x-python",
   "name": "python",
   "nbconvert_exporter": "python",
   "pygments_lexer": "ipython3",
   "version": "3.10.7"
  },
  "orig_nbformat": 4,
  "vscode": {
   "interpreter": {
    "hash": "ba33de22a5821ff61dd53097cd70511c2f19fae7b0f9e8b27ee69b6aca2c4956"
   }
  }
 },
 "nbformat": 4,
 "nbformat_minor": 2
}
