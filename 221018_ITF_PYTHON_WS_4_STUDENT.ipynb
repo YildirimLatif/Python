{
 "cells": [
  {
   "cell_type": "markdown",
   "metadata": {},
   "source": [
    "### Code Challenge-1\n",
    "\n",
    "<div class=\"alert alert-block alert-info\">\n",
    "    <b>💡Objective:</b>\n",
    "    <ul>\n",
    "        <li>To improve your <b>boolean logic algorithm</b>&nbsp;and truth value skills.</li>\n",
    "    </ul>\n",
    "</div>\n",
    "\n",
    "- Find out if a given year is a \"leap\" year.\n",
    "\n",
    "  - In the Gregorian calendar, three criteria must be taken into account to identify leap years:\n",
    "  \n",
    "    - The year must be evenly divisible by 4;\n",
    "    - If the year can also be evenly divided by 100, it is not a leap year; unless...(next one)\n",
    "    - The year is also evenly divisible by 400. Then it is a leap year.\n",
    "\n",
    "- According to these rules, the years 2000 and 2400 are leap years, while 1800, 1900, 2100, 2200, 2300, and 2500 are not the leap years.\n",
    "\n",
    "- Write a Python program that;\n",
    "  - Takes a 4-digit year from the user,\n",
    "  - Prints `True` if the given year by the user is a leap year, prints `False` otherwise.\n",
    "  \n",
    "> Note that; this question is famous on the web, so that do it yourself to get more benefits from it."
   ]
  },
  {
   "cell_type": "code",
   "execution_count": 16,
   "metadata": {},
   "outputs": [
    {
     "name": "stdout",
     "output_type": "stream",
     "text": [
      "False\n"
     ]
    }
   ],
   "source": [
    "datum = int(input(\"4-digit\"))\n",
    "print(datum%4==0 and datum%100!=0 or datum%400==0)"
   ]
  },
  {
   "cell_type": "markdown",
   "metadata": {},
   "source": [
    "### Code Challenge-2\n",
    "\n",
    "<p></p>\n",
    "<div class=\"alert alert-block alert-info\">\n",
    "    <b>💡Objective:</b>\n",
    "    <ul>\n",
    "        <li>To improve your <b>collection </b>type <b>knowledge, </b>using<b> </b><span>new </span><span>built-in<b> function comprehension, string formatting</b></span>&nbsp;and <b>problem solving</b> skills.</li>\n",
    "    </ul>\n",
    "</div>\n",
    "\n",
    "<b>Task - 1 :</b><br>You work for a manufacturer as a programmer and\n",
    "have been asked to calculate the\n",
    "<b>total profit</b> made on the sales of a product. You are given a dictionary (<code>sales</code>) containing the <span><i>cost </i>price</span><span> </span>per unit (in dollars), <span><i>sell </i>price</span><span> </span>per unit (in dollars), and\n",
    "the <span><span>beginning</span></span><i> inventory</i>. Write a program to return the <b>total profit&nbsp;</b>made, <b>rounded&nbsp;</b>to the nearest dollar. Assume all of the <i>inventory</i> has been sold. The <i>name</i> and the <i>keys</i> of\n",
    "the dictionary are constant, so use them as they are.<br>\n",
    "<hr>\n",
    "\n",
    "\n",
    "<p>The example of the <i>values</i> (<i>sell</i>-<i>cost </i>value,&nbsp;<i>inventory</i>) and total <i>profit </i>:</p>\n",
    "\n",
    "```python\n",
    "sales = {\n",
    "  \"cost_value\": 31.87,\n",
    "  \"sell_value\": 45.00,\n",
    "  \"inventory\": 1000\n",
    "}  \n",
    "\n",
    "# the profit will be : 13130\n",
    "````\n",
    "\n",
    "<hr>\n",
    "<p><b>Task - 2 :</b><br>Your boss wants you to prepare the <b>payrolls</b> of the workers in your department. You have to convert the amount of dollars into <i>payroll </i>format. In order to help move things along, you have volunteered to write a code that\n",
    "    will take a float and return the money in the following format (as <i>dollars</i> and <i>cents</i>).&nbsp;</p>\n",
    "<p><br>\n",
    "</p>\n",
    "\n",
    "- Examples :\n",
    "\n",
    "|Given Float Type `amount`|Desired Output|\n",
    "|--|--|\n",
    "|3|\\$3.00|\n",
    "|29.99|\\$29.99|\n",
    "|4.1|\\$4.10|\n",
    "\n",
    "The output should be float type as well and two digits after the period.<br><br>\n",
    "<p></p>"
   ]
  },
  {
   "cell_type": "code",
   "execution_count": 18,
   "metadata": {},
   "outputs": [
    {
     "name": "stdout",
     "output_type": "stream",
     "text": [
      "13130\n"
     ]
    }
   ],
   "source": [
    "sales = {\n",
    "  \"cost_value\": 31.87,\n",
    "  \"sell_value\": 45.00,\n",
    "  \"inventory\": 1000\n",
    "} \n",
    "toplam = round((sales[\"sell_value\"]-sales[\"cost_value\"])*sales[\"inventory\"])\n",
    "print(toplam)"
   ]
  },
  {
   "cell_type": "code",
   "execution_count": null,
   "metadata": {},
   "outputs": [],
   "source": [
    "amount="
   ]
  },
  {
   "cell_type": "markdown",
   "metadata": {},
   "source": [
    "### Problem 3\n",
    "\n",
    "Sort the list given below in ascending order. Find the missing number from 1 to 10.\n",
    "\n",
    "num_list = [2, 3, 1, 5, 6, 4, 9, 8, 10]"
   ]
  },
  {
   "cell_type": "code",
   "execution_count": 21,
   "metadata": {},
   "outputs": [
    {
     "name": "stdout",
     "output_type": "stream",
     "text": [
      "{7}\n"
     ]
    }
   ],
   "source": [
    "num_list = [2, 3, 1, 5, 6, 4, 9, 8, 10]\n",
    "x = set(range(1,11))\n",
    "print(x.difference(num_list))"
   ]
  },
  {
   "cell_type": "markdown",
   "metadata": {},
   "source": [
    "### Problem 4\n",
    "\n",
    "Print the oldest person's name?"
   ]
  },
  {
   "cell_type": "code",
   "execution_count": 5,
   "metadata": {},
   "outputs": [
    {
     "name": "stdout",
     "output_type": "stream",
     "text": [
      "Emma\n"
     ]
    }
   ],
   "source": [
    "old={\n",
    " \"Emma\":71,\n",
    " \"Jack\":45,\n",
    " \"Amy\":15,\n",
    " \"Ben\":29\n",
    "}\n",
    "print(max(old, key = old.get))"
   ]
  },
  {
   "cell_type": "markdown",
   "metadata": {},
   "source": [
    "### Problem 5\n",
    "\n",
    "Write a Python program to sum all the items in a dictionary.\n",
    "\n",
    "my_dict = {'data1':100,'data2':-54,'data3':247}"
   ]
  },
  {
   "cell_type": "code",
   "execution_count": 22,
   "metadata": {},
   "outputs": [
    {
     "name": "stdout",
     "output_type": "stream",
     "text": [
      "293\n"
     ]
    }
   ],
   "source": [
    "my_dict = {'data1':100,'data2':-54,'data3':247}\n",
    "print(sum(my_dict.values()))"
   ]
  },
  {
   "cell_type": "code",
   "execution_count": null,
   "metadata": {},
   "outputs": [],
   "source": []
  }
 ],
 "metadata": {
  "kernelspec": {
   "display_name": "Python 3.10.7 64-bit (microsoft store)",
   "language": "python",
   "name": "python3"
  },
  "language_info": {
   "codemirror_mode": {
    "name": "ipython",
    "version": 3
   },
   "file_extension": ".py",
   "mimetype": "text/x-python",
   "name": "python",
   "nbconvert_exporter": "python",
   "pygments_lexer": "ipython3",
   "version": "3.10.7"
  },
  "vscode": {
   "interpreter": {
    "hash": "ba33de22a5821ff61dd53097cd70511c2f19fae7b0f9e8b27ee69b6aca2c4956"
   }
  }
 },
 "nbformat": 4,
 "nbformat_minor": 2
}
