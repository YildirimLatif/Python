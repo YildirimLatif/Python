{
 "cells": [
  {
   "cell_type": "code",
   "execution_count": 86,
   "metadata": {},
   "outputs": [
    {
     "ename": "Terminator",
     "evalue": "",
     "output_type": "error",
     "traceback": [
      "\u001b[1;31m---------------------------------------------------------------------------\u001b[0m",
      "\u001b[1;31mTclError\u001b[0m                                  Traceback (most recent call last)",
      "File \u001b[1;32m<string>:8\u001b[0m, in \u001b[0;36mforward\u001b[1;34m(distance)\u001b[0m\n",
      "File \u001b[1;32mC:\\Program Files\\WindowsApps\\PythonSoftwareFoundation.Python.3.10_3.10.2032.0_x64__qbz5n2kfra8p0\\lib\\turtle.py:1638\u001b[0m, in \u001b[0;36mTNavigator.forward\u001b[1;34m(self, distance)\u001b[0m\n\u001b[0;32m   1618\u001b[0m \u001b[39m\"\"\"Move the turtle forward by the specified distance.\u001b[39;00m\n\u001b[0;32m   1619\u001b[0m \n\u001b[0;32m   1620\u001b[0m \u001b[39mAliases: forward | fd\u001b[39;00m\n\u001b[1;32m   (...)\u001b[0m\n\u001b[0;32m   1636\u001b[0m \u001b[39m(-50.00,0.00)\u001b[39;00m\n\u001b[0;32m   1637\u001b[0m \u001b[39m\"\"\"\u001b[39;00m\n\u001b[1;32m-> 1638\u001b[0m \u001b[39mself\u001b[39;49m\u001b[39m.\u001b[39;49m_go(distance)\n",
      "File \u001b[1;32mC:\\Program Files\\WindowsApps\\PythonSoftwareFoundation.Python.3.10_3.10.2032.0_x64__qbz5n2kfra8p0\\lib\\turtle.py:1606\u001b[0m, in \u001b[0;36mTNavigator._go\u001b[1;34m(self, distance)\u001b[0m\n\u001b[0;32m   1605\u001b[0m ende \u001b[39m=\u001b[39m \u001b[39mself\u001b[39m\u001b[39m.\u001b[39m_position \u001b[39m+\u001b[39m \u001b[39mself\u001b[39m\u001b[39m.\u001b[39m_orient \u001b[39m*\u001b[39m distance\n\u001b[1;32m-> 1606\u001b[0m \u001b[39mself\u001b[39;49m\u001b[39m.\u001b[39;49m_goto(ende)\n",
      "File \u001b[1;32mC:\\Program Files\\WindowsApps\\PythonSoftwareFoundation.Python.3.10_3.10.2032.0_x64__qbz5n2kfra8p0\\lib\\turtle.py:3178\u001b[0m, in \u001b[0;36mRawTurtle._goto\u001b[1;34m(self, end)\u001b[0m\n\u001b[0;32m   3177\u001b[0m \u001b[39mif\u001b[39;00m \u001b[39mself\u001b[39m\u001b[39m.\u001b[39m_drawing:\n\u001b[1;32m-> 3178\u001b[0m     screen\u001b[39m.\u001b[39;49m_drawline(\u001b[39mself\u001b[39;49m\u001b[39m.\u001b[39;49mdrawingLineItem,\n\u001b[0;32m   3179\u001b[0m                      (start, \u001b[39mself\u001b[39;49m\u001b[39m.\u001b[39;49m_position),\n\u001b[0;32m   3180\u001b[0m                      \u001b[39mself\u001b[39;49m\u001b[39m.\u001b[39;49m_pencolor, \u001b[39mself\u001b[39;49m\u001b[39m.\u001b[39;49m_pensize, top)\n\u001b[0;32m   3181\u001b[0m \u001b[39mself\u001b[39m\u001b[39m.\u001b[39m_update()\n",
      "File \u001b[1;32mC:\\Program Files\\WindowsApps\\PythonSoftwareFoundation.Python.3.10_3.10.2032.0_x64__qbz5n2kfra8p0\\lib\\turtle.py:544\u001b[0m, in \u001b[0;36mTurtleScreenBase._drawline\u001b[1;34m(self, lineitem, coordlist, fill, width, top)\u001b[0m\n\u001b[0;32m    543\u001b[0m         cl\u001b[39m.\u001b[39mappend(\u001b[39m-\u001b[39my \u001b[39m*\u001b[39m \u001b[39mself\u001b[39m\u001b[39m.\u001b[39myscale)\n\u001b[1;32m--> 544\u001b[0m     \u001b[39mself\u001b[39;49m\u001b[39m.\u001b[39;49mcv\u001b[39m.\u001b[39;49mcoords(lineitem, \u001b[39m*\u001b[39;49mcl)\n\u001b[0;32m    545\u001b[0m \u001b[39mif\u001b[39;00m fill \u001b[39mis\u001b[39;00m \u001b[39mnot\u001b[39;00m \u001b[39mNone\u001b[39;00m:\n",
      "File \u001b[1;32m<string>:1\u001b[0m, in \u001b[0;36mcoords\u001b[1;34m(self, *args, **kw)\u001b[0m\n",
      "File \u001b[1;32mC:\\Program Files\\WindowsApps\\PythonSoftwareFoundation.Python.3.10_3.10.2032.0_x64__qbz5n2kfra8p0\\lib\\tkinter\\__init__.py:2795\u001b[0m, in \u001b[0;36mCanvas.coords\u001b[1;34m(self, *args)\u001b[0m\n\u001b[0;32m   2792\u001b[0m \u001b[39m# XXX Should use _flatten on args\u001b[39;00m\n\u001b[0;32m   2793\u001b[0m \u001b[39mreturn\u001b[39;00m [\u001b[39mself\u001b[39m\u001b[39m.\u001b[39mtk\u001b[39m.\u001b[39mgetdouble(x) \u001b[39mfor\u001b[39;00m x \u001b[39min\u001b[39;00m\n\u001b[0;32m   2794\u001b[0m                    \u001b[39mself\u001b[39m\u001b[39m.\u001b[39mtk\u001b[39m.\u001b[39msplitlist(\n\u001b[1;32m-> 2795\u001b[0m            \u001b[39mself\u001b[39;49m\u001b[39m.\u001b[39;49mtk\u001b[39m.\u001b[39;49mcall((\u001b[39mself\u001b[39;49m\u001b[39m.\u001b[39;49m_w, \u001b[39m'\u001b[39;49m\u001b[39mcoords\u001b[39;49m\u001b[39m'\u001b[39;49m) \u001b[39m+\u001b[39;49m args))]\n",
      "\u001b[1;31mTclError\u001b[0m: invalid command name \".!canvas\"",
      "\nDuring handling of the above exception, another exception occurred:\n",
      "\u001b[1;31mTerminator\u001b[0m                                Traceback (most recent call last)",
      "Cell \u001b[1;32mIn [86], line 5\u001b[0m\n\u001b[0;32m      3\u001b[0m begin_fill()\n\u001b[0;32m      4\u001b[0m \u001b[39mwhile\u001b[39;00m \u001b[39mTrue\u001b[39;00m:\n\u001b[1;32m----> 5\u001b[0m     forward(\u001b[39m200\u001b[39;49m)\n\u001b[0;32m      6\u001b[0m     left(\u001b[39m170\u001b[39m)\n\u001b[0;32m      7\u001b[0m     \u001b[39mif\u001b[39;00m \u001b[39mabs\u001b[39m(pos()) \u001b[39m<\u001b[39m \u001b[39m1\u001b[39m:\n",
      "File \u001b[1;32m<string>:12\u001b[0m, in \u001b[0;36mforward\u001b[1;34m(distance)\u001b[0m\n",
      "\u001b[1;31mTerminator\u001b[0m: "
     ]
    }
   ],
   "source": [
    "from turtle import *\n",
    "color('red', 'yellow')\n",
    "begin_fill()\n",
    "while True:\n",
    "    forward(200)\n",
    "    left(170)\n",
    "    if abs(pos()) < 1:\n",
    "        break\n",
    "end_fill()\n",
    "done()"
   ]
  },
  {
   "cell_type": "code",
   "execution_count": null,
   "metadata": {},
   "outputs": [],
   "source": [
    "x = input(\"yasinizi giriniz\")\n",
    "\n",
    "while type(x) != int:\n",
    "    x = input(\"yasinizi giriniz\")\n",
    "print(x)\n"
   ]
  },
  {
   "cell_type": "code",
   "execution_count": null,
   "metadata": {},
   "outputs": [
    {
     "name": "stdout",
     "output_type": "stream",
     "text": [
      "34\n"
     ]
    }
   ],
   "source": [
    "x = input(\"yasinizi giriniz\")\n",
    "while x.isdigit() != True:\n",
    "    x = input(\"yasinizi giriniz\")\n",
    "print(x)"
   ]
  },
  {
   "cell_type": "code",
   "execution_count": null,
   "metadata": {},
   "outputs": [
    {
     "name": "stdout",
     "output_type": "stream",
     "text": [
      "True\n",
      "True\n"
     ]
    }
   ],
   "source": [
    "print(b'232323424'.isdigit())\n",
    "print(b'  '.isspace())"
   ]
  },
  {
   "cell_type": "code",
   "execution_count": null,
   "metadata": {},
   "outputs": [
    {
     "name": "stdout",
     "output_type": "stream",
     "text": [
      "tebrikler bildiniz sayi 47\n"
     ]
    }
   ],
   "source": [
    "x = int(input(\"bir sayi giriniz\"))\n",
    "y = 47\n",
    "while x != y:\n",
    "    if x < y:\n",
    "        x = int(input(\"büyük sayi giriniz\"))\n",
    "    else:\n",
    "        x = int(input(\"kücük sayi giriniz\"))\n",
    "print(f\"tebrikler bildiniz sayi {y}\")"
   ]
  },
  {
   "cell_type": "code",
   "execution_count": null,
   "metadata": {},
   "outputs": [
    {
     "name": "stdout",
     "output_type": "stream",
     "text": [
      "tebrikler bildiniz sayi 47\n"
     ]
    }
   ],
   "source": [
    "x = int(input(\"bir sayi giriniz\"))\n",
    "y = 47\n",
    "while True:\n",
    "    if x < y:\n",
    "        x = int(input(\"büyük sayi giriniz\"))\n",
    "    elif x > y:\n",
    "        x = int(input(\"kücük sayi giriniz\"))\n",
    "    else:\n",
    "        print(f\"tebrikler bildiniz sayi {y}\")\n",
    "        break\n"
   ]
  },
  {
   "cell_type": "code",
   "execution_count": null,
   "metadata": {},
   "outputs": [
    {
     "name": "stdout",
     "output_type": "stream",
     "text": [
      "45\n",
      "66\n",
      "88\n",
      "77\n",
      "70\n",
      "73\n",
      "tebrikler 6 tekrarda bildiniz 73 yi\n"
     ]
    }
   ],
   "source": [
    "import random\n",
    "\n",
    "x = int(input(\"bir sayi giriniz\"))\n",
    "y = random.randint(0,100)\n",
    "i = 0\n",
    "while True:\n",
    "    i +=1\n",
    "    print(f\"{i} deneme {x}\")\n",
    "    if x < y:\n",
    "        x = int(input(f\"büyük sayi giriniz\"))\n",
    "    elif x > y:\n",
    "        x = int(input(\"kücük sayi giriniz\"))        \n",
    "    else:\n",
    "        print(f\"tebrikler  bildiniz {y}\")\n",
    "        break\n"
   ]
  },
  {
   "cell_type": "code",
   "execution_count": null,
   "metadata": {},
   "outputs": [
    {
     "name": "stdout",
     "output_type": "stream",
     "text": [
      "daha büyük sayı gir.\n",
      "daha büyük sayı gir.\n",
      "daha küçük sayı gir.\n",
      "daha küçük sayı gir.\n",
      "Bravo!,5 tahminde sayıyı buldunuz\n",
      "Puanınız.: 60\n"
     ]
    }
   ],
   "source": [
    "##puanlı tahmin oyunu\n",
    "import random\n",
    "num = random.randint(0,100)\n",
    "sayac = 0\n",
    "puan = 100\n",
    "while True:\n",
    "    sayac +=1\n",
    "    tahmin = int(input(\"Hangi sayıyı tuttum..: \"))\n",
    "    if tahmin<num:\n",
    "        print(\"daha büyük sayı gir.\")\n",
    "    elif tahmin>num:\n",
    "        print(\"daha küçük sayı gir.\")\n",
    "    else:\n",
    "        print(f\"Bravo!,{sayac} tahminde sayıyı buldunuz\\nPuanınız.: {puan}\")\n",
    "        break       #sonsuz döngüden çık\n",
    "    puan -= 10"
   ]
  },
  {
   "cell_type": "code",
   "execution_count": null,
   "metadata": {},
   "outputs": [
    {
     "name": "stdout",
     "output_type": "stream",
     "text": [
      "en uzun kelime 8\n"
     ]
    }
   ],
   "source": [
    "str1 = input(\"bir cümle giriniz\") \n",
    "kelime = str1.split()\n",
    "en_uzun = 0\n",
    "i = j = 0\n",
    "harf = {}\n",
    "while i < len(kelime):\n",
    "    if len(kelime[i])> en_uzun:\n",
    "        en_uzun = len(kelime[i])\n",
    "    i +=1\n",
    "print(\"en uzun kelime\", en_uzun)\n"
   ]
  },
  {
   "cell_type": "code",
   "execution_count": null,
   "metadata": {},
   "outputs": [
    {
     "ename": "KeyError",
     "evalue": "'append'",
     "output_type": "error",
     "traceback": [
      "\u001b[1;31m---------------------------------------------------------------------------\u001b[0m",
      "\u001b[1;31mKeyError\u001b[0m                                  Traceback (most recent call last)",
      "Cell \u001b[1;32mIn [29], line 4\u001b[0m\n\u001b[0;32m      2\u001b[0m \u001b[39mfor\u001b[39;00m i \u001b[39min\u001b[39;00m \u001b[39mdir\u001b[39m(\u001b[39mlist\u001b[39m): \u001b[39m## sadece bana lis'in metotlarini ver. _ olanlari verme\u001b[39;00m\n\u001b[0;32m      3\u001b[0m     \u001b[39mif\u001b[39;00m \u001b[39mnot\u001b[39;00m i\u001b[39m.\u001b[39mstartswith(\u001b[39m\"\u001b[39m\u001b[39m_\u001b[39m\u001b[39m\"\u001b[39m):\n\u001b[1;32m----> 4\u001b[0m         list_method[i]\n\u001b[0;32m      5\u001b[0m         \u001b[39mprint\u001b[39m(i)\n",
      "\u001b[1;31mKeyError\u001b[0m: 'append'"
     ]
    }
   ],
   "source": [
    "list_method = {}\n",
    "for i in dir(list): ## sadece bana lis'in metotlarini ver. _ olanlari verme\n",
    "    if not i.startswith(\"_\"):\n",
    "        # list_method = list_method.append(i)\n",
    "        print(i)"
   ]
  },
  {
   "cell_type": "code",
   "execution_count": null,
   "metadata": {},
   "outputs": [
    {
     "name": "stdout",
     "output_type": "stream",
     "text": [
      "hello ArithmeticError\n",
      "hello kelime\n",
      "hello takisima\n"
     ]
    }
   ],
   "source": [
    "names =[\"ArithmeticError\", \"kelime\", \"takisima\"]\n",
    "for name in names:\n",
    "    print(f\"hello {name}\")"
   ]
  },
  {
   "cell_type": "code",
   "execution_count": null,
   "metadata": {},
   "outputs": [
    {
     "name": "stdout",
     "output_type": "stream",
     "text": [
      "[1, 2, 3, 4, 5]\n"
     ]
    }
   ],
   "source": [
    "a = []\n",
    "for i in range(1,6):\n",
    "    a.append(i)\n",
    "print(a)\n"
   ]
  },
  {
   "cell_type": "code",
   "execution_count": null,
   "metadata": {},
   "outputs": [
    {
     "name": "stdout",
     "output_type": "stream",
     "text": [
      "c-l-a-r-u-s-w-a-y\n"
     ]
    }
   ],
   "source": [
    "a = \"Clarusway\".lower()\n",
    "for i in a:\n",
    "    print(i, end=\"-\")\n",
    "print(\"\\b\")"
   ]
  },
  {
   "cell_type": "code",
   "execution_count": null,
   "metadata": {},
   "outputs": [
    {
     "name": "stdout",
     "output_type": "stream",
     "text": [
      "c-l-a-r-u-s-w-a-y\n"
     ]
    }
   ],
   "source": [
    "for i in \"Clarusway\".lower():\n",
    "    print(i, end=\"-\")\n",
    "print(\"\\b\")"
   ]
  },
  {
   "cell_type": "code",
   "execution_count": null,
   "metadata": {},
   "outputs": [
    {
     "name": "stdout",
     "output_type": "stream",
     "text": [
      "c-l-a-r-u-s-w-a-y"
     ]
    }
   ],
   "source": [
    "word = input(\"bir text giriniz\")\n",
    "sayac = 0\n",
    "for a in word:\n",
    "    sayac +=1\n",
    "    if sayac< len(word):\n",
    "        a = a+\"-\"\n",
    "    print(a,end=\"\")"
   ]
  },
  {
   "cell_type": "code",
   "execution_count": null,
   "metadata": {},
   "outputs": [
    {
     "name": "stdout",
     "output_type": "stream",
     "text": [
      "c-l-a-r-u-s-w-a-y\n"
     ]
    }
   ],
   "source": [
    "text = \"Clarusway\".lower()\n",
    "print(\"-\".join(text))"
   ]
  },
  {
   "cell_type": "code",
   "execution_count": null,
   "metadata": {},
   "outputs": [],
   "source": [
    "user ={\"name\":}"
   ]
  },
  {
   "cell_type": "code",
   "execution_count": null,
   "metadata": {},
   "outputs": [
    {
     "name": "stdout",
     "output_type": "stream",
     "text": [
      "20\n"
     ]
    }
   ],
   "source": [
    "a = 5\n",
    "b = 4\n",
    "x = 0\n",
    "for i in range(1,1+a):\n",
    "    x += b\n",
    "print(x)\n"
   ]
  },
  {
   "cell_type": "code",
   "execution_count": null,
   "metadata": {},
   "outputs": [
    {
     "name": "stdout",
     "output_type": "stream",
     "text": [
      "{'ArithmeticError': 0, 'kelime': 1, 'takisima': 2}\n"
     ]
    }
   ],
   "source": [
    "names =[\"ArithmeticError\", \"kelime\", \"takisima\"]\n",
    "liste = {}\n",
    "j = 0 \n",
    "for i in names:\n",
    "    liste[i] = j\n",
    "    j +=1\n",
    "print(liste)"
   ]
  },
  {
   "cell_type": "code",
   "execution_count": null,
   "metadata": {},
   "outputs": [
    {
     "name": "stdout",
     "output_type": "stream",
     "text": [
      "surfen : gezinme\n"
     ]
    }
   ],
   "source": [
    "Deutsh_Sözlük ={\"Adverbien\":{\n",
    "                    \"weiter\":\"ileri\",\n",
    "                    \"zurück\":\"geri\",\n",
    "                    \"fett\":\"kalin\"\n",
    "                    },\n",
    "                \"Verben\":{\n",
    "                    \"anklicken\":\"Tiklamak\",\n",
    "                    \"abbrechen\":\"Iptal etmek\",\n",
    "                    \"auswählen\":\"secmek\",\n",
    "                    \"aktualisieren\":\"yenilemek\",\n",
    "                    \"bearbeiten\":\"düzenleme\",\n",
    "                    \"annehmen\":\"kabul etmek\",\n",
    "                    \"anschließen\":\"baglamak\",\n",
    "                    \"anzeigen\":\"görüntüle\",\n",
    "                    \"ausblenden\":\"gizlemek\",\n",
    "                    \"einfügen\":\"yapistirmak\",\n",
    "                    \"entfernen\":\"silmek\",\n",
    "                    \"erstellen\":\"yaratmak\",\n",
    "                    \"formatieren\":\"formatlamak\",\n",
    "                    \"herunterladen\":\"indirmek\",\n",
    "                    \"hinzufügen\":\"eklemek\",\n",
    "                    \"kopieren\":\"kopyalamak\",\n",
    "                    \"laufen_lassen\":\"calistir\",\n",
    "                    \"sortieren\":\"siralamak\",\n",
    "                    \"surfen\":\"gezinme\",\n",
    "                    \"überprüfen\":\"test etmek\",\n",
    "                    \"verschieben\":\"tasimak- degistirmek\",   \n",
    "                    }\n",
    "    }\n",
    "kelime = input(\"aradiginiz almanca kelimeyi giriniz\").lower()\n",
    "x=0\n",
    "for i in Deutsh_Sözlük.values():\n",
    "    for j in i.items():\n",
    "        if j[0].lower() == kelime:\n",
    "            print(j[0],\":\",j[1])\n",
    "            x+=1\n",
    "if x==0:\n",
    "    print(\"aranan sayi yoktur\")\n",
    "    \n"
   ]
  },
  {
   "cell_type": "code",
   "execution_count": null,
   "metadata": {},
   "outputs": [
    {
     "name": "stdout",
     "output_type": "stream",
     "text": [
      "variable : değişken\n",
      "aradiginiz kelime bulunamadi\n"
     ]
    }
   ],
   "source": [
    "# dictionary IT Deutsch : Türkisch\n",
    "# kelime  sorgulama programi\n",
    "python_dic = {\n",
    "    \"python_allgemein\":\n",
    "{\n",
    "    \"Programmiersprache\": \"Programa dili\",\n",
    "    \"objektorientierte\": \"nesne odakli\",\n",
    "    \"Sprache\": \"dil\",\n",
    "    \"Einrückung\": \"girinti\",\n",
    "    \"ein offenes gemeinschaftsbasiertes Entwicklungsmodell  \": \"acik kaynaklitopluluk temelli gelistirme moodeli\",\n",
    " },\n",
    "    \"Strukturen\":\n",
    "{\n",
    "        \"Datentypen\": \"veri tipleri\",\n",
    "        \"Variable\": \"değişken\",\n",
    "        \"Zeichenkette\": \"dizi\",\n",
    "        \"Mengen\": \"set /küme\",\n",
    "        \"assoziative Arrays\": \"Dictionaries/sözlükler\",\n",
    "        \"iterieren\": \"yenilemek/itere etmek\",\n",
    "        \"unveränderlichen \": \"degismez\",\n",
    "        \"eingetragenen Werte\": \"kaydedilmis  veriler\",\n",
    "        \"Vereinigung\": \"birlesim\",\n",
    "        \"Durchschnitt\": \"kesisim\",\n",
    "        \"Tabulatorzeichen\" : \"isaret \" \"  \"\n",
    " }\n",
    "}\n",
    "# Almanca girilen bir kelimenin sözlükte varsa Türkçe karşılığını yoksa \"sözlükte yoktur\" gibi bir mesajı yazdırmaya çalışalım...\n",
    "aranan_kelime = input(\"cevirmek istediginiz kelimeyi giirniz:\").lower()\n",
    "for k in python_dic.keys():\n",
    "    #print(k)\n",
    "    for k1 in python_dic[k]:\n",
    "        #print(k1)\n",
    "        if aranan_kelime == k1.lower():\n",
    "            print(aranan_kelime,\":\", python_dic[k][k1])\n",
    "else:\n",
    "    print(\"aradiginiz kelime bulunamadi\")"
   ]
  },
  {
   "cell_type": "markdown",
   "metadata": {},
   "source": []
  },
  {
   "cell_type": "code",
   "execution_count": null,
   "metadata": {},
   "outputs": [
    {
     "name": "stdout",
     "output_type": "stream",
     "text": [
      "aranan kelime yoktur\n"
     ]
    }
   ],
   "source": [
    "Deutsh_Sözlük ={\"Adverbien\":{\n",
    "                    \"weiter\":\"ileri\",\n",
    "                    \"zurück\":\"geri\",\n",
    "                    \"fett\":\"kalin\"\n",
    "                    },\n",
    "                \"Verben\":{\n",
    "                    \"anklicken\":\"Tiklamak\",\n",
    "                    \"abbrechen\":\"Iptal etmek\",\n",
    "                    \"auswählen\":\"secmek\",\n",
    "                    \"aktualisieren\":\"yenilemek\",\n",
    "                    \"bearbeiten\":\"düzenleme\",\n",
    "                    \"annehmen\":\"kabul etmek\",\n",
    "                    \"anschließen\":\"baglamak\",\n",
    "                    \"anzeigen\":\"görüntüle\",\n",
    "                    \"ausblenden\":\"gizlemek\",\n",
    "                    \"einfügen\":\"yapistirmak\",\n",
    "                    \"entfernen\":\"silmek\",\n",
    "                    \"erstellen\":\"yaratmak\",\n",
    "                    \"formatieren\":\"formatlamak\",\n",
    "                    \"herunterladen\":\"indirmek\",\n",
    "                    \"hinzufügen\":\"eklemek\",\n",
    "                    \"kopieren\":\"kopyalamak\",\n",
    "                    \"laufen_lassen\":\"calistir\",\n",
    "                    \"sortieren\":\"siralamak\",\n",
    "                    \"surfen\":\"gezinme\",\n",
    "                    \"überprüfen\":\"test etmek\",\n",
    "                    \"verschieben\":\"tasimak- degistirmek\",   \n",
    "                    }\n",
    "    }\n",
    "kelime = input(\"aradiginiz almanca kelimeyi giriniz\").lower()\n",
    "x=0\n",
    "for i in Deutsh_Sözlük.keys():\n",
    "    for j in Deutsh_Sözlük[i]:\n",
    "        if j.lower() == kelime:\n",
    "            print(kelime,\":\",Deutsh_Sözlük[i][j])\n",
    "            x+=1\n",
    "if x==0:\n",
    "    print(\"aranan kelime yoktur\")\n",
    "    \n"
   ]
  },
  {
   "cell_type": "markdown",
   "metadata": {},
   "source": [
    "Übungen\n",
    "Task-17: Girilen bir sayının asal sayı olup olmadığın bulan program."
   ]
  },
  {
   "cell_type": "code",
   "execution_count": 6,
   "metadata": {},
   "outputs": [
    {
     "name": "stdout",
     "output_type": "stream",
     "text": [
      "7 asal sayidir\n"
     ]
    }
   ],
   "source": [
    "sayi = int(input(\"Bir sayi giriniz\"))\n",
    "# 1 e ve kendisine bölünebilir\n",
    "j = 0\n",
    "if sayi<=1:\n",
    "    j+=1\n",
    "for i in range(2,sayi):\n",
    "    if sayi%i == 0:\n",
    "        j+=1\n",
    "if j == 0:\n",
    "    print(f\"{sayi} asal sayidir\")\n",
    "else:\n",
    "    print(f\"{sayi} asal sayi degildir\")"
   ]
  },
  {
   "cell_type": "markdown",
   "metadata": {},
   "source": []
  },
  {
   "cell_type": "markdown",
   "metadata": {},
   "source": [
    "Task-18: Fibonacci Sayıları:\n",
    " Create a list consisting of Fibonacci numbers from 1 to 55."
   ]
  },
  {
   "cell_type": "code",
   "execution_count": 14,
   "metadata": {},
   "outputs": [
    {
     "name": "stdout",
     "output_type": "stream",
     "text": [
      "[1, 1, 2, 3, 5, 8, 13, 21, 34]\n"
     ]
    }
   ],
   "source": [
    "sayi = 55\n",
    "liste = []\n",
    "bir = 0\n",
    "iki = 1\n",
    "üc = 1\n",
    "while üc < sayi:\n",
    "    liste.append(üc)\n",
    "    üc = bir + iki\n",
    "    bir, iki = iki, üc    \n",
    "print(liste)"
   ]
  },
  {
   "cell_type": "code",
   "execution_count": 15,
   "metadata": {},
   "outputs": [
    {
     "name": "stdout",
     "output_type": "stream",
     "text": [
      "[1, 1, 2, 3, 5, 8, 13, 21, 34, 55]\n"
     ]
    }
   ],
   "source": [
    "#**********   Task-18   Alternativ 1 **************#\n",
    "liste = [1,1]\n",
    "while liste[-1] < 55:\n",
    "    liste.append(liste[-1]+liste[-2])\n",
    "print(liste)"
   ]
  },
  {
   "cell_type": "code",
   "execution_count": 5,
   "metadata": {},
   "outputs": [
    {
     "name": "stdout",
     "output_type": "stream",
     "text": [
      "9 asal bir sayi degildir!\n"
     ]
    }
   ],
   "source": [
    "sayi = int(input(\"Bir sayi giriniz!\"))\n",
    "is_asal = True\n",
    "\n",
    "if(sayi<2):\n",
    "    is_asal=False    \n",
    "elif sayi>2 and sayi%2==0:\n",
    "    is_asal=False   \n",
    "else :\n",
    "    for i in range(3, sayi//2, 2) :\n",
    "        if  sayi%i == 0 :\n",
    "            is_asal = False\n",
    "            break\n",
    "\n",
    "if is_asal:\n",
    "   print(\"{} asal bir sayidir!\".format(sayi))\n",
    "else :\n",
    "    print(\"{} asal bir sayi degildir!\".format(sayi))"
   ]
  }
 ],
 "metadata": {
  "kernelspec": {
   "display_name": "Python 3.10.7 64-bit (microsoft store)",
   "language": "python",
   "name": "python3"
  },
  "language_info": {
   "codemirror_mode": {
    "name": "ipython",
    "version": 3
   },
   "file_extension": ".py",
   "mimetype": "text/x-python",
   "name": "python",
   "nbconvert_exporter": "python",
   "pygments_lexer": "ipython3",
   "version": "3.10.7"
  },
  "orig_nbformat": 4,
  "vscode": {
   "interpreter": {
    "hash": "ba33de22a5821ff61dd53097cd70511c2f19fae7b0f9e8b27ee69b6aca2c4956"
   }
  }
 },
 "nbformat": 4,
 "nbformat_minor": 2
}
