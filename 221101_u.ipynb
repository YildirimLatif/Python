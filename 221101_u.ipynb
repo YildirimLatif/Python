{
 "cells": [
  {
   "cell_type": "code",
   "execution_count": 24,
   "metadata": {},
   "outputs": [
    {
     "name": "stdout",
     "output_type": "stream",
     "text": [
      "18\n",
      "1.5714285714285714\n",
      "77\n",
      "4\n",
      "yanlis girdiniz\n"
     ]
    }
   ],
   "source": [
    "def calca(x,y,a):\n",
    "    if a == \"+\":\n",
    "        t = x+y\n",
    "    elif a == \"-\":\n",
    "        t = x-y\n",
    "    elif a == \"*\":\n",
    "        t = x*y\n",
    "    elif a == \"/\":\n",
    "        t = x/y\n",
    "    else:\n",
    "        t = \"yanlis girdiniz\"\n",
    "\n",
    "    return t\n",
    "    \n",
    "print(calca(11,7,\"+\"))\n",
    "print(calca(11,7,\"/\"))\n",
    "print(calca(11,7,\"*\"))\n",
    "print(calca(11,7,\"-\"))\n",
    "print(calca(11,7,\"6\"))\n"
   ]
  },
  {
   "cell_type": "code",
   "execution_count": 25,
   "metadata": {},
   "outputs": [
    {
     "name": "stdout",
     "output_type": "stream",
     "text": [
      "791868\n"
     ]
    }
   ],
   "source": [
    "print(calca(113124,7,\"*\"))"
   ]
  },
  {
   "cell_type": "code",
   "execution_count": 26,
   "metadata": {},
   "outputs": [
    {
     "name": "stdout",
     "output_type": "stream",
     "text": [
      "<class 'int'>\n",
      "<class 'float'>\n",
      "<class 'int'>\n",
      "<class 'int'>\n",
      "<class 'str'>\n"
     ]
    }
   ],
   "source": [
    "print(type(calca(11,7,\"+\")))\n",
    "print(type(calca(11,7,\"/\")))\n",
    "print(type(calca(11,7,\"*\")))\n",
    "print(type(calca(11,7,\"-\")))\n",
    "print(type(calca(11,7,\"6\")))"
   ]
  },
  {
   "cell_type": "code",
   "execution_count": 29,
   "metadata": {},
   "outputs": [],
   "source": [
    "def my_abs(x):\n",
    "    \"\"\"\n",
    "    Bu fonksiyon takla atar\"\"\"\n",
    "    if x<0:\n",
    "        x = x*-1\n",
    "    return x"
   ]
  },
  {
   "cell_type": "code",
   "execution_count": 32,
   "metadata": {},
   "outputs": [
    {
     "data": {
      "text/plain": [
       "'\\n    Bu fonksiyon takla atar'"
      ]
     },
     "execution_count": 32,
     "metadata": {},
     "output_type": "execute_result"
    }
   ],
   "source": [
    "# test edelim\n",
    "my_abs(-523)\n",
    "my_abs.__doc__\n"
   ]
  },
  {
   "cell_type": "code",
   "execution_count": 36,
   "metadata": {},
   "outputs": [
    {
     "name": "stdout",
     "output_type": "stream",
     "text": [
      "i love you\n"
     ]
    }
   ],
   "source": [
    "a = \"i\"\n",
    "b = \"love\"\n",
    "c = \"you\"\n",
    "def texter(c,a,b):\n",
    "    print(f\"{a} {b} {c}\")\n",
    "texter(a = \"i\",b = \"love\",c = \"you\")"
   ]
  },
  {
   "cell_type": "code",
   "execution_count": 49,
   "metadata": {},
   "outputs": [
    {
     "name": "stdout",
     "output_type": "stream",
     "text": [
      "Hallo guido Wie gehts dir\n",
      "Hallo guido Wie gehts dir\n",
      "Hallo guido Wie gehts dir\n",
      "\n",
      "Hallo guido Wie gehts dir\n"
     ]
    }
   ],
   "source": [
    "def who(person, num = 3):\n",
    "    for i in range(num):\n",
    "        print(\"Hallo\", person, \"Wie gehts dir\")\n",
    "\n",
    "who(\"guido\")\n",
    "print()\n",
    "who(\"guido\",1)"
   ]
  },
  {
   "cell_type": "code",
   "execution_count": 50,
   "metadata": {},
   "outputs": [
    {
     "name": "stdout",
     "output_type": "stream",
     "text": [
      "[0, 1, 2, 3, 4, 5, 6, 7, 8, 9, 10, 11, 12, 13, 14, 15, 16, 17, 18, 19, 20]\n"
     ]
    }
   ],
   "source": [
    "def my_range(stop, start = 0, step = 1):\n",
    "    list = []\n",
    "    while start < stop:\n",
    "        list.append(start)\n",
    "        start += step\n",
    "    return list\n",
    "#test edelim\n",
    "print(my_range(21))"
   ]
  },
  {
   "cell_type": "code",
   "execution_count": 53,
   "metadata": {},
   "outputs": [
    {
     "name": "stdout",
     "output_type": "stream",
     "text": [
      "[2, 3, 4, 5, 6]\n"
     ]
    }
   ],
   "source": [
    "def my_range(stop, start = 0, step = 1):\n",
    "    list = []\n",
    "    if stop<start:\n",
    "        stop,start = start,stop\n",
    "    while start < stop:\n",
    "        list.append(start)\n",
    "        start += step\n",
    "    return list\n",
    "#test edelim\n",
    "print(my_range(2,7))"
   ]
  },
  {
   "cell_type": "code",
   "execution_count": 54,
   "metadata": {},
   "outputs": [
    {
     "name": "stdout",
     "output_type": "stream",
     "text": [
      "[+] - Toplama\n",
      "\n",
      "[-] - Cikarma\n",
      "\n",
      "[*] - Carpma\n",
      "\n",
      "[/] - Bölme\n",
      "\n",
      "Sonuc = 40\n",
      "[+] - Toplama\n",
      "\n",
      "[-] - Cikarma\n",
      "\n",
      "[*] - Carpma\n",
      "\n",
      "[/] - Bölme\n",
      "\n"
     ]
    },
    {
     "ename": "KeyboardInterrupt",
     "evalue": "Interrupted by user",
     "output_type": "error",
     "traceback": [
      "\u001b[1;31m---------------------------------------------------------------------------\u001b[0m",
      "\u001b[1;31mKeyboardInterrupt\u001b[0m                         Traceback (most recent call last)",
      "Cell \u001b[1;32mIn [54], line 17\u001b[0m\n\u001b[0;32m     15\u001b[0m \u001b[39mwhile\u001b[39;00m \u001b[39mTrue\u001b[39;00m:\n\u001b[0;32m     16\u001b[0m     menu()\n\u001b[1;32m---> 17\u001b[0m     a \u001b[39m=\u001b[39m \u001b[39mint\u001b[39m(\u001b[39minput\u001b[39;49m(\u001b[39m\"\u001b[39;49m\u001b[39m1. num\u001b[39;49m\u001b[39m\"\u001b[39;49m))\n\u001b[0;32m     18\u001b[0m     b \u001b[39m=\u001b[39m \u001b[39mint\u001b[39m(\u001b[39minput\u001b[39m(\u001b[39m\"\u001b[39m\u001b[39m2. num\u001b[39m\u001b[39m\"\u001b[39m))\n\u001b[0;32m     19\u001b[0m     op \u001b[39m=\u001b[39m \u001b[39minput\u001b[39m(\u001b[39m\"\u001b[39m\u001b[39mislem sec\u001b[39m\u001b[39m\"\u001b[39m)\n",
      "File \u001b[1;32m~\\AppData\\Local\\Packages\\PythonSoftwareFoundation.Python.3.10_qbz5n2kfra8p0\\LocalCache\\local-packages\\Python310\\site-packages\\ipykernel\\kernelbase.py:1177\u001b[0m, in \u001b[0;36mKernel.raw_input\u001b[1;34m(self, prompt)\u001b[0m\n\u001b[0;32m   1173\u001b[0m \u001b[39mif\u001b[39;00m \u001b[39mnot\u001b[39;00m \u001b[39mself\u001b[39m\u001b[39m.\u001b[39m_allow_stdin:\n\u001b[0;32m   1174\u001b[0m     \u001b[39mraise\u001b[39;00m StdinNotImplementedError(\n\u001b[0;32m   1175\u001b[0m         \u001b[39m\"\u001b[39m\u001b[39mraw_input was called, but this frontend does not support input requests.\u001b[39m\u001b[39m\"\u001b[39m\n\u001b[0;32m   1176\u001b[0m     )\n\u001b[1;32m-> 1177\u001b[0m \u001b[39mreturn\u001b[39;00m \u001b[39mself\u001b[39;49m\u001b[39m.\u001b[39;49m_input_request(\n\u001b[0;32m   1178\u001b[0m     \u001b[39mstr\u001b[39;49m(prompt),\n\u001b[0;32m   1179\u001b[0m     \u001b[39mself\u001b[39;49m\u001b[39m.\u001b[39;49m_parent_ident[\u001b[39m\"\u001b[39;49m\u001b[39mshell\u001b[39;49m\u001b[39m\"\u001b[39;49m],\n\u001b[0;32m   1180\u001b[0m     \u001b[39mself\u001b[39;49m\u001b[39m.\u001b[39;49mget_parent(\u001b[39m\"\u001b[39;49m\u001b[39mshell\u001b[39;49m\u001b[39m\"\u001b[39;49m),\n\u001b[0;32m   1181\u001b[0m     password\u001b[39m=\u001b[39;49m\u001b[39mFalse\u001b[39;49;00m,\n\u001b[0;32m   1182\u001b[0m )\n",
      "File \u001b[1;32m~\\AppData\\Local\\Packages\\PythonSoftwareFoundation.Python.3.10_qbz5n2kfra8p0\\LocalCache\\local-packages\\Python310\\site-packages\\ipykernel\\kernelbase.py:1219\u001b[0m, in \u001b[0;36mKernel._input_request\u001b[1;34m(self, prompt, ident, parent, password)\u001b[0m\n\u001b[0;32m   1216\u001b[0m             \u001b[39mbreak\u001b[39;00m\n\u001b[0;32m   1217\u001b[0m \u001b[39mexcept\u001b[39;00m \u001b[39mKeyboardInterrupt\u001b[39;00m:\n\u001b[0;32m   1218\u001b[0m     \u001b[39m# re-raise KeyboardInterrupt, to truncate traceback\u001b[39;00m\n\u001b[1;32m-> 1219\u001b[0m     \u001b[39mraise\u001b[39;00m \u001b[39mKeyboardInterrupt\u001b[39;00m(\u001b[39m\"\u001b[39m\u001b[39mInterrupted by user\u001b[39m\u001b[39m\"\u001b[39m) \u001b[39mfrom\u001b[39;00m \u001b[39mNone\u001b[39m\n\u001b[0;32m   1220\u001b[0m \u001b[39mexcept\u001b[39;00m \u001b[39mException\u001b[39;00m:\n\u001b[0;32m   1221\u001b[0m     \u001b[39mself\u001b[39m\u001b[39m.\u001b[39mlog\u001b[39m.\u001b[39mwarning(\u001b[39m\"\u001b[39m\u001b[39mInvalid Message:\u001b[39m\u001b[39m\"\u001b[39m, exc_info\u001b[39m=\u001b[39m\u001b[39mTrue\u001b[39;00m)\n",
      "\u001b[1;31mKeyboardInterrupt\u001b[0m: Interrupted by user"
     ]
    }
   ],
   "source": [
    "def menu():\n",
    "    print(\"[+] - Toplama\\n\")\n",
    "    print(\"[-] - Cikarma\\n\")\n",
    "    print(\"[*] - Carpma\\n\")\n",
    "    print(\"[/] - Bölme\\n\")\n",
    "\n",
    "def calca(x,y,a):\n",
    "    if a == \"+\": return x+y\n",
    "    elif a == \"-\": return x-y\n",
    "    elif a == \"*\": return x*y\n",
    "    elif a == \"/\": return x/y \n",
    "    else: return \"yanlis girdiniz\"\n",
    "\n",
    "    \n",
    "while True:\n",
    "    menu()\n",
    "    a = int(input(\"1. num\"))\n",
    "    b = int(input(\"2. num\"))\n",
    "    op = input(\"islem sec\")\n",
    "    sonuc = calca(a,b,op)\n",
    "    print(\"Sonuc =\", sonuc)"
   ]
  }
 ],
 "metadata": {
  "kernelspec": {
   "display_name": "Python 3.10.7 64-bit (microsoft store)",
   "language": "python",
   "name": "python3"
  },
  "language_info": {
   "codemirror_mode": {
    "name": "ipython",
    "version": 3
   },
   "file_extension": ".py",
   "mimetype": "text/x-python",
   "name": "python",
   "nbconvert_exporter": "python",
   "pygments_lexer": "ipython3",
   "version": "3.10.7"
  },
  "orig_nbformat": 4,
  "vscode": {
   "interpreter": {
    "hash": "ba33de22a5821ff61dd53097cd70511c2f19fae7b0f9e8b27ee69b6aca2c4956"
   }
  }
 },
 "nbformat": 4,
 "nbformat_minor": 2
}
