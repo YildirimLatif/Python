{
 "cells": [
  {
   "cell_type": "code",
   "execution_count": 16,
   "metadata": {},
   "outputs": [],
   "source": [
    "def slicer(*x):\n",
    "    tek = []\n",
    "    cift = []\n",
    "    for i in x:\n",
    "        if i%2:\n",
    "            tek.append(i)\n",
    "        else:\n",
    "            cift.append(i)\n",
    "    print(tek)\n",
    "    print(cift)\n",
    "\n"
   ]
  },
  {
   "cell_type": "code",
   "execution_count": 26,
   "metadata": {},
   "outputs": [],
   "source": [
    "def cc(*x):\n",
    "    t =[]\n",
    "    c =[]\n",
    "    for i in x:\n",
    "        if i%2:\n",
    "            t.append(i)\n",
    "        else:\n",
    "            c.append(i)\n",
    "    print(\"tek =\",t)\n",
    "    print(\"cift = \",c)"
   ]
  },
  {
   "cell_type": "code",
   "execution_count": 27,
   "metadata": {},
   "outputs": [
    {
     "name": "stdout",
     "output_type": "stream",
     "text": [
      "tek = [1, 3, 5, 7, 9]\n",
      "cift [0, 2, 4, 6, 8]\n"
     ]
    }
   ],
   "source": [
    "a = [1,2,3,4,5]\n",
    "cc(*range(10))"
   ]
  },
  {
   "cell_type": "code",
   "execution_count": 36,
   "metadata": {},
   "outputs": [],
   "source": [
    "def ore(**x):\n",
    "    name = []\n",
    "    say = []\n",
    "    for i,j in x.items():\n",
    "        say.append(j)\n",
    "        name.append(i)\n",
    "    print(name)\n",
    "    print(say)\n",
    "\n"
   ]
  },
  {
   "cell_type": "code",
   "execution_count": null,
   "metadata": {},
   "outputs": [],
   "source": [
    "ore(bet=4, asd=45, kale=54)"
   ]
  },
  {
   "cell_type": "code",
   "execution_count": 38,
   "metadata": {},
   "outputs": [],
   "source": [
    "def birlestir(x,y):\n",
    "    z = []\n",
    "    for i in zip(x,y):\n",
    "        z.append(i)\n",
    "    return z\n"
   ]
  },
  {
   "cell_type": "code",
   "execution_count": 42,
   "metadata": {},
   "outputs": [],
   "source": [
    "def birlestir(x,y):\n",
    "    z = [i for i in zip(x,y)]\n",
    "    return z"
   ]
  },
  {
   "cell_type": "code",
   "execution_count": 43,
   "metadata": {},
   "outputs": [
    {
     "data": {
      "text/plain": [
       "[(1, 'ali'), (3, 'veli'), (4, 'adam'), (6, 'David')]"
      ]
     },
     "execution_count": 43,
     "metadata": {},
     "output_type": "execute_result"
    }
   ],
   "source": [
    "x = [1,3,4,6]\n",
    "y = [\"ali\",\"veli\", \"adam\", \"David\"]\n",
    "birlestir(x,y)"
   ]
  },
  {
   "cell_type": "code",
   "execution_count": 1,
   "metadata": {},
   "outputs": [
    {
     "name": "stdout",
     "output_type": "stream",
     "text": [
      "['bet', 'asd', 'kale']\n",
      "[4, 45, 54]\n"
     ]
    }
   ],
   "source": [
    "def ore(**x):\n",
    "    name = [i for i,j in x.items()]\n",
    "    say = [j for i,j in x.items()]\n",
    "    print(name)\n",
    "    print(say)\n",
    "\n",
    "ore(bet=4, asdrid=45, kale=54)"
   ]
  },
  {
   "cell_type": "code",
   "execution_count": 48,
   "metadata": {},
   "outputs": [
    {
     "name": "stdout",
     "output_type": "stream",
     "text": [
      "For me, Bill Gates and Guido van Rossum are geniuses\n"
     ]
    }
   ],
   "source": [
    "def gen(*x):\n",
    "    print(f\"For me, {x[0]} {x[3]} and {x[2]} {x[1]} are geniuses\")\n",
    "\n",
    "\n",
    "genius = (\"Bill\", \"Rossum\", \"Guido van\", \"Gates\")\n",
    "gen(*genius)"
   ]
  },
  {
   "cell_type": "code",
   "execution_count": null,
   "metadata": {},
   "outputs": [],
   "source": []
  },
  {
   "cell_type": "code",
   "execution_count": null,
   "metadata": {},
   "outputs": [],
   "source": []
  },
  {
   "cell_type": "code",
   "execution_count": 58,
   "metadata": {},
   "outputs": [
    {
     "name": "stdout",
     "output_type": "stream",
     "text": [
      "42.0\n"
     ]
    }
   ],
   "source": [
    "def meaner(**m):\n",
    "    x = 0\n",
    "    y = 0\n",
    "    for i in m.values():\n",
    "        y += i\n",
    "        x += 1\n",
    "\n",
    "    print(y/x)\n",
    "\n",
    "\n",
    "\n",
    "m = {\"x\": 5,\"y\": 56,\"z\": 65,\"t\": 42}  #  Söz\n",
    "meaner(**m)\n"
   ]
  },
  {
   "cell_type": "code",
   "execution_count": null,
   "metadata": {},
   "outputs": [],
   "source": [
    "def avg(*x):\n",
    "    count = 0\n",
    "    for i in x:\n",
    "        count +=1\n",
    "    return sum(x)/count\n",
    "    \n",
    "def meaner(osman,recep,kamil):\n",
    "    print(\"ortalama\",avg(osman,recep,kamil))\n",
    "\n",
    "\n",
    "friends = {\"osman\": 6, \"recep\": 5, \"kamil\": 5}\n",
    "meaner(**friends)"
   ]
  },
  {
   "cell_type": "code",
   "execution_count": 59,
   "metadata": {},
   "outputs": [
    {
     "name": "stdout",
     "output_type": "stream",
     "text": [
      "ortalama 5.333333333333333\n"
     ]
    }
   ],
   "source": [
    "def avg(*x): \n",
    "    return sum(x)/len(x)\n",
    "    \n",
    "def meaner(osman,recep,kamil):\n",
    "    print(\"ortalama\",avg(osman,recep,kamil))\n",
    "\n",
    "\n",
    "friends = {\"osman\": 6, \"recep\": 5, \"kamil\": 5}\n",
    "meaner(**friends)"
   ]
  },
  {
   "cell_type": "code",
   "execution_count": 61,
   "metadata": {},
   "outputs": [],
   "source": [
    "def asdasd(asd, /):\n",
    "    print(\"kalem\") \n"
   ]
  },
  {
   "cell_type": "code",
   "execution_count": null,
   "metadata": {},
   "outputs": [],
   "source": [
    "asdasd()"
   ]
  },
  {
   "cell_type": "code",
   "execution_count": 1,
   "metadata": {},
   "outputs": [
    {
     "ename": "NameError",
     "evalue": "name 'asdasd' is not defined",
     "output_type": "error",
     "traceback": [
      "\u001b[1;31m---------------------------------------------------------------------------\u001b[0m",
      "\u001b[1;31mNameError\u001b[0m                                 Traceback (most recent call last)",
      "Cell \u001b[1;32mIn [1], line 1\u001b[0m\n\u001b[1;32m----> 1\u001b[0m asdasd(asd \u001b[39m=\u001b[39m \u001b[39m5\u001b[39m)\n\u001b[0;32m      2\u001b[0m asdasd()\n",
      "\u001b[1;31mNameError\u001b[0m: name 'asdasd' is not defined"
     ]
    }
   ],
   "source": [
    "asdasd(asd = 5)\n",
    "asdasd()\n"
   ]
  },
  {
   "cell_type": "code",
   "execution_count": 3,
   "metadata": {},
   "outputs": [
    {
     "name": "stdout",
     "output_type": "stream",
     "text": [
      "()[]\n",
      "4\n",
      "(\n",
      "False\n",
      ")\n",
      "False\n",
      "[\n",
      "False\n",
      "]\n"
     ]
    },
    {
     "ename": "IndexError",
     "evalue": "string index out of range",
     "output_type": "error",
     "traceback": [
      "\u001b[1;31m---------------------------------------------------------------------------\u001b[0m",
      "\u001b[1;31mIndexError\u001b[0m                                Traceback (most recent call last)",
      "Cell \u001b[1;32mIn [3], line 10\u001b[0m\n\u001b[0;32m      8\u001b[0m         \u001b[39melse\u001b[39;00m:\n\u001b[0;32m      9\u001b[0m             \u001b[39mprint\u001b[39m(\u001b[39mFalse\u001b[39;00m)\n\u001b[1;32m---> 10\u001b[0m sor(\u001b[39m\"\u001b[39;49m\u001b[39m()[]\u001b[39;49m\u001b[39m\"\u001b[39;49m)\n",
      "Cell \u001b[1;32mIn [3], line 6\u001b[0m, in \u001b[0;36msor\u001b[1;34m(a)\u001b[0m\n\u001b[0;32m      4\u001b[0m \u001b[39mfor\u001b[39;00m i \u001b[39min\u001b[39;00m \u001b[39mrange\u001b[39m(\u001b[39mlen\u001b[39m(a)):\n\u001b[0;32m      5\u001b[0m     \u001b[39mprint\u001b[39m(a[i])\n\u001b[1;32m----> 6\u001b[0m     \u001b[39mif\u001b[39;00m a[i] \u001b[39m==\u001b[39m a[i\u001b[39m+\u001b[39;49m\u001b[39m1\u001b[39;49m]:\n\u001b[0;32m      7\u001b[0m         \u001b[39mprint\u001b[39m(\u001b[39mTrue\u001b[39;00m)\n\u001b[0;32m      8\u001b[0m     \u001b[39melse\u001b[39;00m:\n",
      "\u001b[1;31mIndexError\u001b[0m: string index out of range"
     ]
    }
   ],
   "source": [
    "def sor(a):\n",
    "    print(a)\n",
    "    print(len(a))\n",
    "    for i in range(len(a)):\n",
    "        print(a[i])\n",
    "        if a[i] == a[i+1]:\n",
    "            print(True)\n",
    "        else:\n",
    "            print(False)\n",
    "sor(\"()[]\")\n"
   ]
  },
  {
   "cell_type": "code",
   "execution_count": 23,
   "metadata": {},
   "outputs": [
    {
     "name": "stdout",
     "output_type": "stream",
     "text": [
      "[{'name': 'name1', 'zipcode': 'zipcode1', 'id': 'id1'}, {'name': 'name2', 'zipcode': 'zipcode2', 'id': 'id2'}]\n"
     ]
    }
   ],
   "source": [
    "\n",
    "list = [{\"name\": \"name1\", \"zipcode\": \"zipcode1\", \"id\": \"id1\"},{\"name\": \"name2\", \"zipcode\": \"zipcode2\", \"id\": \"id2\"}, {\"name\": \"name1\", \"zipcode\": \"zipcode3\", \"id\": \"id1\"}]\n",
    "a = []\n",
    "list2 = []\n",
    "for i in list:\n",
    "    if i[\"id\"] not in a:\n",
    "        a.append(i[\"id\"])\n",
    "        list2.append(i)\n",
    "print(list2)\n"
   ]
  },
  {
   "cell_type": "code",
   "execution_count": 24,
   "metadata": {},
   "outputs": [
    {
     "ename": "TypeError",
     "evalue": "'list' object is not callable",
     "output_type": "error",
     "traceback": [
      "\u001b[1;31m---------------------------------------------------------------------------\u001b[0m",
      "\u001b[1;31mTypeError\u001b[0m                                 Traceback (most recent call last)",
      "Cell \u001b[1;32mIn [24], line 3\u001b[0m\n\u001b[0;32m      1\u001b[0m list1 \u001b[39m=\u001b[39m [{\u001b[39m\"\u001b[39m\u001b[39mname\u001b[39m\u001b[39m\"\u001b[39m: \u001b[39m\"\u001b[39m\u001b[39mname1\u001b[39m\u001b[39m\"\u001b[39m, \u001b[39m\"\u001b[39m\u001b[39mzipcode\u001b[39m\u001b[39m\"\u001b[39m: \u001b[39m\"\u001b[39m\u001b[39mzipcode1\u001b[39m\u001b[39m\"\u001b[39m, \u001b[39m\"\u001b[39m\u001b[39mid\u001b[39m\u001b[39m\"\u001b[39m: \u001b[39m\"\u001b[39m\u001b[39mid1\u001b[39m\u001b[39m\"\u001b[39m},{\u001b[39m\"\u001b[39m\u001b[39mname\u001b[39m\u001b[39m\"\u001b[39m: \u001b[39m\"\u001b[39m\u001b[39mname2\u001b[39m\u001b[39m\"\u001b[39m, \u001b[39m\"\u001b[39m\u001b[39mzipcode\u001b[39m\u001b[39m\"\u001b[39m: \u001b[39m\"\u001b[39m\u001b[39mzipcode2\u001b[39m\u001b[39m\"\u001b[39m, \u001b[39m\"\u001b[39m\u001b[39mid\u001b[39m\u001b[39m\"\u001b[39m: \u001b[39m\"\u001b[39m\u001b[39mid2\u001b[39m\u001b[39m\"\u001b[39m}, {\u001b[39m\"\u001b[39m\u001b[39mname\u001b[39m\u001b[39m\"\u001b[39m: \u001b[39m\"\u001b[39m\u001b[39mname1\u001b[39m\u001b[39m\"\u001b[39m, \u001b[39m\"\u001b[39m\u001b[39mzipcode\u001b[39m\u001b[39m\"\u001b[39m: \u001b[39m\"\u001b[39m\u001b[39mzipcode3\u001b[39m\u001b[39m\"\u001b[39m, \u001b[39m\"\u001b[39m\u001b[39mid\u001b[39m\u001b[39m\"\u001b[39m: \u001b[39m\"\u001b[39m\u001b[39mid1\u001b[39m\u001b[39m\"\u001b[39m}]\n\u001b[1;32m----> 3\u001b[0m \u001b[39mlist\u001b[39;49m({i[\u001b[39m\"\u001b[39;49m\u001b[39mname\u001b[39;49m\u001b[39m\"\u001b[39;49m]: i \u001b[39mfor\u001b[39;49;00m i \u001b[39min\u001b[39;49;00m list1}\u001b[39m.\u001b[39;49mvalues())\n",
      "\u001b[1;31mTypeError\u001b[0m: 'list' object is not callable"
     ]
    }
   ],
   "source": [
    "list1 = [{\"name\": \"name1\", \"zipcode\": \"zipcode1\", \"id\": \"id1\"},{\"name\": \"name2\", \"zipcode\": \"zipcode2\", \"id\": \"id2\"}, {\"name\": \"name1\", \"zipcode\": \"zipcode3\", \"id\": \"id1\"}]\n",
    "\n",
    "list({i[\"name\"]: i for i in list1}.values())"
   ]
  },
  {
   "cell_type": "code",
   "execution_count": 5,
   "metadata": {},
   "outputs": [
    {
     "name": "stdout",
     "output_type": "stream",
     "text": [
      "X is false\n",
      "Possibility calculated\n",
      ".....\n"
     ]
    }
   ],
   "source": [
    "import random\n",
    "import time\n",
    "\n",
    "\n",
    "def Possibility(maximum):\n",
    "    count = 0\n",
    "    while count == 0:\n",
    "        x = random.randint(0, maximum)\n",
    "\n",
    "        if x:\n",
    "            print(\"X is True\")\n",
    "\n",
    "        else:\n",
    "            print(\"X is false\")\n",
    "            count += 1\n",
    "            print(\"Possibility calculated\")\n",
    "            answer = input(\"Do you want to try again? Y/N\\n\")\n",
    "            if answer == \"N\" or \"n\":\n",
    "                break\n",
    "            elif answer == \"Y\" or \"y\":\n",
    "                print(\"Ok let us continue.\")\n",
    "                time.sleep(2.5)\n",
    "while True:\n",
    "   given_number = round(float(input(\"Enter a  number;\\n\")))\n",
    "   Possibility(given_number)\n",
    "   print(\".....\")\n",
    "   break"
   ]
  },
  {
   "cell_type": "code",
   "execution_count": 10,
   "metadata": {},
   "outputs": [
    {
     "data": {
      "text/plain": [
       "12"
      ]
     },
     "execution_count": 10,
     "metadata": {},
     "output_type": "execute_result"
    }
   ],
   "source": [
    "given_number = round(float(input(\"Enter a  number;\\n\")))\n",
    "given_number"
   ]
  },
  {
   "cell_type": "code",
   "execution_count": 10,
   "metadata": {},
   "outputs": [
    {
     "name": "stdout",
     "output_type": "stream",
     "text": [
      "{'0': set(), '1': {0}, '110011': {0, 1, 4, 5}, '10101': {0, 2, 4}}\n"
     ]
    }
   ],
   "source": [
    "def one_index(s):\n",
    "    return {i for i, e in enumerate(s) if e == '1'}\n",
    "\n",
    "examples = '0', '1', '110011', '10101'\n",
    "\n",
    "result = {bs: one_index(bs) for bs in examples}\n",
    "\n",
    "print(result)"
   ]
  },
  {
   "cell_type": "code",
   "execution_count": 16,
   "metadata": {},
   "outputs": [
    {
     "data": {
      "text/plain": [
       "{0: 'k', 1: 'a', 2: 'l', 3: 'e', 4: 'm'}"
      ]
     },
     "execution_count": 16,
     "metadata": {},
     "output_type": "execute_result"
    }
   ],
   "source": [
    "s = \"kalem\"\n",
    "a = {i:e for i,e in enumerate(s)}\n",
    "a"
   ]
  }
 ],
 "metadata": {
  "kernelspec": {
   "display_name": "Python 3.10.7 64-bit (microsoft store)",
   "language": "python",
   "name": "python3"
  },
  "language_info": {
   "codemirror_mode": {
    "name": "ipython",
    "version": 3
   },
   "file_extension": ".py",
   "mimetype": "text/x-python",
   "name": "python",
   "nbconvert_exporter": "python",
   "pygments_lexer": "ipython3",
   "version": "3.10.7"
  },
  "orig_nbformat": 4,
  "vscode": {
   "interpreter": {
    "hash": "ba33de22a5821ff61dd53097cd70511c2f19fae7b0f9e8b27ee69b6aca2c4956"
   }
  }
 },
 "nbformat": 4,
 "nbformat_minor": 2
}
