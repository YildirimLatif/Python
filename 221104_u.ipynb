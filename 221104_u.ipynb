{
 "cells": [
  {
   "cell_type": "code",
   "execution_count": 7,
   "metadata": {},
   "outputs": [
    {
     "name": "stdout",
     "output_type": "stream",
     "text": [
      "[1, 2, 3, 4]\n"
     ]
    }
   ],
   "source": [
    "k = [1,2,3,4]\n",
    "reversed(k)\n",
    "print(list(k))"
   ]
  },
  {
   "cell_type": "code",
   "execution_count": 2,
   "metadata": {},
   "outputs": [
    {
     "data": {
      "text/plain": [
       "[set(),\n",
       " ((219.08, 220.05, 219.42, 219.62),),\n",
       " {},\n",
       " ((219.08, 220.05, 219.42, 219.62),),\n",
       " {},\n",
       " {},\n",
       " {},\n",
       " {},\n",
       " {},\n",
       " {}]"
      ]
     },
     "execution_count": 2,
     "metadata": {},
     "output_type": "execute_result"
    }
   ],
   "source": [
    "variable = (219.08, 220.05, 219.42, 219.62)\n",
    "list = [{}]*10\n",
    "list[0] = set()\n",
    "list[1] = tuple({variable})  \n",
    "if type(list[2]) != type({variable}):\n",
    "       list[3] = tuple({variable})\n",
    "list"
   ]
  },
  {
   "cell_type": "code",
   "execution_count": 10,
   "metadata": {},
   "outputs": [
    {
     "name": "stdout",
     "output_type": "stream",
     "text": [
      "[{219.08}, {220.05}, {219.42}, {219.62}]\n"
     ]
    }
   ],
   "source": [
    "def var_update(variable):\n",
    "\n",
    "    variable = (219.08, 220.05, 219.42, 219.62)\n",
    "    list = []\n",
    "    for i in variable:\n",
    "        list.append({i})\n",
    "    \n",
    "\n",
    "print(list)"
   ]
  },
  {
   "cell_type": "code",
   "execution_count": null,
   "metadata": {},
   "outputs": [],
   "source": [
    "a = (219.08, 220.05, 219.42, 219.62)\n",
    "b = {}\n",
    "\n",
    "for i in a:\n",
    "  c = str(sorted(i))\n",
    "  b[c] = b.get(c,[])\n",
    "  b[c].append(i)\n",
    "\n",
    "print(list(b.values()))\n",
    "print(b)"
   ]
  },
  {
   "cell_type": "code",
   "execution_count": 3,
   "metadata": {},
   "outputs": [
    {
     "data": {
      "text/plain": [
       "{'a': 1, 'b': 3, 'c': 4}"
      ]
     },
     "execution_count": 3,
     "metadata": {},
     "output_type": "execute_result"
    }
   ],
   "source": [
    "x = {'a': 1, 'b': 2}\n",
    "y = {'b': 3, 'c': 4}\n",
    "z = x | y\n",
    "z"
   ]
  },
  {
   "cell_type": "code",
   "execution_count": 4,
   "metadata": {},
   "outputs": [
    {
     "data": {
      "text/plain": [
       "{'a': 1, 'b': 3, 'c': 4}"
      ]
     },
     "execution_count": 4,
     "metadata": {},
     "output_type": "execute_result"
    }
   ],
   "source": [
    "z = {**x, **y}\n",
    "z"
   ]
  },
  {
   "cell_type": "code",
   "execution_count": null,
   "metadata": {},
   "outputs": [],
   "source": [
    "map = [\n",
    "    \"......\",\n",
    "    \"..##..\",\n",
    "    \".##.#.\",\n",
    "    \"...###\",\n",
    "    \"###.##\",\n",
    "]"
   ]
  },
  {
   "cell_type": "code",
   "execution_count": 7,
   "metadata": {},
   "outputs": [
    {
     "name": "stdout",
     "output_type": "stream",
     "text": [
      "3 2\n",
      "4 2\n",
      "2 3\n",
      "2\n",
      "3 3\n",
      "5 3\n",
      "4 4\n",
      "5 4\n",
      "6 4\n",
      "1 5\n",
      "1\n",
      "2\n",
      "3\n",
      "4\n",
      "2 5\n",
      "2\n",
      "3\n",
      "4\n",
      "3 5\n",
      "3\n",
      "4\n",
      "5 5\n",
      "6 5\n",
      "[]\n"
     ]
    }
   ],
   "source": [
    "list_obstacle = [(3, 2), (4, 2), (2, 3), (3, 3), (5, 3), (4, 4), (5, 4), (6, 4), (1, 5), (2, 5), (3, 5), (5, 5), (6, 5)]\n",
    "\n",
    "final_list = []\n",
    "for obstacle, line in list_obstacle:\n",
    "    print(obstacle, line)\n",
    "    for each_obstacle in range(obstacle, line):\n",
    "        print(each_obstacle)\n",
    "        # final_list.append(obstacle, each_obstacle, line)\n",
    "print(final_list)"
   ]
  },
  {
   "cell_type": "code",
   "execution_count": 8,
   "metadata": {},
   "outputs": [
    {
     "name": "stdout",
     "output_type": "stream",
     "text": [
      "game left : 3\n",
      "you(1) : r & computer(0) : s\n",
      "\n",
      "game left : 2\n",
      "you(1) : p & computer(0) : p\n",
      "\n",
      "game left : 1\n",
      "you(1) : s & computer(0) : s\n",
      "\n"
     ]
    }
   ],
   "source": [
    "import random\n",
    "game = 3\n",
    "userScore = 0\n",
    "computerScore = 0\n",
    "# use 'for' and 'range' to iterate over a sequence of numbers\n",
    "for game in range(3, 0, -1):\n",
    "\n",
    "    print(f\"game left : {game}\")\n",
    "    user = input(\"'r' for rock, 'p' for paper and 's' for scissors : \")\n",
    "    # an iterable of single-character strings can be swapped for a single string\n",
    "    computer = random.choice('rps')\n",
    "\n",
    "    if user != computer:\n",
    "        #  use 'in' to concisely test a bunch of different possibilities\n",
    "        if user + computer in ('pr', 'sp', 'rs'):\n",
    "            userScore += 1\n",
    "        else:\n",
    "            computerScore += 1\n",
    "    # eliminate 'else' that doesn't do anything\n",
    "\n",
    "    print(f\"you({userScore}) : {user} & computer({computerScore}) : {computer}\\n\")"
   ]
  }
 ],
 "metadata": {
  "kernelspec": {
   "display_name": "Python 3.10.7 64-bit (microsoft store)",
   "language": "python",
   "name": "python3"
  },
  "language_info": {
   "codemirror_mode": {
    "name": "ipython",
    "version": 3
   },
   "file_extension": ".py",
   "mimetype": "text/x-python",
   "name": "python",
   "nbconvert_exporter": "python",
   "pygments_lexer": "ipython3",
   "version": "3.10.7"
  },
  "orig_nbformat": 4,
  "vscode": {
   "interpreter": {
    "hash": "ba33de22a5821ff61dd53097cd70511c2f19fae7b0f9e8b27ee69b6aca2c4956"
   }
  }
 },
 "nbformat": 4,
 "nbformat_minor": 2
}
