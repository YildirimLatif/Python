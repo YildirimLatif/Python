{
 "cells": [
  {
   "cell_type": "markdown",
   "metadata": {},
   "source": [
    "Task-23- Histogram: 1-10 arası n (n=20 gibi) adet rasgele sayı üretip, bir listede tutalım.\n",
    "# Listedeki sayıların histogramını (hangi sayıdan kaç adet üretildiğini)\n",
    "# ekranda gösteren programı kodlayınız.\n",
    "# İstenen Örnek Çıktı:\n",
    "\"\"\"\n",
    "liste = [10, 9, 10, 2, 3, 5, 7, 6, 10, 10, 4, 10, 5, 9, 4, 3, 5, 6, 9]\n",
    "10 : *****\n",
    "7 : *\n",
    "9 : ***\n",
    "6 : **\n",
    "3 : ***\n",
    "5 : ***\n",
    "4 : **\n",
    "2 : *\n",
    "\"\"\""
   ]
  },
  {
   "cell_type": "code",
   "execution_count": 19,
   "metadata": {},
   "outputs": [
    {
     "name": "stdout",
     "output_type": "stream",
     "text": [
      "liste =  [2, 4, 3, 6, 1, 4, 10, 9, 9, 6, 8, 6, 1, 3, 10, 8, 10, 3, 10, 6]\n",
      "2 :  *\n",
      "4 :  **\n",
      "3 :  ***\n",
      "6 :  ****\n",
      "1 :  **\n",
      "10 :  ****\n",
      "9 :  **\n",
      "8 :  **\n"
     ]
    }
   ],
   "source": [
    "# Task-23- Histogram: 1-10 arası n (n=20 gibi) adet rasgele\n",
    "\n",
    "import random\n",
    "liste = []\n",
    "histogram = {}\n",
    "for i in range(20):\n",
    "    a = random.randint(1,10)\n",
    "    liste.append(a)\n",
    "    histogram[a] = histogram.get(a,0) + 1\n",
    "\n",
    "print(\"liste = \",liste)\n",
    "# print(histogram)\n",
    "for j in histogram:\n",
    "    print(f\"{j} : \",histogram[j]*\"*\")"
   ]
  },
  {
   "cell_type": "code",
   "execution_count": 36,
   "metadata": {},
   "outputs": [
    {
     "name": "stdout",
     "output_type": "stream",
     "text": [
      "liste =  [4, 5, 5, 10, 6, 7, 1, 8, 9, 4, 4, 5, 8, 2, 1, 1, 6, 9, 6, 2]\n",
      "4 : ***\n",
      "5 : ***\n",
      "10 : *\n",
      "6 : ***\n",
      "7 : *\n",
      "1 : ***\n",
      "8 : **\n",
      "9 : **\n",
      "2 : **\n"
     ]
    }
   ],
   "source": [
    "# Task-23- Histogram: 1-10 arası n (n=20 gibi) adet rasgele\n",
    "\n",
    "import random\n",
    "liste = []\n",
    "histogram = {}\n",
    "\n",
    "for i in range(20):\n",
    "    a = random.randint(1,10)\n",
    "    liste.append(a)\n",
    "    histogram[a] = histogram.get(a,\"\") + \"*\"\n",
    "print(\"liste = \",liste)\n",
    "\n",
    "for j in histogram:\n",
    "    print(f\"{j} : {histogram[j]}\")"
   ]
  },
  {
   "cell_type": "code",
   "execution_count": null,
   "metadata": {},
   "outputs": [],
   "source": [
    "#TASK 22\n",
    "import random\n",
    "n = 20\n",
    "random_list = [random.randint(1, 10)  for item in range(n)] # n(20) adet 1den 10a kadar rastgele sayi üretip listeye atar\n",
    "yeni_sozluk = {}\n",
    "for i in random_list:\n",
    "    yeni_sozluk.setdefault(i, \"\") #yeni sözlükte i elemanini arar. bulamazsa valuesune \"\" atar\n",
    "    yeni_sozluk[i] += \"*\" #key i i olan elemanlarin valuesune * ekler\n",
    "print(random_list)\n",
    "\n",
    "for key , value in yeni_sozluk.items():\n",
    "    print(f\"{key} : {value}\")"
   ]
  },
  {
   "cell_type": "code",
   "execution_count": 20,
   "metadata": {},
   "outputs": [
    {
     "name": "stdout",
     "output_type": "stream",
     "text": [
      "[1, 2, 8, 7, 10, 7, 9, 3, 8, 2, 2, 8, 8, 9, 8, 10, 5, 1, 3, 2]\n",
      "1 : **\n",
      "2 : ****\n",
      "8 : *****\n",
      "7 : **\n",
      "10 : **\n",
      "9 : **\n",
      "3 : **\n",
      "5 : *\n"
     ]
    }
   ],
   "source": [
    "#TASK 22\n",
    "import random\n",
    "n = 20\n",
    "random_list = [random.randint(1, 10)  for item in range(n)]                 # n(20) adet 1den 10a kadar rastgele sayi üretip listeye atar\n",
    "yeni_sozluk = {}\n",
    "for i in random_list:\n",
    "    yeni_sozluk[i] = yeni_sozluk.setdefault(i, \"\") + \"*\"                                               #key i i olan elemanlarin valuesune * ekler\n",
    "print(random_list)\n",
    "\n",
    "for key , value in yeni_sozluk.items():\n",
    "    print(f\"{key} : {value}\")"
   ]
  }
 ],
 "metadata": {
  "kernelspec": {
   "display_name": "Python 3.10.7 64-bit (microsoft store)",
   "language": "python",
   "name": "python3"
  },
  "language_info": {
   "codemirror_mode": {
    "name": "ipython",
    "version": 3
   },
   "file_extension": ".py",
   "mimetype": "text/x-python",
   "name": "python",
   "nbconvert_exporter": "python",
   "pygments_lexer": "ipython3",
   "version": "3.10.7"
  },
  "orig_nbformat": 4,
  "vscode": {
   "interpreter": {
    "hash": "ba33de22a5821ff61dd53097cd70511c2f19fae7b0f9e8b27ee69b6aca2c4956"
   }
  }
 },
 "nbformat": 4,
 "nbformat_minor": 2
}
