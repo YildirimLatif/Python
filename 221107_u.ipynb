{
 "cells": [
  {
   "cell_type": "code",
   "execution_count": 6,
   "metadata": {},
   "outputs": [],
   "source": [
    "import random\n",
    "def historag(n):\n",
    "    '''fonksiyon n adet sayi üretir ve her sayinin frekansini belirleyerek histogramini olusturur.'''\n",
    "\n",
    "    l=[]\n",
    "    for i in range(n):\n",
    "        l.append(random.randint(1,10))\n",
    "    print(l)\n",
    "    k=set(l)\n",
    "    print(k)\n",
    "    l_saf=list(k)\n",
    "    print(l_saf)\n",
    "    for j in range(len(l_saf)):\n",
    "        print(l_saf[j],':', l.count(l_saf[j])*'*')"
   ]
  },
  {
   "cell_type": "code",
   "execution_count": 7,
   "metadata": {},
   "outputs": [
    {
     "name": "stdout",
     "output_type": "stream",
     "text": [
      "[7, 6, 4, 8, 2, 2, 2, 4, 6, 5, 6, 8, 3, 3, 3, 8, 4, 1, 6, 3]\n",
      "{1, 2, 3, 4, 5, 6, 7, 8}\n",
      "[1, 2, 3, 4, 5, 6, 7, 8]\n",
      "1 : *\n",
      "2 : ***\n",
      "3 : ****\n",
      "4 : ***\n",
      "5 : *\n",
      "6 : ****\n",
      "7 : *\n",
      "8 : ***\n"
     ]
    }
   ],
   "source": [
    "historag(20)"
   ]
  },
  {
   "cell_type": "code",
   "execution_count": 23,
   "metadata": {},
   "outputs": [
    {
     "name": "stdout",
     "output_type": "stream",
     "text": [
      "[2, 7, 5, 4, 9, 10, 6, 7, 3, 4, 8, 10, 5, 4, 9, 4, 9, 6, 9, 9]\n",
      "{2, 3, 4, 5, 6, 7, 8, 9, 10}\n",
      "4 : ****\n",
      "9 : *****\n",
      "7 : **\n",
      "6 : **\n"
     ]
    },
    {
     "ename": "IndexError",
     "evalue": "list index out of range",
     "output_type": "error",
     "traceback": [
      "\u001b[1;31m---------------------------------------------------------------------------\u001b[0m",
      "\u001b[1;31mIndexError\u001b[0m                                Traceback (most recent call last)",
      "Cell \u001b[1;32mIn [23], line 12\u001b[0m\n\u001b[0;32m     10\u001b[0m l_saf\u001b[39m=\u001b[39m\u001b[39mlist\u001b[39m(k) \n\u001b[0;32m     11\u001b[0m \u001b[39mfor\u001b[39;00m j \u001b[39min\u001b[39;00m  l :\n\u001b[1;32m---> 12\u001b[0m     \u001b[39mprint\u001b[39m(l_saf[j],\u001b[39m'\u001b[39m\u001b[39m:\u001b[39m\u001b[39m'\u001b[39m, l\u001b[39m.\u001b[39mcount(l_saf[j])\u001b[39m*\u001b[39m\u001b[39m'\u001b[39m\u001b[39m*\u001b[39m\u001b[39m'\u001b[39m)\n",
      "\u001b[1;31mIndexError\u001b[0m: list index out of range"
     ]
    }
   ],
   "source": [
    "import random\n",
    "#nksiyon n adet sayi üretir ve her sayinin frekansini belirleyerek histogramini olusturur.'''\n",
    "\n",
    "l=[]\n",
    "for i in range(20):\n",
    "    l.append(random.randint(1,10))\n",
    "print(l)\n",
    "k=set(l)\n",
    "print(k)\n",
    "l_saf=list(k) \n",
    "for j in  l :\n",
    "    print(l_saf[j],':', l.count(l_saf[j])*'*')"
   ]
  },
  {
   "cell_type": "code",
   "execution_count": 1,
   "metadata": {},
   "outputs": [
    {
     "ename": "NameError",
     "evalue": "name 'historag' is not defined",
     "output_type": "error",
     "traceback": [
      "\u001b[1;31m---------------------------------------------------------------------------\u001b[0m",
      "\u001b[1;31mNameError\u001b[0m                                 Traceback (most recent call last)",
      "Cell \u001b[1;32mIn [1], line 1\u001b[0m\n\u001b[1;32m----> 1\u001b[0m historag(\u001b[39m20\u001b[39m)\n\u001b[0;32m      2\u001b[0m \u001b[39mprint\u001b[39m()\n",
      "\u001b[1;31mNameError\u001b[0m: name 'historag' is not defined"
     ]
    }
   ],
   "source": [
    "historag(20)\n",
    "print()"
   ]
  }
 ],
 "metadata": {
  "kernelspec": {
   "display_name": "Python 3.10.7 64-bit (microsoft store)",
   "language": "python",
   "name": "python3"
  },
  "language_info": {
   "codemirror_mode": {
    "name": "ipython",
    "version": 3
   },
   "file_extension": ".py",
   "mimetype": "text/x-python",
   "name": "python",
   "nbconvert_exporter": "python",
   "pygments_lexer": "ipython3",
   "version": "3.10.7"
  },
  "orig_nbformat": 4,
  "vscode": {
   "interpreter": {
    "hash": "ba33de22a5821ff61dd53097cd70511c2f19fae7b0f9e8b27ee69b6aca2c4956"
   }
  }
 },
 "nbformat": 4,
 "nbformat_minor": 2
}
