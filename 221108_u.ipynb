{
 "cells": [
  {
   "cell_type": "code",
   "execution_count": 2,
   "metadata": {},
   "outputs": [
    {
     "name": "stdout",
     "output_type": "stream",
     "text": [
      "120\n"
     ]
    }
   ],
   "source": [
    "fakt = 1\n",
    "for i in range(5,0,-1):\n",
    "    fakt = fakt*i\n",
    "\n",
    "\n",
    "print(fakt)"
   ]
  },
  {
   "cell_type": "code",
   "execution_count": 5,
   "metadata": {},
   "outputs": [],
   "source": [
    "def fak(n):\n",
    "    if n == 0:\n",
    "        return 1\n",
    "    else:\n",
    "        return n*fak(n-1)\n",
    "\n",
    "# Ana program\n",
    "print(\"5! = \", fak(5))"
   ]
  },
  {
   "cell_type": "code",
   "execution_count": 6,
   "metadata": {},
   "outputs": [
    {
     "name": "stdout",
     "output_type": "stream",
     "text": [
      "5! 120\n"
     ]
    }
   ],
   "source": []
  },
  {
   "cell_type": "code",
   "execution_count": 7,
   "metadata": {},
   "outputs": [
    {
     "name": "stdout",
     "output_type": "stream",
     "text": [
      "2**5 =  32\n"
     ]
    }
   ],
   "source": [
    "def iki_us(n):\n",
    "    if n == 0:\n",
    "        return 1\n",
    "    else:\n",
    "        return 2*iki_us(n-1)\n",
    "\n",
    "# Ana program\n",
    "print(\"2**5 = \", iki_us(5))\n"
   ]
  },
  {
   "cell_type": "code",
   "execution_count": 8,
   "metadata": {},
   "outputs": [
    {
     "name": "stdout",
     "output_type": "stream",
     "text": [
      "[1, 1, 2, 3, 5, 8, 13, 21, 34, 55]\n"
     ]
    }
   ],
   "source": [
    "#**********   Task-18   Alternativ 1 **************#\n",
    "liste = [1,1]\n",
    "while liste[-1] < 55:\n",
    "    liste.append(liste[-1]+liste[-2])\n",
    "print(liste)"
   ]
  },
  {
   "cell_type": "code",
   "execution_count": 29,
   "metadata": {},
   "outputs": [
    {
     "name": "stdout",
     "output_type": "stream",
     "text": [
      "5\n"
     ]
    }
   ],
   "source": [
    "#kacinci fibonacci elamani istiyorsak gireli\n",
    "\n",
    "def fib(n):\n",
    "    if n <= 1:\n",
    "        return n\n",
    "    else:\n",
    "        return (fib(n-1)+ fib(n-2))\n",
    "\n",
    "print(fib(5))\n",
    "\n"
   ]
  },
  {
   "cell_type": "code",
   "execution_count": 30,
   "metadata": {},
   "outputs": [
    {
     "name": "stdout",
     "output_type": "stream",
     "text": [
      "inner variable\n",
      "outer variable\n"
     ]
    }
   ],
   "source": [
    "my_var = \"outer variable\"\n",
    "\n",
    "def func_var():\n",
    "    my_var = \"inner variable\"\n",
    "    print(my_var)\n",
    "\n",
    "func_var()\n",
    "print(my_var)"
   ]
  },
  {
   "cell_type": "code",
   "execution_count": 31,
   "metadata": {},
   "outputs": [
    {
     "ename": "UnboundLocalError",
     "evalue": "local variable 'x' referenced before assignment",
     "output_type": "error",
     "traceback": [
      "\u001b[1;31m---------------------------------------------------------------------------\u001b[0m",
      "\u001b[1;31mUnboundLocalError\u001b[0m                         Traceback (most recent call last)",
      "Cell \u001b[1;32mIn [31], line 6\u001b[0m\n\u001b[0;32m      3\u001b[0m     x \u001b[39m=\u001b[39m x\u001b[39m*\u001b[39m\u001b[39m2\u001b[39m\n\u001b[0;32m      4\u001b[0m     \u001b[39mprint\u001b[39m(x)\n\u001b[1;32m----> 6\u001b[0m foo()\n\u001b[0;32m      7\u001b[0m \u001b[39mprint\u001b[39m(x)\n",
      "Cell \u001b[1;32mIn [31], line 3\u001b[0m, in \u001b[0;36mfoo\u001b[1;34m()\u001b[0m\n\u001b[0;32m      2\u001b[0m \u001b[39mdef\u001b[39;00m \u001b[39mfoo\u001b[39m():\n\u001b[1;32m----> 3\u001b[0m     x \u001b[39m=\u001b[39m x\u001b[39m*\u001b[39m\u001b[39m2\u001b[39m\n\u001b[0;32m      4\u001b[0m     \u001b[39mprint\u001b[39m(x)\n",
      "\u001b[1;31mUnboundLocalError\u001b[0m: local variable 'x' referenced before assignment"
     ]
    }
   ],
   "source": [
    "x = 5\n",
    "def foo():\n",
    "    x = x*2   # Geht das nicht,weil es Global ist.\n",
    "    print(x)\n",
    "\n",
    "foo()\n",
    "print(x)"
   ]
  },
  {
   "cell_type": "code",
   "execution_count": 32,
   "metadata": {},
   "outputs": [
    {
     "name": "stdout",
     "output_type": "stream",
     "text": [
      "10\n",
      "10\n"
     ]
    }
   ],
   "source": [
    "x = 5\n",
    "def foo():\n",
    "    global x   # Man kan das als global nutzen.\n",
    "    x = x*2    \n",
    "    print(x)\n",
    "\n",
    "foo()\n",
    "print(x)"
   ]
  },
  {
   "cell_type": "code",
   "execution_count": null,
   "metadata": {},
   "outputs": [],
   "source": []
  },
  {
   "cell_type": "code",
   "execution_count": 38,
   "metadata": {},
   "outputs": [
    {
     "name": "stdout",
     "output_type": "stream",
     "text": [
      "1\n"
     ]
    }
   ],
   "source": [
    "def fib(n):\n",
    "    if n <= 1:\n",
    "        return n\n",
    "    else:\n",
    "        return (fib(n-1)+ fib(n-2))\n",
    "\n",
    "print(fib(5))"
   ]
  },
  {
   "cell_type": "code",
   "execution_count": 41,
   "metadata": {},
   "outputs": [
    {
     "name": "stdout",
     "output_type": "stream",
     "text": [
      "one\n"
     ]
    }
   ],
   "source": [
    "var = 1\n",
    "\n",
    "def assigner(a):\n",
    "    global var\n",
    "    var = a\n",
    "\n",
    "\n",
    "assigner(\"one\")\n",
    "print(var)    "
   ]
  },
  {
   "cell_type": "code",
   "execution_count": null,
   "metadata": {},
   "outputs": [],
   "source": []
  }
 ],
 "metadata": {
  "kernelspec": {
   "display_name": "Python 3.10.7 64-bit (microsoft store)",
   "language": "python",
   "name": "python3"
  },
  "language_info": {
   "codemirror_mode": {
    "name": "ipython",
    "version": 3
   },
   "file_extension": ".py",
   "mimetype": "text/x-python",
   "name": "python",
   "nbconvert_exporter": "python",
   "pygments_lexer": "ipython3",
   "version": "3.10.7"
  },
  "orig_nbformat": 4,
  "vscode": {
   "interpreter": {
    "hash": "ba33de22a5821ff61dd53097cd70511c2f19fae7b0f9e8b27ee69b6aca2c4956"
   }
  }
 },
 "nbformat": 4,
 "nbformat_minor": 2
}
