{
 "cells": [
  {
   "cell_type": "code",
   "execution_count": 1,
   "metadata": {},
   "outputs": [
    {
     "name": "stdout",
     "output_type": "stream",
     "text": [
      "[1, 2, 9, 4, 25, 6, 49, 8, 81, 10, 121, 12, 169, 14, 225, 16, 289, 18, 361, 20, 441, 22, 529, 24]\n"
     ]
    }
   ],
   "source": [
    "x = []\n",
    "for i in range(1,25):\n",
    "    if i%2 == 0:\n",
    "        x.append(i)\n",
    "    else:\n",
    "        x.append(i*i)\n",
    "print(x)"
   ]
  },
  {
   "cell_type": "code",
   "execution_count": null,
   "metadata": {},
   "outputs": [],
   "source": []
  },
  {
   "cell_type": "code",
   "execution_count": 2,
   "metadata": {},
   "outputs": [
    {
     "data": {
      "text/plain": [
       "25"
      ]
     },
     "execution_count": 2,
     "metadata": {},
     "output_type": "execute_result"
    }
   ],
   "source": [
    "def karesi(n):\n",
    "    return n*n\n",
    "\n",
    "karesi(5)"
   ]
  },
  {
   "cell_type": "code",
   "execution_count": 4,
   "metadata": {},
   "outputs": [
    {
     "name": "stdout",
     "output_type": "stream",
     "text": [
      "25\n"
     ]
    }
   ],
   "source": [
    "#Lambda\n",
    "print((lambda n: n*n)(5))"
   ]
  },
  {
   "cell_type": "code",
   "execution_count": 1,
   "metadata": {},
   "outputs": [
    {
     "name": "stdout",
     "output_type": "stream",
     "text": [
      "25\n"
     ]
    }
   ],
   "source": [
    "karesi = lambda n: n*n\n",
    "\n",
    "print(karesi(5))"
   ]
  },
  {
   "cell_type": "code",
   "execution_count": 3,
   "metadata": {},
   "outputs": [
    {
     "name": "stdout",
     "output_type": "stream",
     "text": [
      "7.5\n"
     ]
    }
   ],
   "source": [
    "def ortalama(x,y):\n",
    "    return (x+y)/2\n",
    "\n",
    "print(ortalama(9,6))"
   ]
  },
  {
   "cell_type": "code",
   "execution_count": 5,
   "metadata": {},
   "outputs": [
    {
     "name": "stdout",
     "output_type": "stream",
     "text": [
      "7.5\n"
     ]
    }
   ],
   "source": [
    "#lambda esdeger\n",
    "\n",
    "print((lambda x,y:(x+y)/2)(9,6))"
   ]
  },
  {
   "cell_type": "code",
   "execution_count": 10,
   "metadata": {},
   "outputs": [
    {
     "name": "stdout",
     "output_type": "stream",
     "text": [
      "cift\n"
     ]
    }
   ],
   "source": [
    "tek_cift = lambda x: \"tek\" if x%2!=0 else \"cift\"\n",
    "print(tek_cift(6))"
   ]
  },
  {
   "cell_type": "code",
   "execution_count": 13,
   "metadata": {},
   "outputs": [
    {
     "data": {
      "text/plain": [
       "4"
      ]
     },
     "execution_count": 13,
     "metadata": {},
     "output_type": "execute_result"
    }
   ],
   "source": [
    "(lambda x: x**2)(2)"
   ]
  },
  {
   "cell_type": "code",
   "execution_count": 14,
   "metadata": {},
   "outputs": [
    {
     "name": "stdout",
     "output_type": "stream",
     "text": [
      "4\n"
     ]
    }
   ],
   "source": [
    "print((lambda x: x**2)(2))"
   ]
  },
  {
   "cell_type": "code",
   "execution_count": 21,
   "metadata": {},
   "outputs": [
    {
     "name": "stdout",
     "output_type": "stream",
     "text": [
      "yawsuralC\n"
     ]
    }
   ],
   "source": [
    "iterable = \"Clarusway\"\n",
    "print((lambda x:x[::-1] ) (iterable))"
   ]
  },
  {
   "cell_type": "code",
   "execution_count": 22,
   "metadata": {},
   "outputs": [
    {
     "name": "stdout",
     "output_type": "stream",
     "text": [
      "yawsuralC\n"
     ]
    }
   ],
   "source": [
    "print((lambda x:x[::-1] ) (\"Clarusway\"))"
   ]
  },
  {
   "cell_type": "code",
   "execution_count": 51,
   "metadata": {},
   "outputs": [
    {
     "name": "stdout",
     "output_type": "stream",
     "text": [
      "1  :  tek\n",
      "2  :  cift\n",
      "3  :  tek\n",
      "4  :  cift\n"
     ]
    }
   ],
   "source": [
    "x = [1,2,3,4]\n",
    "for i in x:\n",
    "    print (i,\" : \" ,(lambda a: \"tek\" if i%2!=0 else \"cift\")(i))\n",
    "\n",
    "\n"
   ]
  },
  {
   "cell_type": "code",
   "execution_count": 45,
   "metadata": {},
   "outputs": [
    {
     "name": "stdout",
     "output_type": "stream",
     "text": [
      "  2           0 LOAD_FAST                0 (x)\n",
      "              2 LOAD_CONST               1 (2)\n",
      "              4 BINARY_MODULO\n",
      "              6 LOAD_CONST               2 (0)\n",
      "              8 COMPARE_OP               3 (!=)\n",
      "             10 POP_JUMP_IF_FALSE        8 (to 16)\n",
      "             12 LOAD_CONST               3 ('tek')\n",
      "             14 RETURN_VALUE\n",
      "        >>   16 LOAD_CONST               4 ('cift')\n",
      "             18 RETURN_VALUE\n"
     ]
    }
   ],
   "source": [
    "import dis\n",
    "tek_cift = lambda x: \"tek\" if x%2!=0 else \"cift\"\n",
    "dis.dis(tek_cift)"
   ]
  },
  {
   "cell_type": "code",
   "execution_count": 50,
   "metadata": {},
   "outputs": [
    {
     "name": "stdout",
     "output_type": "stream",
     "text": [
      "yawsuralC\n"
     ]
    }
   ],
   "source": [
    "iterable = \"Clarusway\"\n",
    "x = lambda x: x[::-1]\n",
    "print(x(iterable))"
   ]
  },
  {
   "cell_type": "markdown",
   "metadata": {},
   "source": [
    "                Lambda within Built-in (map()) Functions"
   ]
  },
  {
   "cell_type": "code",
   "execution_count": 53,
   "metadata": {},
   "outputs": [
    {
     "name": "stdout",
     "output_type": "stream",
     "text": [
      "[1, 4, 9, 16, 25]\n"
     ]
    }
   ],
   "source": [
    "def karesi(n):\n",
    "    return n*n\n",
    "\n",
    "numbers = [1,2,3,4,5]\n",
    "print(list(map(karesi,numbers)))\n"
   ]
  },
  {
   "cell_type": "code",
   "execution_count": 57,
   "metadata": {},
   "outputs": [
    {
     "name": "stdout",
     "output_type": "stream",
     "text": [
      "[3, 4, 3, 6]\n"
     ]
    }
   ],
   "source": [
    "liste = [\"ali\", \"veli\", \"tom\", \"ingrid\"]\n",
    "map_list = list(map(len,liste))\n",
    "print(map_list)"
   ]
  },
  {
   "cell_type": "code",
   "execution_count": 59,
   "metadata": {},
   "outputs": [
    {
     "name": "stdout",
     "output_type": "stream",
     "text": [
      "[1, 4, 9, 16, 25]\n"
     ]
    }
   ],
   "source": [
    "numbers = [1,2,3,4,5]\n",
    "print(list(map(lambda x:x**2,numbers)))"
   ]
  },
  {
   "cell_type": "code",
   "execution_count": 60,
   "metadata": {},
   "outputs": [
    {
     "name": "stdout",
     "output_type": "stream",
     "text": [
      "[1, 4, 9, 16, 25]\n"
     ]
    }
   ],
   "source": [
    "def karesi(n):\n",
    "    return n*n\n",
    " \n",
    "print(list(map(karesi, range(1,6))))\n"
   ]
  },
  {
   "cell_type": "code",
   "execution_count": 1,
   "metadata": {},
   "outputs": [
    {
     "name": "stdout",
     "output_type": "stream",
     "text": [
      "['one', 'six', 'ten', 'two']\n"
     ]
    }
   ],
   "source": [
    "letter1 = [\"o\",\"s\",\"t\",\"t\"]\n",
    "letter2 = [\"n\",\"i\",\"e\",\"w\"]\n",
    "letter3 = [\"e\",\"x\",\"n\",\"o\"]\n",
    "numbers =map(lambda x,y,z:x+y+z, letter1,letter2,letter3)\n",
    "print(list(numbers))"
   ]
  },
  {
   "cell_type": "code",
   "execution_count": 2,
   "metadata": {},
   "outputs": [
    {
     "name": "stdout",
     "output_type": "stream",
     "text": [
      "[['o', 'n', 'e'], ['s', 'i', 'x'], ['t', 'e', 'n'], ['t', 'w', 'o']]\n"
     ]
    }
   ],
   "source": [
    "liste = ['one', 'six', 'ten', 'two']\n",
    "\n",
    "numberz =map(list, liste)\n",
    "print(list(numberz))"
   ]
  },
  {
   "cell_type": "code",
   "execution_count": 3,
   "metadata": {},
   "outputs": [
    {
     "name": "stdout",
     "output_type": "stream",
     "text": [
      "[6.0, 6.0, 6.0, 6.0]\n"
     ]
    }
   ],
   "source": [
    "nums1 = [9,6,7,4]\n",
    "nums2 = [3,6,5,8]\n",
    "asd = map(lambda x,y: (x+y)/2, nums1, nums2)\n",
    "print(list(asd))\n"
   ]
  },
  {
   "cell_type": "code",
   "execution_count": 5,
   "metadata": {},
   "outputs": [
    {
     "name": "stdout",
     "output_type": "stream",
     "text": [
      "[12, 12, 12, 12]\n"
     ]
    }
   ],
   "source": [
    "nums1 = [9,6,7,4]\n",
    "nums2 = [3,6,5,8]\n",
    "asd = map(sum , zip(nums1, nums2))\n",
    "print(list(asd))\n"
   ]
  },
  {
   "cell_type": "code",
   "execution_count": 10,
   "metadata": {},
   "outputs": [
    {
     "name": "stdout",
     "output_type": "stream",
     "text": [
      "i love you.\n",
      "you ate much.\n",
      "he works hard.\n"
     ]
    }
   ],
   "source": [
    "words1 = [\"you\", \"much\", \"hard\"]\n",
    "words2 = [\"i \", \"you \", \"he \"]\n",
    "words3 = [\"love \", \"ate \", \"works \"]\n",
    "numbers =map(lambda x,y,z:x+y+z, words2,words3,words1)\n",
    "for i in numbers:\n",
    "    print(i+\".\")"
   ]
  },
  {
   "cell_type": "markdown",
   "metadata": {},
   "source": [
    "                                \n",
    "                                * Filter"
   ]
  },
  {
   "cell_type": "code",
   "execution_count": 15,
   "metadata": {},
   "outputs": [
    {
     "name": "stdout",
     "output_type": "stream",
     "text": [
      "<class 'filter'>\n",
      "<filter object at 0x000001F12E64A620>\n",
      "[0, 2, 4, 6, 8]\n"
     ]
    }
   ],
   "source": [
    "even = filter(lambda x:x%2 == 0, range(10))\n",
    "print(type(even))\n",
    "print(even)\n",
    "print(list(even))"
   ]
  },
  {
   "cell_type": "code",
   "execution_count": 16,
   "metadata": {},
   "outputs": [
    {
     "name": "stdout",
     "output_type": "stream",
     "text": [
      "['swim', 'me', 'kiwi']\n"
     ]
    }
   ],
   "source": [
    "words= [\"apple\", \"swim\", \"clock\", \"me\", \"kiwi\", \"banana\"]\n",
    "say = filter(lambda x:len(x)<5, words)\n",
    "print(list(say))"
   ]
  },
  {
   "cell_type": "code",
   "execution_count": 17,
   "metadata": {},
   "outputs": [
    {
     "name": "stdout",
     "output_type": "stream",
     "text": [
      "swim\n",
      "me\n",
      "kiwi\n"
     ]
    }
   ],
   "source": [
    "words= [\"apple\", \"swim\", \"clock\", \"me\", \"kiwi\", \"banana\"]\n",
    "for i in  filter(lambda x:len(x)<5, words):\n",
    "    print(i)"
   ]
  },
  {
   "cell_type": "code",
   "execution_count": 20,
   "metadata": {},
   "outputs": [
    {
     "name": "stdout",
     "output_type": "stream",
     "text": [
      "['a', 'e', 'i']\n"
     ]
    }
   ],
   "source": [
    "words= [\"a\",\"b\",\"c\",\"d\",\"f\",\"e\",\"g\",\"h\",\"i\",\"j\"]\n",
    "say = filter(lambda x:x in \"aeiou\", words)\n",
    "print(list(say))"
   ]
  },
  {
   "cell_type": "code",
   "execution_count": 23,
   "metadata": {},
   "outputs": [
    {
     "name": "stdout",
     "output_type": "stream",
     "text": [
      "<class 'function'>\n",
      "4\n",
      "4\n",
      "4\n"
     ]
    }
   ],
   "source": [
    "def modular_function(n):\n",
    "    return lambda x:x**n\n",
    "\n",
    "pow_2 = modular_function(2)\n",
    "pow_3 = modular_function(3)\n",
    "pow_4 = modular_function(4)\n",
    "\n",
    "print(type(pow_2))\n",
    "\n",
    "print(pow_2(2))\n",
    "print(pow_3(2))\n",
    "print(pow_4(2))"
   ]
  },
  {
   "cell_type": "code",
   "execution_count": 24,
   "metadata": {},
   "outputs": [
    {
     "name": "stdout",
     "output_type": "stream",
     "text": [
      "<class 'int'>\n",
      "4\n",
      "8\n",
      "16\n"
     ]
    }
   ],
   "source": [
    "def modular_function(n):\n",
    "    return lambda x:x**n\n",
    "\n",
    "pow_2 = modular_function(2)(2)\n",
    "pow_3 = modular_function(3)(2)\n",
    "pow_4 = modular_function(4)(2)\n",
    "\n",
    "print(type(pow_2))\n",
    "\n",
    "print(pow_2)\n",
    "print(pow_3)\n",
    "print(pow_4)"
   ]
  },
  {
   "cell_type": "code",
   "execution_count": 25,
   "metadata": {},
   "outputs": [
    {
     "name": "stdout",
     "output_type": "stream",
     "text": [
      "<class 'str'>\n",
      "Ali Ali \n",
      "Serpil Serpil Serpil \n",
      "Mehmet Mehmet Mehmet Mehmet \n"
     ]
    }
   ],
   "source": [
    "def modular_function(n):\n",
    "    return lambda x:x*n\n",
    "\n",
    "pow_2 = modular_function(2)(\"Ali \")\n",
    "pow_3 = modular_function(3)(\"Serpil \")\n",
    "pow_4 = modular_function(4)(\"Mehmet \")\n",
    "\n",
    "print(type(pow_2))\n",
    "\n",
    "print(pow_2)\n",
    "print(pow_3)\n",
    "print(pow_4)"
   ]
  },
  {
   "cell_type": "code",
   "execution_count": 26,
   "metadata": {},
   "outputs": [
    {
     "ename": "TypeError",
     "evalue": "can't multiply sequence by non-int of type 'str'",
     "output_type": "error",
     "traceback": [
      "\u001b[1;31m---------------------------------------------------------------------------\u001b[0m",
      "\u001b[1;31mTypeError\u001b[0m                                 Traceback (most recent call last)",
      "Cell \u001b[1;32mIn [26], line 4\u001b[0m\n\u001b[0;32m      1\u001b[0m \u001b[39mdef\u001b[39;00m  \u001b[39mfunctioner\u001b[39m(n):\n\u001b[0;32m      2\u001b[0m     \u001b[39mreturn\u001b[39;00m \u001b[39mlambda\u001b[39;00m x:x \u001b[39m+\u001b[39m n\n\u001b[1;32m----> 4\u001b[0m pow_2 \u001b[39m=\u001b[39m modular_function(\u001b[39m\"\u001b[39;49m\u001b[39m: )\u001b[39;49m\u001b[39m\"\u001b[39;49m)(\u001b[39m\"\u001b[39;49m\u001b[39mAli \u001b[39;49m\u001b[39m\"\u001b[39;49m)\n\u001b[0;32m      5\u001b[0m pow_3 \u001b[39m=\u001b[39m modular_function(\u001b[39m\"\u001b[39m\u001b[39m:(\u001b[39m\u001b[39m\"\u001b[39m)(\u001b[39m\"\u001b[39m\u001b[39mSerpil \u001b[39m\u001b[39m\"\u001b[39m)\n\u001b[0;32m      6\u001b[0m pow_4 \u001b[39m=\u001b[39m modular_function(\u001b[39m\"\u001b[39m\u001b[39m: |\u001b[39m\u001b[39m\"\u001b[39m)(\u001b[39m\"\u001b[39m\u001b[39mMehmet \u001b[39m\u001b[39m\"\u001b[39m)\n",
      "Cell \u001b[1;32mIn [25], line 2\u001b[0m, in \u001b[0;36mmodular_function.<locals>.<lambda>\u001b[1;34m(x)\u001b[0m\n\u001b[0;32m      1\u001b[0m \u001b[39mdef\u001b[39;00m \u001b[39mmodular_function\u001b[39m(n):\n\u001b[1;32m----> 2\u001b[0m     \u001b[39mreturn\u001b[39;00m \u001b[39mlambda\u001b[39;00m x:x\u001b[39m*\u001b[39;49mn\n",
      "\u001b[1;31mTypeError\u001b[0m: can't multiply sequence by non-int of type 'str'"
     ]
    }
   ],
   "source": [
    "def  functioner(n):\n",
    "    return lambda x:x + n\n",
    "\n",
    "pow_2 = modular_function(\":)\")\n",
    "pow_3 = modular_function(\":(\")\n",
    "pow_4 = modular_function(\": |\")\n",
    "\n",
    "print(type(pow_2))\n",
    "\n",
    "print(pow_2(\"Ali \"))\n",
    "print(pow_3(\"Serpil \"))\n",
    "print(pow_4(\"Mehmet \"))"
   ]
  },
  {
   "cell_type": "code",
   "execution_count": 27,
   "metadata": {},
   "outputs": [
    {
     "name": "stdout",
     "output_type": "stream",
     "text": [
      "[]\n"
     ]
    }
   ],
   "source": [
    "def float_range(start,stop,step):\n",
    "    \"\"\" \n",
    "    (start) ile baslayip (stop) a kadar (step) miktari kadar degisen bir liste olusturur  \n",
    "    Son elemani sildik cünkü start degerini önce artirdik sonra listeye dahil ettik. \n",
    "    Bu yüden her sefferinde son elaman fazla oluyor.\n",
    "    \"\"\"\n",
    "    list = [float(start)]\n",
    "\n",
    "    while start <= list[-1]<= stop:\n",
    "        start += step\n",
    "        list.append(float(start))\n",
    "    list.pop()      \n",
    "    return list     \n",
    "\n",
    "print(float_range(10,2,-.3))"
   ]
  },
  {
   "cell_type": "code",
   "execution_count": 1,
   "metadata": {},
   "outputs": [
    {
     "name": "stdout",
     "output_type": "stream",
     "text": [
      "[10.0, 9.7, 9.4, 9.1, 8.8, 8.5, 8.2, 7.9, 7.6, 7.3, 7.0, 6.7, 6.4, 6.1, 5.8, 5.5, 5.2, 4.9, 4.6, 4.3, 4.0, 3.7, 3.4, 3.1, 2.8, 2.5, 2.2, 1.9, 1.6, 1.3, 1.0, 0.7, 0.4, 0.1]\n"
     ]
    }
   ],
   "source": [
    "def float_range(start,stop,step):\n",
    "    \"\"\" \n",
    "    (start) ile baslayip (stop) a kadar (step) miktari kadar degisen bir liste olusturur.\n",
    "    \"\"\"\n",
    "    list = []\n",
    "\n",
    "    while start!=stop:\n",
    "        list.append(round(float(start),2))\n",
    "        start += step\n",
    "\n",
    "        if  (stop - step) <= list[-1] <=  stop or\\\n",
    "             stop         <= list[-1] <= (stop - step):\n",
    "            return list\n",
    "  \n",
    "print(float_range(10, 0,-.3))"
   ]
  },
  {
   "cell_type": "code",
   "execution_count": 29,
   "metadata": {},
   "outputs": [
    {
     "name": "stdout",
     "output_type": "stream",
     "text": [
      "[10.0, 9.7, 9.4, 9.1, 8.8, 8.5, 8.2, 7.9, 7.6, 7.3, 7.0, 6.7, 6.4, 6.1, 5.8, 5.5, 5.2, 4.9, 4.6, 4.3, 4.0, 3.7, 3.4, 3.1, 2.8, 2.5, 2.2, 1.9, 1.6, 1.3, 1.0, 0.7, 0.4, 0.1]\n"
     ]
    }
   ],
   "source": [
    "def float_range(start, stop, step):\n",
    "    '''Fonsiyon; start,stop ve step argumanlari girildiginde start tan baslayarak stop degerine kadar herbir elemani bir önceki indiseten step miktari kadar fazla olan bir liste olusturur'''\n",
    "    liste=[float(start)]\n",
    "    if start==stop:\n",
    "        return liste\n",
    "    elif start<stop:\n",
    "        while liste[-1]+step<stop:\n",
    "            liste.append(round((liste[-1]+step),2))\n",
    "    else:\n",
    "        while liste[-1]+step>stop:\n",
    "            liste.append(round((liste[-1]+step),2))\n",
    "    print(liste)\n",
    "float_range(10, 0,-.3)"
   ]
  }
 ],
 "metadata": {
  "kernelspec": {
   "display_name": "Python 3.10.7 64-bit (microsoft store)",
   "language": "python",
   "name": "python3"
  },
  "language_info": {
   "codemirror_mode": {
    "name": "ipython",
    "version": 3
   },
   "file_extension": ".py",
   "mimetype": "text/x-python",
   "name": "python",
   "nbconvert_exporter": "python",
   "pygments_lexer": "ipython3",
   "version": "3.10.7"
  },
  "orig_nbformat": 4,
  "vscode": {
   "interpreter": {
    "hash": "ba33de22a5821ff61dd53097cd70511c2f19fae7b0f9e8b27ee69b6aca2c4956"
   }
  }
 },
 "nbformat": 4,
 "nbformat_minor": 2
}
