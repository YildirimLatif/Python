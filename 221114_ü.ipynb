{
 "cells": [
  {
   "cell_type": "code",
   "execution_count": 18,
   "metadata": {},
   "outputs": [
    {
     "name": "stdout",
     "output_type": "stream",
     "text": [
      "12 adet 200 TL\n",
      "1 adet 50 TL\n",
      "1 adet 5 TL\n",
      "1 adet 1 TL\n",
      "verilmeli...\n"
     ]
    }
   ],
   "source": [
    "def veznedar(para):\n",
    "    for i in (200,100,50,20,10,5,1):\n",
    "        x = para//i\n",
    "        if x > 0:\n",
    "            print(f\"{x} adet {i} TL\")\n",
    "        para = para%i\n",
    "    print(\"verilmeli...\")\n",
    "veznedar(2456)"
   ]
  },
  {
   "cell_type": "code",
   "execution_count": 1,
   "metadata": {},
   "outputs": [
    {
     "name": "stdout",
     "output_type": "stream",
     "text": [
      "12 adet 200 TL\n",
      "1 adet 50 TL\n",
      "1 adet 5 TL\n",
      "1 adet 1 TL\n",
      "verilmeli...\n"
     ]
    }
   ],
   "source": [
    "def veznedar(para):\n",
    "    kupur = [200,100,50,20,10,5,1]\n",
    "    for i in kupur:\n",
    "        x = para//i\n",
    "        if x > 0:\n",
    "            print(f\"{x} adet {i} TL\")\n",
    "        para = para%i\n",
    "    print(\"verilmeli...\")\n",
    "veznedar(2456)"
   ]
  }
 ],
 "metadata": {
  "kernelspec": {
   "display_name": "Python 3.10.7 64-bit (microsoft store)",
   "language": "python",
   "name": "python3"
  },
  "language_info": {
   "codemirror_mode": {
    "name": "ipython",
    "version": 3
   },
   "file_extension": ".py",
   "mimetype": "text/x-python",
   "name": "python",
   "nbconvert_exporter": "python",
   "pygments_lexer": "ipython3",
   "version": "3.10.7"
  },
  "orig_nbformat": 4,
  "vscode": {
   "interpreter": {
    "hash": "ba33de22a5821ff61dd53097cd70511c2f19fae7b0f9e8b27ee69b6aca2c4956"
   }
  }
 },
 "nbformat": 4,
 "nbformat_minor": 2
}
