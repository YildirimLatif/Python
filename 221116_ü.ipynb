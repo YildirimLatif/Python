{
 "cells": [
  {
   "cell_type": "code",
   "execution_count": 1,
   "metadata": {},
   "outputs": [
    {
     "name": "stdout",
     "output_type": "stream",
     "text": [
      "cift\n"
     ]
    }
   ],
   "source": [
    "def main():\n",
    "    x = int(input(\"sayi giriniz\"))\n",
    "    if a(x):\n",
    "        print(\"tek\")\n",
    "    else:\n",
    "        print(\"cift\")\n",
    "        \n",
    "def a(c):\n",
    "    return c%2 \n",
    "main()"
   ]
  },
  {
   "cell_type": "code",
   "execution_count": 5,
   "metadata": {},
   "outputs": [
    {
     "name": "stdout",
     "output_type": "stream",
     "text": [
      "mahmut\n"
     ]
    }
   ],
   "source": [
    "name = input(\"adin ne\")\n",
    "\n",
    "match name:\n",
    "    case \"Draco\":\n",
    "        print(\"mahmut\")\n",
    "    case \"hary\":\n",
    "        print(\"mahmut\")\n",
    "    case _:\n",
    "        print(\"hesss\")     \n",
    "        "
   ]
  },
  {
   "cell_type": "code",
   "execution_count": 6,
   "metadata": {},
   "outputs": [
    {
     "name": "stdout",
     "output_type": "stream",
     "text": [
      "mahmut\n"
     ]
    }
   ],
   "source": [
    "name = input(\"adin ne\")\n",
    "\n",
    "match name:\n",
    "    case \"Draco\" | \"hary\": \n",
    "        print(\"mahmut\")\n",
    "    case _:\n",
    "        print(\"hesss\")  "
   ]
  }
 ],
 "metadata": {
  "kernelspec": {
   "display_name": "Python 3.10.7 64-bit (microsoft store)",
   "language": "python",
   "name": "python3"
  },
  "language_info": {
   "codemirror_mode": {
    "name": "ipython",
    "version": 3
   },
   "file_extension": ".py",
   "mimetype": "text/x-python",
   "name": "python",
   "nbconvert_exporter": "python",
   "pygments_lexer": "ipython3",
   "version": "3.10.7"
  },
  "orig_nbformat": 4,
  "vscode": {
   "interpreter": {
    "hash": "ba33de22a5821ff61dd53097cd70511c2f19fae7b0f9e8b27ee69b6aca2c4956"
   }
  }
 },
 "nbformat": 4,
 "nbformat_minor": 2
}
