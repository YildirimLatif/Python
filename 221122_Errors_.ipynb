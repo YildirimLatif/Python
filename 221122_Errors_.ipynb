{
 "cells": [
  {
   "cell_type": "code",
   "execution_count": 5,
   "metadata": {},
   "outputs": [
    {
     "name": "stdout",
     "output_type": "stream",
     "text": [
      "Python 3.10.7\n"
     ]
    }
   ],
   "source": [
    "!python --version"
   ]
  },
  {
   "cell_type": "code",
   "execution_count": null,
   "metadata": {},
   "outputs": [],
   "source": [
    "# name error\n",
    "sum = a+ 6   \n",
    "print(sum)"
   ]
  },
  {
   "cell_type": "code",
   "execution_count": null,
   "metadata": {},
   "outputs": [],
   "source": [
    "#SyntaxError\n",
    "print(\"bana dokunma')"
   ]
  },
  {
   "cell_type": "code",
   "execution_count": null,
   "metadata": {},
   "outputs": [],
   "source": [
    "# Value Error aliriz\n",
    "int(\"123a\")  "
   ]
  },
  {
   "cell_type": "code",
   "execution_count": null,
   "metadata": {},
   "outputs": [],
   "source": [
    "#Type Error\n",
    "a = \"3\"\n",
    "b = 5\n",
    "print(a+b)  "
   ]
  },
  {
   "cell_type": "code",
   "execution_count": null,
   "metadata": {},
   "outputs": [],
   "source": [
    "#Exception Error       ==> istisnai hata\n",
    "print(\"a.......\")\n",
    "a = \"3\"\n",
    "b = 5\n",
    "print(\"a ile b toplami\")\n",
    "print(a+b)\n",
    "print(\"print islemi bitti\")  "
   ]
  },
  {
   "cell_type": "code",
   "execution_count": null,
   "metadata": {},
   "outputs": [],
   "source": [
    "#SyntaxError       \n",
    "print(\"a.......\")\n",
    "a = \"3\"\n",
    "b = 5\n",
    "print(\"a ile b toplami\")\n",
    "print(a+b)\n",
    "print(\"print islemi bitti')  "
   ]
  },
  {
   "cell_type": "code",
   "execution_count": 9,
   "metadata": {},
   "outputs": [
    {
     "data": {
      "text/plain": [
       "TypeError"
      ]
     },
     "execution_count": 9,
     "metadata": {},
     "output_type": "execute_result"
    }
   ],
   "source": [
    "#Command Exception \n",
    "ValueError\n",
    "NameError\n",
    "TypeError"
   ]
  },
  {
   "cell_type": "code",
   "execution_count": 10,
   "metadata": {},
   "outputs": [
    {
     "ename": "SyntaxError",
     "evalue": "invalid decimal literal (3801475959.py, line 1)",
     "output_type": "error",
     "traceback": [
      "\u001b[1;36m  Cell \u001b[1;32mIn [10], line 1\u001b[1;36m\u001b[0m\n\u001b[1;33m    print(int(12a))\u001b[0m\n\u001b[1;37m               ^\u001b[0m\n\u001b[1;31mSyntaxError\u001b[0m\u001b[1;31m:\u001b[0m invalid decimal literal\n"
     ]
    }
   ],
   "source": [
    "print(int(12a))"
   ]
  },
  {
   "cell_type": "code",
   "execution_count": null,
   "metadata": {},
   "outputs": [],
   "source": [
    "x = [1,2,3,4,5,6,7]\n",
    "for i in (x):\n",
    "    print(i)"
   ]
  },
  {
   "cell_type": "code",
   "execution_count": 14,
   "metadata": {},
   "outputs": [
    {
     "ename": "TypeError",
     "evalue": "'str' object cannot be interpreted as an integer",
     "output_type": "error",
     "traceback": [
      "\u001b[1;31m---------------------------------------------------------------------------\u001b[0m",
      "\u001b[1;31mTypeError\u001b[0m                                 Traceback (most recent call last)",
      "Cell \u001b[1;32mIn [14], line 1\u001b[0m\n\u001b[1;32m----> 1\u001b[0m \u001b[39mfor\u001b[39;00m i \u001b[39min\u001b[39;00m \u001b[39mrange\u001b[39;49m(\u001b[39m'\u001b[39;49m\u001b[39mx\u001b[39;49m\u001b[39m'\u001b[39;49m):\n\u001b[0;32m      2\u001b[0m     \u001b[39mprint\u001b[39m(i)\n",
      "\u001b[1;31mTypeError\u001b[0m: 'str' object cannot be interpreted as an integer"
     ]
    }
   ],
   "source": [
    "for i in range('x'):\n",
    "    print(i)"
   ]
  },
  {
   "cell_type": "code",
   "execution_count": null,
   "metadata": {},
   "outputs": [],
   "source": [
    "\n",
    "for i in range('x'):\n",
    "    print(i)"
   ]
  },
  {
   "cell_type": "code",
   "execution_count": 18,
   "metadata": {},
   "outputs": [
    {
     "name": "stdout",
     "output_type": "stream",
     "text": [
      "bir hata ile karsilasildi tekrar deneyiniz\n",
      "0.6666666666666666\n"
     ]
    }
   ],
   "source": [
    "while True:\n",
    "    one = int(input())\n",
    "    two = int(input())\n",
    "    try:\n",
    "        division = one/two\n",
    "        print(division)\n",
    "        break\n",
    "    except:\n",
    "        print(\"bir hata ile karsilasildi tekrar deneyiniz\")"
   ]
  },
  {
   "cell_type": "code",
   "execution_count": 20,
   "metadata": {},
   "outputs": [
    {
     "name": "stdout",
     "output_type": "stream",
     "text": [
      "bir hata ile karsilasildi tekrar deneyiniz\n",
      "bir hata ile karsilasildi tekrar deneyiniz\n",
      "bir hata ile karsilasildi tekrar deneyiniz\n",
      "bir hata ile karsilasildi tekrar deneyiniz\n",
      "1.3333333333333333\n"
     ]
    }
   ],
   "source": [
    "while True:\n",
    "    try:\n",
    "        one = int(input())\n",
    "        two = int(input())\n",
    "        division = one/two\n",
    "        print(division)\n",
    "        break\n",
    "    except:\n",
    "        print(\"bir hata ile karsilasildi tekrar deneyiniz\")"
   ]
  },
  {
   "cell_type": "code",
   "execution_count": 19,
   "metadata": {},
   "outputs": [
    {
     "ename": "ValueError",
     "evalue": "invalid literal for int() with base 10: '4b'",
     "output_type": "error",
     "traceback": [
      "\u001b[1;31m---------------------------------------------------------------------------\u001b[0m",
      "\u001b[1;31mValueError\u001b[0m                                Traceback (most recent call last)",
      "Cell \u001b[1;32mIn [19], line 4\u001b[0m\n\u001b[0;32m      2\u001b[0m \u001b[39mtry\u001b[39;00m:\n\u001b[0;32m      3\u001b[0m     one \u001b[39m=\u001b[39m \u001b[39mint\u001b[39m(\u001b[39minput\u001b[39m())\n\u001b[1;32m----> 4\u001b[0m     two \u001b[39m=\u001b[39m \u001b[39mint\u001b[39;49m(\u001b[39minput\u001b[39;49m())\n\u001b[0;32m      5\u001b[0m     division \u001b[39m=\u001b[39m one\u001b[39m/\u001b[39mtwo\n\u001b[0;32m      6\u001b[0m     \u001b[39mprint\u001b[39m(division)\n",
      "\u001b[1;31mValueError\u001b[0m: invalid literal for int() with base 10: '4b'"
     ]
    }
   ],
   "source": [
    "while True:\n",
    "    try:\n",
    "        one = int(input())\n",
    "        two = int(input())\n",
    "        division = one/two\n",
    "        print(division)\n",
    "        break\n",
    "    except ZeroDivisionError:\n",
    "        print(\"bir hata ile karsilasildi tekrar deneyiniz\")"
   ]
  },
  {
   "cell_type": "code",
   "execution_count": null,
   "metadata": {},
   "outputs": [],
   "source": [
    "while True:\n",
    "    try:\n",
    "        one = int(input())\n",
    "        two = int(input())\n",
    "        division = one/two\n",
    "        print(division)\n",
    "        break\n",
    "    except (ZeroDivisionError, ValueError):\n",
    "        print(\"bir hata ile karsilasildi tekrar deneyiniz\")"
   ]
  },
  {
   "cell_type": "code",
   "execution_count": 21,
   "metadata": {},
   "outputs": [
    {
     "name": "stdout",
     "output_type": "stream",
     "text": [
      "1\n",
      "2\n"
     ]
    },
    {
     "ename": "ValueError",
     "evalue": "invalid literal for int() with base 10: '3a'",
     "output_type": "error",
     "traceback": [
      "\u001b[1;31m---------------------------------------------------------------------------\u001b[0m",
      "\u001b[1;31mValueError\u001b[0m                                Traceback (most recent call last)",
      "Cell \u001b[1;32mIn [21], line 4\u001b[0m\n\u001b[0;32m      2\u001b[0m liste \u001b[39m=\u001b[39m  [\u001b[39m\"\u001b[39m\u001b[39m1\u001b[39m\u001b[39m\"\u001b[39m, \u001b[39m\"\u001b[39m\u001b[39m2\u001b[39m\u001b[39m\"\u001b[39m, \u001b[39m\"\u001b[39m\u001b[39m3a\u001b[39m\u001b[39m\"\u001b[39m, \u001b[39m\"\u001b[39m\u001b[39m4b\u001b[39m\u001b[39m\"\u001b[39m, \u001b[39m\"\u001b[39m\u001b[39m56\u001b[39m\u001b[39m\"\u001b[39m]\n\u001b[0;32m      3\u001b[0m \u001b[39mfor\u001b[39;00m i \u001b[39min\u001b[39;00m liste:\n\u001b[1;32m----> 4\u001b[0m     a \u001b[39m=\u001b[39m \u001b[39mint\u001b[39;49m(i)\n\u001b[0;32m      5\u001b[0m     \u001b[39mprint\u001b[39m(a)\n",
      "\u001b[1;31mValueError\u001b[0m: invalid literal for int() with base 10: '3a'"
     ]
    }
   ],
   "source": [
    "#Liste elemanlari icerisindeki hatali elemanlari bul....\n",
    "liste =  [\"1\", \"2\", \"3a\", \"4b\", \"56\"]\n",
    "for i in liste:\n",
    "    a = int(i)\n",
    "    print(a)\n",
    "    "
   ]
  },
  {
   "cell_type": "code",
   "execution_count": 22,
   "metadata": {},
   "outputs": [
    {
     "name": "stdout",
     "output_type": "stream",
     "text": [
      "1\n",
      "2\n",
      "56\n"
     ]
    }
   ],
   "source": [
    "#Liste elemanlari icerisindeki hatali elemanlari bul....\n",
    "liste =  [\"1\", \"2\", \"3a\", \"4b\", \"56\"]\n",
    "for i in liste:\n",
    "    try:\n",
    "        a = int(i)\n",
    "        print(a)\n",
    "    except:\n",
    "        continue"
   ]
  },
  {
   "cell_type": "code",
   "execution_count": 23,
   "metadata": {},
   "outputs": [
    {
     "ename": "FileNotFoundError",
     "evalue": "[Errno 2] No such file or directory: 'my_file.txt'",
     "output_type": "error",
     "traceback": [
      "\u001b[1;31m---------------------------------------------------------------------------\u001b[0m",
      "\u001b[1;31mFileNotFoundError\u001b[0m                         Traceback (most recent call last)",
      "Cell \u001b[1;32mIn [23], line 1\u001b[0m\n\u001b[1;32m----> 1\u001b[0m file \u001b[39m=\u001b[39m \u001b[39mopen\u001b[39;49m(\u001b[39m\"\u001b[39;49m\u001b[39mmy_file.txt\u001b[39;49m\u001b[39m\"\u001b[39;49m,\u001b[39m\"\u001b[39;49m\u001b[39mr\u001b[39;49m\u001b[39m\"\u001b[39;49m)\n\u001b[0;32m      2\u001b[0m \u001b[39mprint\u001b[39m(file\u001b[39m.\u001b[39mread())\n",
      "\u001b[1;31mFileNotFoundError\u001b[0m: [Errno 2] No such file or directory: 'my_file.txt'"
     ]
    }
   ],
   "source": [
    "file = open(\"my_file.txt\",\"r\")\n",
    "print(file.read())"
   ]
  },
  {
   "cell_type": "code",
   "execution_count": 24,
   "metadata": {},
   "outputs": [
    {
     "name": "stdout",
     "output_type": "stream",
     "text": [
      "dosya bulunamadi kontrol ediniz\n"
     ]
    }
   ],
   "source": [
    "try:\n",
    "    file = open(\"my_file.txt\",\"r\")\n",
    "    print(file.read())\n",
    "except FileNotFoundError:\n",
    "    print(\"dosya bulunamadi kontrol ediniz\")"
   ]
  },
  {
   "cell_type": "code",
   "execution_count": null,
   "metadata": {},
   "outputs": [],
   "source": [
    "while True:\n",
    "    try:\n",
    "        one = int(input())\n",
    "        two = int(input())\n",
    "        division = one/two        \n",
    "    except ZeroDivisionError:\n",
    "        print(\"bir hata ile karsilasildi tekrar deneyiniz\")\n",
    "    except ValueError:\n",
    "        print(\"Lütfen sayisal degerler giriniz\")\n",
    "    else:\n",
    "        print(division)\n",
    "    finally:\n",
    "        print(\"bizi tercih ettiginiz icin tesekkürler\")\n",
    "        break\n",
    "    "
   ]
  },
  {
   "cell_type": "code",
   "execution_count": 28,
   "metadata": {},
   "outputs": [
    {
     "name": "stdout",
     "output_type": "stream",
     "text": [
      "bir hata ile karsilasildi tekrar deneyiniz\n",
      "bizi tercih ettiginiz icin tesekkürler\n",
      "Lütfen sayisal degerler giriniz\n",
      "bizi tercih ettiginiz icin tesekkürler\n",
      "2.5\n",
      "bizi tercih ettiginiz icin tesekkürler\n"
     ]
    }
   ],
   "source": [
    "while True:\n",
    "    try:\n",
    "        one = int(input())\n",
    "        two = int(input())\n",
    "        division = one/two        \n",
    "    except ZeroDivisionError:\n",
    "        print(\"bir hata ile karsilasildi tekrar deneyiniz\")\n",
    "    except ValueError:\n",
    "        print(\"Lütfen sayisal degerler giriniz\")\n",
    "    else:\n",
    "        print(division)\n",
    "        break\n",
    "    finally:\n",
    "        print(\"bizi tercih ettiginiz icin tesekkürler\")\n",
    "        \n",
    "    "
   ]
  },
  {
   "cell_type": "code",
   "execution_count": 26,
   "metadata": {},
   "outputs": [
    {
     "name": "stdout",
     "output_type": "stream",
     "text": [
      "buradaysan sikinti yok\n",
      "Bu satir her halükarda calisiyor\n"
     ]
    }
   ],
   "source": [
    "try:\n",
    "    x = 4/1\n",
    "except:\n",
    "    print(\"buradaysan hata var\")\n",
    "else:\n",
    "    print(\"buradaysan sikinti yok\")\n",
    "finally:\n",
    "    print(\"Bu satir her halükarda calisiyor\")"
   ]
  },
  {
   "cell_type": "code",
   "execution_count": 29,
   "metadata": {},
   "outputs": [
    {
     "name": "stdout",
     "output_type": "stream",
     "text": [
      "buradaysan hata var\n"
     ]
    }
   ],
   "source": [
    "try:\n",
    "    x = 4/0\n",
    "except ZeroDivisionError:\n",
    "    print(\"buradaysan hata var\")\n",
    "except:\n",
    "    print(\"belirsiz hata gerceklesti\")"
   ]
  },
  {
   "cell_type": "code",
   "execution_count": 30,
   "metadata": {},
   "outputs": [
    {
     "name": "stdout",
     "output_type": "stream",
     "text": [
      "belirsiz hata gerceklesti\n"
     ]
    }
   ],
   "source": [
    "try:\n",
    "    x = 4/\"0\"\n",
    "except ZeroDivisionError:\n",
    "    print(\"buradaysan hata var\")\n",
    "except: #==> bu her zaman exceptlerin en altinda olacak \n",
    "    print(\"belirsiz hata gerceklesti\")"
   ]
  },
  {
   "cell_type": "code",
   "execution_count": 5,
   "metadata": {},
   "outputs": [
    {
     "name": "stdout",
     "output_type": "stream",
     "text": [
      "En sevdigim meyve  grape\n",
      "Tebrikler, verileri düzgün girdiniz\n",
      "meyveleriniz daime taze\n"
     ]
    }
   ],
   "source": [
    "fruits = [\"banana\", \"mango\", \"apple\",\"kiwi\", \"grape\"]\n",
    "while True:\n",
    "    try:\n",
    "        x = int(input(\"bir rakam giriniz\"))\n",
    "        fruits[x]\n",
    "    except:\n",
    "        print(\"hatali index girdiniz\")\n",
    "    else:\n",
    "        print(\"En sevdigim meyve \",fruits[x])\n",
    "        print(\"Tebrikler, verileri düzgün girdiniz\")\n",
    "        break\n",
    "    finally:\n",
    "        print(\"meyveleriniz daime taze\")"
   ]
  },
  {
   "cell_type": "code",
   "execution_count": null,
   "metadata": {},
   "outputs": [],
   "source": [
    "fruits = [\"banana\", \"mango\", \"apple\",\"kiwi\", \"grape\"]\n",
    "sayac = 3\n",
    "while sayac>0:\n",
    "    try:\n",
    "        x = int(input(\"bir rakam giriniz\"))\n",
    "        fruits[x]\n",
    "    except:\n",
    "        print(\"hatali index girdiniz\")\n",
    "        sayac-=1\n",
    "    else:\n",
    "        print(\"En sevdigim meyve \",fruits[x])\n",
    "        print(\"Tebrikler, verileri düzgün girdiniz\")\n",
    "        break\n",
    "    finally:\n",
    "        print(\"meyveleriniz daime taze\")\n",
    "        "
   ]
  }
 ],
 "metadata": {
  "kernelspec": {
   "display_name": "Python 3.10.7 64-bit (microsoft store)",
   "language": "python",
   "name": "python3"
  },
  "language_info": {
   "codemirror_mode": {
    "name": "ipython",
    "version": 3
   },
   "file_extension": ".py",
   "mimetype": "text/x-python",
   "name": "python",
   "nbconvert_exporter": "python",
   "pygments_lexer": "ipython3",
   "version": "3.10.7"
  },
  "orig_nbformat": 4,
  "vscode": {
   "interpreter": {
    "hash": "ba33de22a5821ff61dd53097cd70511c2f19fae7b0f9e8b27ee69b6aca2c4956"
   }
  }
 },
 "nbformat": 4,
 "nbformat_minor": 2
}
