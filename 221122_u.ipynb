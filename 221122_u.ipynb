{
 "cells": [
  {
   "cell_type": "code",
   "execution_count": null,
   "metadata": {},
   "outputs": [],
   "source": [
    "calculator= {\"+\":(lambda x,y:x+y),\n",
    "             \"-\":(lambda x,y:x-y),\n",
    "             \"*\":(lambda x,y:x*y),\n",
    "             \"/\":(lambda x,y:x/y)\n",
    "             }\n",
    "\n",
    "calculator[\"*\"]()"
   ]
  },
  {
   "cell_type": "code",
   "execution_count": 3,
   "metadata": {},
   "outputs": [
    {
     "name": "stdout",
     "output_type": "stream",
     "text": [
      "!\n",
      "z\n"
     ]
    }
   ],
   "source": [
    "print(chr(33))\n",
    "print(chr(122))"
   ]
  },
  {
   "cell_type": "code",
   "execution_count": 6,
   "metadata": {},
   "outputs": [
    {
     "name": "stdout",
     "output_type": "stream",
     "text": [
      "7I=#gTd`\n"
     ]
    }
   ],
   "source": [
    "import random\n",
    "psw = \"\"\n",
    "for i in range(8):\n",
    "    psw += chr(random.randint(33,126))\n",
    "print(psw)"
   ]
  },
  {
   "cell_type": "code",
   "execution_count": 11,
   "metadata": {},
   "outputs": [
    {
     "name": "stdout",
     "output_type": "stream",
     "text": [
      "2i)A0`Z]\n"
     ]
    }
   ],
   "source": [
    "import random\n",
    "random.seed(1)    # bu sürekli random dan ayni sonucu verir.\n",
    "psw = \"\"             # 1 2 ve 3 diye farkli random degerleri saklayabiliriz.\n",
    "for i in range(8):\n",
    "    psw += chr(random.randint(33,126))\n",
    "print(psw)"
   ]
  },
  {
   "cell_type": "code",
   "execution_count": 22,
   "metadata": {},
   "outputs": [
    {
     "name": "stdout",
     "output_type": "stream",
     "text": [
      "?G.}S^4,\n"
     ]
    }
   ],
   "source": [
    "import random\n",
    "random.seed(4)    # bu sürekli random dan ayni sonucu verir.\n",
    "psw = \"\"             # 1 2 ve 3 diye farkli random degerleri saklayabiliriz.\n",
    "for i in range(8):\n",
    "    psw += chr(random.randint(33,126))\n",
    "print(psw)"
   ]
  }
 ],
 "metadata": {
  "kernelspec": {
   "display_name": "Python 3.10.7 64-bit (microsoft store)",
   "language": "python",
   "name": "python3"
  },
  "language_info": {
   "codemirror_mode": {
    "name": "ipython",
    "version": 3
   },
   "file_extension": ".py",
   "mimetype": "text/x-python",
   "name": "python",
   "nbconvert_exporter": "python",
   "pygments_lexer": "ipython3",
   "version": "3.10.7"
  },
  "orig_nbformat": 4,
  "vscode": {
   "interpreter": {
    "hash": "ba33de22a5821ff61dd53097cd70511c2f19fae7b0f9e8b27ee69b6aca2c4956"
   }
  }
 },
 "nbformat": 4,
 "nbformat_minor": 2
}
