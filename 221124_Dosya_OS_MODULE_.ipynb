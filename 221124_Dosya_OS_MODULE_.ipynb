{
 "cells": [
  {
   "cell_type": "code",
   "execution_count": 1,
   "metadata": {},
   "outputs": [
    {
     "data": {
      "text/plain": [
       "'c:\\\\Users\\\\lyild\\\\Desktop\\\\DevOps\\\\Python'"
      ]
     },
     "execution_count": 1,
     "metadata": {},
     "output_type": "execute_result"
    }
   ],
   "source": [
    "import os\n",
    "os.getcwd()"
   ]
  },
  {
   "cell_type": "code",
   "execution_count": null,
   "metadata": {},
   "outputs": [],
   "source": [
    "import os\n",
    "os.listdir()"
   ]
  },
  {
   "cell_type": "code",
   "execution_count": 7,
   "metadata": {},
   "outputs": [
    {
     "name": "stdout",
     "output_type": "stream",
     "text": [
      "('/DevOps/Python', 'aralik.py')\n"
     ]
    }
   ],
   "source": [
    "import os\n",
    "a = \"/DevOps/Python/aralik.py\"\n",
    "print(os.path.split(a))"
   ]
  },
  {
   "cell_type": "code",
   "execution_count": 9,
   "metadata": {},
   "outputs": [
    {
     "name": "stdout",
     "output_type": "stream",
     "text": [
      "('/DevOps/Python', 'aralik.py')\n",
      "/DevOps/Python\n",
      "aralik.py\n"
     ]
    }
   ],
   "source": [
    "import os\n",
    "a = \"/DevOps/Python/aralik.py\"\n",
    "print(os.path.split(a))\n",
    "print(os.path.split(a)[0])\n",
    "print(os.path.split(a)[1])"
   ]
  },
  {
   "cell_type": "code",
   "execution_count": 17,
   "metadata": {},
   "outputs": [
    {
     "name": "stdout",
     "output_type": "stream",
     "text": [
      "('https://www.match-talent.de', 'contact')\n"
     ]
    }
   ],
   "source": [
    "my_path = \"https://www.match-talent.de/contact\"\n",
    "print(os.path.split(my_path))"
   ]
  },
  {
   "cell_type": "code",
   "execution_count": 18,
   "metadata": {},
   "outputs": [
    {
     "data": {
      "text/plain": [
       "'contact'"
      ]
     },
     "execution_count": 18,
     "metadata": {},
     "output_type": "execute_result"
    }
   ],
   "source": [
    "os.path.basename(my_path)"
   ]
  },
  {
   "cell_type": "markdown",
   "metadata": {},
   "source": [
    "    Dosya ile ilgili en temel islemler sunlar;\n",
    "    1. Dosya Acilir    (Open)\n",
    "    2. Dosya üzerinde islemler          (Okuma / Yazma Islemi)\n",
    "    3. Dosya Kapatma   (Close)\n",
    "    4. Read ve readline ciktiyi string olarak verir.\n",
    "    5. readlines komutu ciktiyi liste olarak verir. "
   ]
  },
  {
   "cell_type": "code",
   "execution_count": 20,
   "metadata": {},
   "outputs": [
    {
     "ename": "FileNotFoundError",
     "evalue": "[Errno 2] No such file or directory: 'merhaba.txt'",
     "output_type": "error",
     "traceback": [
      "\u001b[1;31m---------------------------------------------------------------------------\u001b[0m",
      "\u001b[1;31mFileNotFoundError\u001b[0m                         Traceback (most recent call last)",
      "Cell \u001b[1;32mIn [20], line 1\u001b[0m\n\u001b[1;32m----> 1\u001b[0m my_file \u001b[39m=\u001b[39m \u001b[39mopen\u001b[39;49m(\u001b[39m\"\u001b[39;49m\u001b[39mmerhaba.txt\u001b[39;49m\u001b[39m\"\u001b[39;49m)\n\u001b[0;32m      3\u001b[0m \u001b[39mprint\u001b[39m(\u001b[39mtype\u001b[39m(my_file))\n",
      "\u001b[1;31mFileNotFoundError\u001b[0m: [Errno 2] No such file or directory: 'merhaba.txt'"
     ]
    }
   ],
   "source": [
    "my_file = open(\"merhaba.txt\")\n",
    "\n",
    "print(type(my_file))"
   ]
  },
  {
   "cell_type": "code",
   "execution_count": 21,
   "metadata": {},
   "outputs": [
    {
     "name": "stdout",
     "output_type": "stream",
     "text": [
      "Dosya yolu yada adi yanlis\n"
     ]
    }
   ],
   "source": [
    "try:\n",
    "    my_file = open(\"merhaba.txt\")\n",
    "    print(type(my_file))\n",
    "except:\n",
    "    print(\"Dosya yolu yada adi yanlis\")"
   ]
  },
  {
   "cell_type": "markdown",
   "metadata": {},
   "source": [
    "\"r\" = okuyor\n",
    "\"w\" = yaziyor\n",
    "\"x\" = yoksa olustur varsa hata  verir\n",
    "\"t\" = text dosylari okumak icin \"rt\" ve \"r\" ayni manaya gelir\n",
    "\"b\" = Binary dosylarini okuruz\n",
    "\"\" = "
   ]
  },
  {
   "cell_type": "code",
   "execution_count": 39,
   "metadata": {},
   "outputs": [
    {
     "name": "stdout",
     "output_type": "stream",
     "text": [
      "Orca is a kind of Dolphin.\n",
      "Blue Whale is the largest animal known on earth.\n",
      "Sharks are the sister group to the Rays (batoids).\n",
      "The Tuna Fish can weigh up to 260 kg.\n",
      "Squid and Octopus are in the same class.\n"
     ]
    }
   ],
   "source": [
    "file = open(\"merhaba.txt\")\n",
    "print(file.read())\n",
    "file.close()"
   ]
  },
  {
   "cell_type": "code",
   "execution_count": 38,
   "metadata": {},
   "outputs": [
    {
     "name": "stdout",
     "output_type": "stream",
     "text": [
      "Orca is a kind of Dolphin.\n",
      "Blue W\n"
     ]
    }
   ],
   "source": [
    "file = open(\"merhaba.txt\")\n",
    "print(file.read(33))\n",
    "file.close()"
   ]
  },
  {
   "cell_type": "code",
   "execution_count": 40,
   "metadata": {},
   "outputs": [
    {
     "name": "stdout",
     "output_type": "stream",
     "text": [
      "Orca is a kind of Dolphin.\n",
      "Blue W\n"
     ]
    }
   ],
   "source": [
    "try:\n",
    "    file = open(\"merhaba.txt\")\n",
    "    print(file.read(33))\n",
    "except:\n",
    "    print(\"dosya yolu yanlis\")\n",
    "file.close()"
   ]
  },
  {
   "cell_type": "code",
   "execution_count": 44,
   "metadata": {},
   "outputs": [
    {
     "name": "stdout",
     "output_type": "stream",
     "text": [
      "Orca is a kind of Dolphin\n",
      ".\n",
      "Blue Whale is the large\n"
     ]
    }
   ],
   "source": [
    "try:\n",
    "    file = open(\"merhaba.txt\")\n",
    "    print(file.read(25))\n",
    "    print(file.read(25))\n",
    "except:\n",
    "    print(\"dosya yolu yanlis\")\n",
    "file.close()"
   ]
  },
  {
   "cell_type": "code",
   "execution_count": 49,
   "metadata": {},
   "outputs": [
    {
     "name": "stdout",
     "output_type": "stream",
     "text": [
      "Orca is a kind of Dolphin\n",
      "Orca is a kind of Dolphin\n"
     ]
    }
   ],
   "source": [
    "try:\n",
    "    file = open(\"merhaba.txt\")\n",
    "    \n",
    "    print(file.read(25))\n",
    "    file.seek(0)         #Bu konuma konumlaniyor\n",
    "    print(file.read(25))\n",
    "except:\n",
    "    print(\"dosya yolu yanlis\")\n",
    "file.close()"
   ]
  },
  {
   "cell_type": "code",
   "execution_count": 52,
   "metadata": {},
   "outputs": [
    {
     "name": "stdout",
     "output_type": "stream",
     "text": [
      "Orca is a kind of Dolphin\n",
      "25\n",
      ".\n",
      "Blue Whale is the large\n"
     ]
    }
   ],
   "source": [
    "try:\n",
    "    file = open(\"merhaba.txt\")\n",
    "    \n",
    "    print(file.read(25))\n",
    "    print(file.tell())         #Bu konumun yerini veriyor.\n",
    "    print(file.read(25))\n",
    "except:\n",
    "    print(\"dosya yolu yanlis\")\n",
    "file.close()"
   ]
  },
  {
   "cell_type": "code",
   "execution_count": 85,
   "metadata": {},
   "outputs": [
    {
     "name": "stdout",
     "output_type": "stream",
     "text": [
      "Iwant to sing\n",
      "\n",
      "Like the birds sing,\n",
      "\n"
     ]
    }
   ],
   "source": [
    "try:\n",
    "    file = open(\"rumi.txt\",\"r\") \n",
    "    print(file.readline())\n",
    "    print(file.readline()) \n",
    "except:\n",
    "    print(\"dosya yolu yanlis\")\n",
    "file.close()"
   ]
  },
  {
   "cell_type": "code",
   "execution_count": null,
   "metadata": {},
   "outputs": [],
   "source": [
    "try:\n",
    "    file = open(\"rumi.txt\",\"r\") \n",
    "    print(file.readline(5))  # O satirda 5. index e kadar gider\n",
    "except:\n",
    "    print(\"dosya yolu yanlis\")\n",
    "file.close()"
   ]
  },
  {
   "cell_type": "code",
   "execution_count": 86,
   "metadata": {},
   "outputs": [
    {
     "name": "stdout",
     "output_type": "stream",
     "text": [
      "Like the birds sing,\n",
      "\n"
     ]
    }
   ],
   "source": [
    "try:\n",
    "    file = open(\"rumi.txt\",\"r\") \n",
    "    print(file.readlines()[1])\n",
    "except:\n",
    "    print(\"dosya yolu yanlis\")\n",
    "file.close()"
   ]
  },
  {
   "cell_type": "code",
   "execution_count": 88,
   "metadata": {},
   "outputs": [
    {
     "name": "stdout",
     "output_type": "stream",
     "text": [
      "Iwant to sing\n",
      "\n",
      "Like the birds sing,\n",
      "\n"
     ]
    }
   ],
   "source": [
    "try:\n",
    "    file = open(\"rumi.txt\",\"r\") \n",
    "    a = file.readlines()\n",
    "    print(a[0])\n",
    "    print(a[1])\n",
    "except:\n",
    "    print(\"dosya yolu yanlis\")\n",
    "file.close()"
   ]
  }
 ],
 "metadata": {
  "kernelspec": {
   "display_name": "Python 3.10.7 64-bit (microsoft store)",
   "language": "python",
   "name": "python3"
  },
  "language_info": {
   "codemirror_mode": {
    "name": "ipython",
    "version": 3
   },
   "file_extension": ".py",
   "mimetype": "text/x-python",
   "name": "python",
   "nbconvert_exporter": "python",
   "pygments_lexer": "ipython3",
   "version": "3.10.7"
  },
  "orig_nbformat": 4,
  "vscode": {
   "interpreter": {
    "hash": "ba33de22a5821ff61dd53097cd70511c2f19fae7b0f9e8b27ee69b6aca2c4956"
   }
  }
 },
 "nbformat": 4,
 "nbformat_minor": 2
}
