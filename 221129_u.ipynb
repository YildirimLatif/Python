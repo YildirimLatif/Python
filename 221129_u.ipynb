{
 "cells": [
  {
   "cell_type": "markdown",
   "metadata": {},
   "source": []
  },
  {
   "cell_type": "code",
   "execution_count": 4,
   "metadata": {},
   "outputs": [
    {
     "name": "stdout",
     "output_type": "stream",
     "text": [
      "Blue Whale is the largest animal known on earth.\n",
      "\n",
      "Sharks are the sister group to the Rays (batoids).\n",
      "\n",
      "The Tuna Fish can weigh up to 260 kg.\n",
      "\n"
     ]
    }
   ],
   "source": [
    "try:\n",
    "    file = open(\"fishes.txt\",mode=\"r\", encoding=\"utf-8\") \n",
    "    a = file.readline()\n",
    "    print(file.readline())\n",
    "    print(file.readline())\n",
    "    print(file.readline())\n",
    "except:\n",
    "    print(\"dosya yolu yanlis\")\n",
    "file.close()"
   ]
  },
  {
   "cell_type": "code",
   "execution_count": 5,
   "metadata": {},
   "outputs": [
    {
     "name": "stdout",
     "output_type": "stream",
     "text": [
      "Orca is a kin\n",
      "d of Dolphin.\n",
      "\n",
      "\n",
      "Blue Whale is\n"
     ]
    }
   ],
   "source": [
    "try:\n",
    "    file = open(\"fishes.txt\",mode=\"r\", encoding=\"utf-8\")\n",
    "    print(file.readline(13))\n",
    "    print(file.readline(13))\n",
    "    print(file.readline(13))\n",
    "    print(file.readline(13))\n",
    "except:\n",
    "    print(\"dosya yolu yanlis\")\n",
    "file.close()"
   ]
  },
  {
   "cell_type": "code",
   "execution_count": 14,
   "metadata": {},
   "outputs": [
    {
     "name": "stdout",
     "output_type": "stream",
     "text": [
      "I want to sing\n",
      "Like the birds sing,\n",
      "Not worrying about\n",
      "<class 'str'>\n"
     ]
    }
   ],
   "source": [
    "try:\n",
    "    file = open(\"rumi.txt\",mode=\"r\", encoding=\"utf-8\")\n",
    "    print(file.readline().rstrip())     # rstrip ile sagda kalan /n yi silmek\n",
    "    print(file.readline().rstrip())\n",
    "    print(file.readline(20).rstrip())\n",
    "    print(type(file.readline())) \n",
    "except:\n",
    "    print(\"dosya yolu yanlis\")\n",
    "finally:\n",
    "    file.close()"
   ]
  },
  {
   "cell_type": "code",
   "execution_count": 13,
   "metadata": {},
   "outputs": [
    {
     "name": "stdout",
     "output_type": "stream",
     "text": [
      "['Orca is a kind of Dolphin.\\n', 'Blue Whale is the largest animal known on earth.\\n', 'Sharks are the sister group to the Rays (batoids).\\n', 'The Tuna Fish can weigh up to 260 kg.\\n', 'Squid and Octopus are in the same class.']\n",
      "<class 'list'>\n"
     ]
    }
   ],
   "source": [
    "try:\n",
    "    file = open(\"fishes.txt\",mode=\"r\", encoding=\"utf-8\")\n",
    "    print(file.readlines())\n",
    "    print(type(file.readlines())) \n",
    "except:\n",
    "    print(\"dosya yolu yanlis\")\n",
    "finally:\n",
    "    file.close()"
   ]
  },
  {
   "cell_type": "code",
   "execution_count": 16,
   "metadata": {},
   "outputs": [
    {
     "name": "stdout",
     "output_type": "stream",
     "text": [
      "Orca is a kind of Dolphin.\n",
      "\n",
      "['Blue Whale is the largest animal known on earth.\\n', 'Sharks are the sister group to the Rays (batoids).\\n', 'The Tuna Fish can weigh up to 260 kg.\\n', 'Squid and Octopus are in the same class.']\n"
     ]
    }
   ],
   "source": [
    "try:\n",
    "    file = open(\"fishes.txt\",mode=\"r\", encoding=\"utf-8\")\n",
    "    print(file.readline())\n",
    "    print(file.readlines())\n",
    "     \n",
    "except:\n",
    "    print(\"dosya yolu yanlis\")\n",
    "finally:\n",
    "    file.close()"
   ]
  },
  {
   "cell_type": "code",
   "execution_count": 5,
   "metadata": {},
   "outputs": [
    {
     "name": "stdout",
     "output_type": "stream",
     "text": [
      "['Merhaba, dosyaya birseyler yazalim']\n"
     ]
    }
   ],
   "source": [
    "try:\n",
    "    file = open(\"rumi.txt\",mode=\"r\", encoding=\"utf-8\")\n",
    "    print(file.readlines())     \n",
    "except:\n",
    "    print(\"dosya yolu yanlis\")\n",
    "finally:\n",
    "    file.close()"
   ]
  },
  {
   "cell_type": "code",
   "execution_count": null,
   "metadata": {},
   "outputs": [],
   "source": [
    "try:\n",
    "    file = open(\"rumi.txt\",mode=\"r\", encoding=\"utf-8\")\n",
    "    print(file.readlines())     \n",
    "except:\n",
    "    print(\"dosya yolu yanlis\")\n",
    "finally:\n",
    "    file.close()"
   ]
  },
  {
   "cell_type": "code",
   "execution_count": 4,
   "metadata": {},
   "outputs": [
    {
     "name": "stdout",
     "output_type": "stream",
     "text": [
      "Merhaba, dosyaya birseyler\n",
      "26\n",
      " yazalim\n",
      "[]\n",
      "0\n",
      "dosya yolu yanlis\n"
     ]
    }
   ],
   "source": [
    "try:\n",
    "    with  open(\"rumi.txt\",mode=\"r\", encoding=\"utf-8\") as file:\n",
    "        print(file.read(26))\n",
    "        print(file.tell())\n",
    "        print(file.readline())\n",
    "        print(file.readlines())\n",
    "        file.seek(0)\n",
    "        print(file.tell())\n",
    "        print(file.closed())\n",
    "    print(file.closed())\n",
    "    \n",
    "except:\n",
    "    print(\"dosya yolu yanlis\")\n",
    "finally:\n",
    "    file.close()"
   ]
  },
  {
   "cell_type": "code",
   "execution_count": 39,
   "metadata": {},
   "outputs": [],
   "source": [
    "try:\n",
    "    with open(\"deneme.txt\",mode=\"w+\", encoding=\"utf-8\") as file:\n",
    "        file.write(\"Merhaba, dosyaya birseyler daha yazalim\")\n",
    "        file.write(\"Merhaba, dosyaya birseyler daha yazalim\\n\")\n",
    "        file.write(\"Merhaba, dosyaya birseyler daha yazalim\")  \n",
    "        file.write(\"Merhaba, dosyaya birseyler daha yazalim\")      \n",
    "except:\n",
    "    print(\"dosya yolu yanlis\")\n"
   ]
  },
  {
   "cell_type": "code",
   "execution_count": 1,
   "metadata": {},
   "outputs": [
    {
     "name": "stdout",
     "output_type": "stream",
     "text": [
      "banana\n",
      "Orange\n",
      "Apple\n",
      "Strawberrry\n",
      "Cherry\n",
      "\n"
     ]
    }
   ],
   "source": [
    "try:\n",
    "    with open(\"fruits.txt\",mode=\"w+\", encoding=\"utf-8\") as file:\n",
    "        fruits = ['banana', \"Orange\", \"Apple\", \"Strawberrry\",\"Cherry\"]\n",
    "        for i in fruits:\n",
    "            file.write(i+\"\\n\")      \n",
    "except:\n",
    "    print(\"dosya yolu yanlis\")\n",
    "finally:\n",
    "    with open(\"fruits.txt\",mode=\"r\", encoding=\"utf-8\") as file:\n",
    "        print(file.read())"
   ]
  },
  {
   "cell_type": "code",
   "execution_count": 3,
   "metadata": {},
   "outputs": [
    {
     "name": "stdout",
     "output_type": "stream",
     "text": [
      "banana\n",
      "\n",
      "Orange\n",
      "\n",
      "Apple\n",
      "\n",
      "Strawberrry\n",
      "\n",
      "Cherry\n",
      "\n",
      "\n"
     ]
    }
   ],
   "source": [
    "try:\n",
    "    with open(\"fruits.txt\", \"w+\") as file:\n",
    "        fruits = ['banana', \"Orange\", \"Apple\", \"Strawberrry\",\"Cherry\"]\n",
    "        for i in fruits:\n",
    "            file.write(i+\"\\n\\n\")                \n",
    "except:\n",
    "    print(\"dosya yolu yanlis\")\n",
    "finally:\n",
    "    with open(\"fruits.txt\", \"r\") as file:\n",
    "        print(file.read())"
   ]
  }
 ],
 "metadata": {
  "kernelspec": {
   "display_name": "Python 3.10.7 64-bit (microsoft store)",
   "language": "python",
   "name": "python3"
  },
  "language_info": {
   "codemirror_mode": {
    "name": "ipython",
    "version": 3
   },
   "file_extension": ".py",
   "mimetype": "text/x-python",
   "name": "python",
   "nbconvert_exporter": "python",
   "pygments_lexer": "ipython3",
   "version": "3.10.7"
  },
  "orig_nbformat": 4,
  "vscode": {
   "interpreter": {
    "hash": "ba33de22a5821ff61dd53097cd70511c2f19fae7b0f9e8b27ee69b6aca2c4956"
   }
  }
 },
 "nbformat": 4,
 "nbformat_minor": 2
}
