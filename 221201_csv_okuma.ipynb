{
 "cells": [
  {
   "cell_type": "code",
   "execution_count": null,
   "metadata": {},
   "outputs": [],
   "source": [
    "with open(\"fruit.csv\",\"r\",encoding=\"utf-8\")as f:\n",
    "    print(f.read())"
   ]
  },
  {
   "cell_type": "code",
   "execution_count": null,
   "metadata": {},
   "outputs": [],
   "source": [
    "with open(\"people.csv\",\"r\",encoding=\"utf-8\")as f:\n",
    "    print(f.read())"
   ]
  },
  {
   "cell_type": "code",
   "execution_count": null,
   "metadata": {},
   "outputs": [],
   "source": [
    "# csv modulunu kullanarak okutma islemi\n",
    "import csv\n",
    "with open(\"people.csv\",\"r\",newline = '',encoding=\"utf-8\")as f:\n",
    "    for row in csv.reader(f):\n",
    "        print(row)"
   ]
  },
  {
   "cell_type": "code",
   "execution_count": null,
   "metadata": {},
   "outputs": [],
   "source": [
    "# csv modulunu kullanarak okutma islemi\n",
    "import csv\n",
    "with open(\"people.csv\",\"r\",newline = '',encoding=\"utf-8\")as f:\n",
    "    for row in csv.reader(f,delimiter=\",\"):\n",
    "        print(row)"
   ]
  },
  {
   "cell_type": "code",
   "execution_count": null,
   "metadata": {},
   "outputs": [],
   "source": [
    "import csv\n",
    "data =[['no', 'first_name', 'last_name', 'ages'],\n",
    "       ['1', 'ahmet', 'kara', '30'],\n",
    "       ['2', 'mehmet', 'bulut', '25']]\n",
    "with open(\"people2.csv\",mode=\"w\", newline=\"\", encoding=\"utf-8\")as f:\n",
    "    writer_nesnesi = csv.writer(f) \n",
    "    writer_nesnesi.writerows(data)  # veya csv.writer(f).writerow(data)"
   ]
  },
  {
   "cell_type": "code",
   "execution_count": null,
   "metadata": {},
   "outputs": [],
   "source": [
    "#csv modulunu kullanılarak yazma işlemi\n",
    "import csv\n",
    "data = [['no', 'ad', 'adres'],\n",
    "        ['1', ' ali', 'kocaeli'],\n",
    "        ['2', ' veli', 'berlin']]\n",
    "with open(\"names.csv\", mode=\"w\", newline=\"\") as f:\n",
    "    writer_nesnesi = csv.writer(f)\n",
    "    writer_nesnesi.writerows(data)  # writerow(s) s liste kolan seklinde cikarir "
   ]
  },
  {
   "cell_type": "code",
   "execution_count": null,
   "metadata": {},
   "outputs": [],
   "source": [
    "import csv\n",
    "data = [['no', 'ad', 'adres'], \n",
    "        ['1', ' ali', 'kocaeli'],\n",
    "        ['2', ' veli', 'berlin']]\n",
    "with open(\"names.csv\", mode=\"w\", newline=\"\") as f:\n",
    "    csv.writer(f).writerows(data)"
   ]
  },
  {
   "cell_type": "code",
   "execution_count": null,
   "metadata": {},
   "outputs": [],
   "source": [
    "import csv\n",
    "with open(\"people.csv\",\"r\",newline = '',encoding=\"utf-8\")as f:\n",
    "    for row in csv.reader(f,delimiter=\",\"):\n",
    "        print(\" \".join(row))"
   ]
  },
  {
   "cell_type": "code",
   "execution_count": null,
   "metadata": {},
   "outputs": [],
   "source": [
    "import csv\n",
    "with open(\"name2.csv\",\"w\",newline = '',encoding=\"utf-8\")as f:\n",
    "    w_n = csv.DictWriter(f, fieldnames=[\"ad\", \"soyad\"]) # key\n",
    "    w_n.writeheader()# basligi keyleri yazar\n",
    "    w_n.writerow({\"ad\":\"latif\",\"soyad\":\"yildirim\"})\n",
    "    w_n.writerow({\"ad\":\"lat \",\"soyad\":\"yildi \"})"
   ]
  },
  {
   "cell_type": "code",
   "execution_count": null,
   "metadata": {},
   "outputs": [],
   "source": [
    "#sözlük şeklindeki içeriğe sahip dosyayı okuyalım\n",
    "import csv\n",
    "with open(\"people2.csv\", mode=\"r\") as file:\n",
    "    r_n = csv.DictReader(file)\n",
    "    for i in r_n:\n",
    "        print(i[\"no\"], i[\"last_name\"])"
   ]
  },
  {
   "cell_type": "code",
   "execution_count": null,
   "metadata": {},
   "outputs": [],
   "source": [
    "!pip install pandas"
   ]
  },
  {
   "cell_type": "code",
   "execution_count": null,
   "metadata": {},
   "outputs": [],
   "source": [
    "import pandas as pd\n",
    "df = pd.read_csv(\"fruit.csv\")\n",
    "print(df)"
   ]
  },
  {
   "cell_type": "code",
   "execution_count": null,
   "metadata": {},
   "outputs": [],
   "source": [
    "print(df.head(3)) # ilk üc kayit"
   ]
  },
  {
   "cell_type": "code",
   "execution_count": null,
   "metadata": {},
   "outputs": [],
   "source": [
    "print(df.tail(3)) # son üc kayit"
   ]
  },
  {
   "cell_type": "code",
   "execution_count": null,
   "metadata": {},
   "outputs": [],
   "source": [
    "import pandas as pd\n",
    "url = \"https://python-data.dr-chuck.net/comments_42.html\"\n",
    "df = pd.read_html(url, index_col=0, header=0)\n",
    "print(df)"
   ]
  },
  {
   "cell_type": "code",
   "execution_count": null,
   "metadata": {},
   "outputs": [],
   "source": [
    "!pip install pandas"
   ]
  },
  {
   "cell_type": "code",
   "execution_count": null,
   "metadata": {},
   "outputs": [],
   "source": [
    "import pandas as pd\n",
    "url = \"https://python-data.dr-chuck.net/comments_42.json\"\n",
    "df = pd.read_json(url)\n",
    "print(df[\"comments\"].head(5))"
   ]
  },
  {
   "cell_type": "code",
   "execution_count": null,
   "metadata": {},
   "outputs": [],
   "source": [
    "import pandas as pd\n",
    "url = \"https://raw.githubusercontent.com/domoritz/maps/master/data/iris.json\"\n",
    "df = pd.read_json(url)\n",
    "print(df)"
   ]
  },
  {
   "cell_type": "code",
   "execution_count": null,
   "metadata": {},
   "outputs": [],
   "source": [
    "import pandas as pd\n",
    "url = \"https://raw.githubusercontent.com/domoritz/maps/master/data/iris.json\"\n",
    "df = pd.read_json(url)\n",
    "print(df.head())"
   ]
  },
  {
   "cell_type": "code",
   "execution_count": null,
   "metadata": {},
   "outputs": [],
   "source": [
    "# bir söylük yapisi seklindeki datalari pandas ile bir dosyaya yazalim.add()\n",
    "import pandas as pd\n",
    "ilk_plk = {\"il\": [\"bursa\", \"kocaeli\", \"ankara\",\"berlin\"],\n",
    "           \"plaka\":[16,41,6,\"B\"]}\n",
    "df = pd.DataFrame(ilk_plk)\n",
    "df.to_csv(\"iller.csv\") # dosyayi bu isimle kayit yapar\n",
    "print(df)"
   ]
  },
  {
   "cell_type": "code",
   "execution_count": null,
   "metadata": {},
   "outputs": [],
   "source": [
    "print(df[\"il\"])"
   ]
  },
  {
   "cell_type": "code",
   "execution_count": null,
   "metadata": {},
   "outputs": [],
   "source": [
    "# ic ice söylük yapisi json oalrak yazilmis\n",
    "# dictionary json okuyalim\n",
    "import pandas as pd\n",
    "df = pd.read_json(\"dictionary.json\")\n",
    "print(df)"
   ]
  },
  {
   "cell_type": "code",
   "execution_count": null,
   "metadata": {},
   "outputs": [],
   "source": [
    "# dictionary json okuyalım\n",
    "import pandas as pd\n",
    "df = pd.read_json(\"dictionary.json\", orient=\"index\").dropna() #NAN verileri sil\n",
    "listem = list(df.columns)\n",
    "listem "
   ]
  },
  {
   "cell_type": "code",
   "execution_count": null,
   "metadata": {},
   "outputs": [],
   "source": [
    "# ic ice söylük yapisi json oalrak yazilmis\n",
    "# dictionary json okuyalim\n",
    "import pandas as pd\n",
    "df = pd.read_json(\"dictionary.json\", orient=\"index\").dropna()\n",
    "listem = list(df.columns)\n",
    "ortanca = len(listem)//2\n",
    "for i in range(ortanca):\n",
    "    print(listem[i], \":\", listem[ortanca+i])"
   ]
  },
  {
   "cell_type": "code",
   "execution_count": null,
   "metadata": {},
   "outputs": [],
   "source": [
    "# solucan tarzi bir virus uygulamasi\n",
    "import time\n",
    "for i in range(13):\n",
    "    file_name = f\"test{i}.txt\"\n",
    "    with open(file_name, mode=\"w\") as f:\n",
    "        f.write(f\"{i}. dosya icerigi bos\")\n",
    "        time.sleep(3)\n",
    "        print(f\"{i}. dosya olustu\")\n",
    "        "
   ]
  },
  {
   "cell_type": "code",
   "execution_count": null,
   "metadata": {},
   "outputs": [],
   "source": []
  },
  {
   "cell_type": "code",
   "execution_count": null,
   "metadata": {},
   "outputs": [],
   "source": [
    "#sql dosyasını okuma ve sorgusunu çalıştırma\n",
    "import sqlite3\n",
    "import pandas as pd\n",
    "\n",
    "con = sqlite3.connect(\"salesDE1.db\")\n",
    "sorgu1 = pd.read_sql_query(\"SELECT name, carBrand, salesPrice FROM sales\", con)\n",
    "print(sorgu1)"
   ]
  },
  {
   "cell_type": "code",
   "execution_count": null,
   "metadata": {},
   "outputs": [],
   "source": [
    "sorgu2 = pd.read_sql_query(\"SELECT name, carBrand, salesPrice FROM sales WHERE carBrand='BMW' \", con)\n",
    "print(sorgu2) #sales tablosundaki tüm kayıtları listele"
   ]
  },
  {
   "cell_type": "code",
   "execution_count": null,
   "metadata": {},
   "outputs": [],
   "source": [
    "print(type(str))"
   ]
  },
  {
   "cell_type": "code",
   "execution_count": null,
   "metadata": {},
   "outputs": [],
   "source": [
    "class personal:\n",
    "    def __init__(self, no, ad, bolum):\n",
    "        self.ad = ad\n",
    "        self.no = no\n",
    "        self.bolum = bolum\n",
    "        self.mail = f\"{ad}@clarusway.com\"\n",
    "    def personal_bilgisi(self):\n",
    "        print(\"adi\", self.ad )\n",
    "        print(\"no\", self.no )\n",
    "        print(\"mail\", self.mail )\n",
    "        print(\"bolum\", self.bolum)\n",
    "# esne olusturualim\n",
    "latif_ogr = personal(\"11\",\"latif\", \"DevOps\")\n",
    "lati_ogr = personal(\"111\",\"lati\", \"DevOp\")\n",
    "lat_ogr = personal(\"12\",\"lat\", \"DevO\")\n",
    "\n",
    "latif_ogr.personal_bilgisi()\n",
    "latif_ogr.mail = \"lyildirim.3017@gmail.com\"\n",
    "latif_ogr.personal_bilgisi()"
   ]
  },
  {
   "cell_type": "code",
   "execution_count": null,
   "metadata": {},
   "outputs": [],
   "source": [
    "lati_ogr.personal_bilgisi()"
   ]
  },
  {
   "cell_type": "code",
   "execution_count": null,
   "metadata": {},
   "outputs": [],
   "source": [
    "print(type(lati_ogr))"
   ]
  }
 ],
 "metadata": {
  "kernelspec": {
   "display_name": "Python 3.10.7 64-bit (microsoft store)",
   "language": "python",
   "name": "python3"
  },
  "language_info": {
   "codemirror_mode": {
    "name": "ipython",
    "version": 3
   },
   "file_extension": ".py",
   "mimetype": "text/x-python",
   "name": "python",
   "nbconvert_exporter": "python",
   "pygments_lexer": "ipython3",
   "version": "3.10.7"
  },
  "orig_nbformat": 4,
  "vscode": {
   "interpreter": {
    "hash": "ba33de22a5821ff61dd53097cd70511c2f19fae7b0f9e8b27ee69b6aca2c4956"
   }
  }
 },
 "nbformat": 4,
 "nbformat_minor": 2
}
