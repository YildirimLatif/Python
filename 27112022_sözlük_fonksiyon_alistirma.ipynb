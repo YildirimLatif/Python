{
 "cells": [
  {
   "cell_type": "code",
   "execution_count": null,
   "metadata": {},
   "outputs": [],
   "source": [
    "sally = \"sally sells sea shells by the sea shore and by the road\"\n",
    "a = 0\n",
    "characters = {} \n",
    "for i in sally:\n",
    "    characters[i] = characters.get(i,0)+1 \n",
    "keys = list(characters.keys())\n",
    "worst_char = keys[0]\n",
    "\n",
    "for i in keys:\n",
    "    if characters[i] < characters[worst_char]:\n",
    "        worst_char = i\n",
    "print(worst_char)"
   ]
  },
  {
   "cell_type": "code",
   "execution_count": null,
   "metadata": {},
   "outputs": [],
   "source": [
    "Junior = {'SI 206':4, 'SI 310':4, 'BL 300':3, 'TO 313':3, 'BCOM 350':1, 'MO 300':3}\n",
    " \n",
    "credits = sum(Junior.values())\n",
    "credits"
   ]
  },
  {
   "cell_type": "code",
   "execution_count": null,
   "metadata": {},
   "outputs": [],
   "source": [
    "import turtle\n",
    "\n",
    "def drawSquare(t, sz):\n",
    "    \"\"\"Make turtle t draw a square of with side sz.\"\"\"\n",
    "\n",
    "    for i in range(4):\n",
    "        t.forward(sz)\n",
    "        t.left(90)\n",
    "\n",
    "\n",
    "wn = turtle.Screen()      # Set up the window and its attributes\n",
    "wn.bgcolor(\"lightgreen\")\n",
    "\n",
    "alex = turtle.Turtle()    # create alex\n",
    "drawSquare(alex, 50)      # Call the function to draw the square passing the actual turtle and the actual side size\n",
    "\n",
    "wn.exitonclick()"
   ]
  }
 ],
 "metadata": {
  "kernelspec": {
   "display_name": "Python 3.10.7 64-bit (microsoft store)",
   "language": "python",
   "name": "python3"
  },
  "language_info": {
   "name": "python",
   "version": "3.10.7"
  },
  "orig_nbformat": 4,
  "vscode": {
   "interpreter": {
    "hash": "ba33de22a5821ff61dd53097cd70511c2f19fae7b0f9e8b27ee69b6aca2c4956"
   }
  }
 },
 "nbformat": 4,
 "nbformat_minor": 2
}
