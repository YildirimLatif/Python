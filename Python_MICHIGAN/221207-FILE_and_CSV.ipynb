{
 "cells": [
  {
   "cell_type": "markdown",
   "metadata": {},
   "source": [
    "    The textfile, travel_plans.txt, contains the summer travel plans for  someone with some commentary.\n",
    "    Find the total number of characters in the file and save to the variable num.\n"
   ]
  },
  {
   "cell_type": "code",
   "execution_count": null,
   "metadata": {},
   "outputs": [],
   "source": [
    "with open(\"travel_plans.txt\",\"r\") as aa:\n",
    "    num = len(aa.read())"
   ]
  },
  {
   "cell_type": "markdown",
   "metadata": {},
   "source": [
    "     We have provided a file called emotion_words.txt that contains lines of words that describe emotions. \n",
    "     Find the total number of words in the file and assign this value to the variable num_words.\n"
   ]
  },
  {
   "cell_type": "code",
   "execution_count": null,
   "metadata": {},
   "outputs": [],
   "source": [
    "with open(\"emotion_words.txt\",\"r\") as aa:\n",
    "    num_words = len(aa.read().split())"
   ]
  },
  {
   "cell_type": "markdown",
   "metadata": {},
   "source": [
    "    Assign to the variable num_lines the number of lines in the file school_prompt.txt.\n"
   ]
  },
  {
   "cell_type": "code",
   "execution_count": null,
   "metadata": {},
   "outputs": [],
   "source": [
    "with open(\"school_prompt.txt\",\"r\") as aa:\n",
    "    num_lines = len(aa.readlines())"
   ]
  },
  {
   "cell_type": "markdown",
   "metadata": {},
   "source": [
    "    Assign the first 30 characters of school_prompt.txt as a string to the variable beginning_chars.\n"
   ]
  },
  {
   "cell_type": "code",
   "execution_count": null,
   "metadata": {},
   "outputs": [],
   "source": [
    "with open(\"school_prompt.txt\",\"r\") as aa:\n",
    "    beginning_chars = aa.read()[:30]"
   ]
  },
  {
   "cell_type": "markdown",
   "metadata": {},
   "source": [
    "    Challenge: Using the file school_prompt.txt, assign the third word of every line to a list called three.\n"
   ]
  },
  {
   "cell_type": "code",
   "execution_count": null,
   "metadata": {},
   "outputs": [],
   "source": [
    "with open(\"school_prompt.txt\",\"r\") as aa:\n",
    "    three = []\n",
    "    for i in aa.readlines():\n",
    "        three.append(i.split()[2])"
   ]
  },
  {
   "cell_type": "markdown",
   "metadata": {},
   "source": [
    "    Challenge: Create a list called emotions that contains the first word of every line in emotion_words.txt.\n"
   ]
  },
  {
   "cell_type": "code",
   "execution_count": null,
   "metadata": {},
   "outputs": [],
   "source": [
    "with open(\"emotion_words.txt\",\"r\") as aa:\n",
    "    emotions = []\n",
    "    for i in aa.readlines():\n",
    "        emotions.append(i.split()[0])"
   ]
  },
  {
   "cell_type": "markdown",
   "metadata": {},
   "source": [
    "    Assign the first 33 characters from the textfile, travel_plans.txt to the variable first_chars.\n"
   ]
  },
  {
   "cell_type": "code",
   "execution_count": null,
   "metadata": {},
   "outputs": [],
   "source": [
    "with open(\"travel_plans.txt\",\"r\") as aa: \n",
    "    first_chars = aa.read()[:33]"
   ]
  },
  {
   "cell_type": "code",
   "execution_count": null,
   "metadata": {},
   "outputs": [],
   "source": [
    "# Challenge: Using the file school_prompt.txt, if the character ‘p’ is in a word, \n",
    "# then add the word to a list called p_words.\n",
    "with open(\"school_prompt.txt\",\"r\") as aa:\n",
    "    p_words = []\n",
    "    for i in aa.readlines():\n",
    "        for j in i.split():\n",
    "            if \"p\" in j.lower():\n",
    "                p_words.append(j)"
   ]
  }
 ],
 "metadata": {
  "kernelspec": {
   "display_name": "Python 3.10.7 64-bit (microsoft store)",
   "language": "python",
   "name": "python3"
  },
  "language_info": {
   "name": "python",
   "version": "3.10.7"
  },
  "orig_nbformat": 4,
  "vscode": {
   "interpreter": {
    "hash": "ba33de22a5821ff61dd53097cd70511c2f19fae7b0f9e8b27ee69b6aca2c4956"
   }
  }
 },
 "nbformat": 4,
 "nbformat_minor": 2
}
