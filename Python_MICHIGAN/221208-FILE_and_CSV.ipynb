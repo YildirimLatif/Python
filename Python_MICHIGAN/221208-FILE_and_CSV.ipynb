{
 "cells": [
  {
   "cell_type": "markdown",
   "metadata": {},
   "source": [
    "    Write a function, length, that takes in a list as the input. If the length of the list is greater than or equal to 5, return “Longer than 5”. If the length is less than 5, return “Less than 5”."
   ]
  },
  {
   "cell_type": "code",
   "execution_count": null,
   "metadata": {},
   "outputs": [],
   "source": [
    "def length(x):\n",
    "    if len(x)>=5:\n",
    "        return \"Longer than 5\"\n",
    "    else:\n",
    "        return \"Less than 5\" "
   ]
  },
  {
   "cell_type": "markdown",
   "metadata": {},
   "source": [
    "    You will need to write two functions for this problem. The first function, divide that takes in any number and returns that same number divided by 2. The second function called sum should take any number, divide it by 2, and add 6. It should return this new number. You should call the divide function within the sum function. Do not worry about decimals."
   ]
  },
  {
   "cell_type": "code",
   "execution_count": null,
   "metadata": {},
   "outputs": [],
   "source": [
    "def divide(x):\n",
    "    return x/2\n",
    "def sum(y):\n",
    "    return divide(y)+6"
   ]
  }
 ],
 "metadata": {
  "language_info": {
   "name": "python"
  },
  "orig_nbformat": 4
 },
 "nbformat": 4,
 "nbformat_minor": 2
}
