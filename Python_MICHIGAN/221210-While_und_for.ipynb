{
 "cells": [
  {
   "attachments": {},
   "cell_type": "markdown",
   "metadata": {},
   "source": [
    "    Let’s implement the last of these in Python, by asking the user for prices and keeping a running total and count of items. When the last item is entered, the program gives the grand total, number of items, and average price."
   ]
  },
  {
   "cell_type": "code",
   "execution_count": null,
   "metadata": {},
   "outputs": [],
   "source": [
    "def checkout():\n",
    "    total = 0\n",
    "    count = 0\n",
    "    moreItems = True\n",
    "    while moreItems:\n",
    "        price = float(input('Enter price of item (0 when done): '))\n",
    "        if price != 0:\n",
    "            count = count + 1\n",
    "            total = total + price\n",
    "            print('Subtotal: $', total)\n",
    "        else:\n",
    "            moreItems = False\n",
    "    average = total / count\n",
    "    print('Total items:', count)\n",
    "    print('Total $', total)\n",
    "    print('Average price per item: $', average)\n",
    "\n",
    "checkout()"
   ]
  },
  {
   "attachments": {},
   "cell_type": "markdown",
   "metadata": {},
   "source": [
    "    You can also use a while loop when you want to validate input; when you want to make sure the user has entered valid input for a prompt. Let’s say you want a function that asks a yes-or-no question. In this case, you want to make sure that the person using your program enters either a Y for yes or N for no (in either upper or lower case). Here is a program that uses a while loop to keep asking until it receives a valid answer. As a preview of coming attractions, it uses the upper() method which is described in String Methods to convert a string to upper case. When you run the following code, try typing something other than Y or N to see how the code reacts:"
   ]
  },
  {
   "cell_type": "code",
   "execution_count": null,
   "metadata": {},
   "outputs": [],
   "source": [
    "def get_yes_or_no(message):\n",
    "    valid_input = False\n",
    "    while not valid_input:\n",
    "        answer = input(message)\n",
    "        answer = answer.upper() # convert to upper case\n",
    "        if answer == 'Y' or answer == 'N':\n",
    "            valid_input = True\n",
    "        else:\n",
    "            print('Please enter Y for yes or N for no.')\n",
    "    return answer\n",
    "\n",
    "response = get_yes_or_no('Do you like lima beans? Y)es or N)o: ')\n",
    "if response == 'Y':\n",
    "    print('Great! They are very healthy.')\n",
    "else:\n",
    "    print('Too bad. If cooked right, they are quite tasty.')\n"
   ]
  },
  {
   "cell_type": "code",
   "execution_count": 1,
   "metadata": {},
   "outputs": [],
   "source": [
    "import random\n",
    "import turtle\n",
    "\n",
    "def kontrol(w,t):\n",
    "    if random.random()>0.1:\n",
    "        return True\n",
    "    else:\n",
    "        return False\n",
    "t = turtle.Turtle() \n",
    "wn = turtle.Screen()\n",
    "\n",
    "t.shape('turtle') \n",
    "while kontrol(wn,t):\n",
    "    coin = random.randrange(0,2)\n",
    "    if coin == 0:\n",
    "        t.left(90)\n",
    "    else:\n",
    "        t.right(90)\n",
    "    \n",
    "    t.forward(90)\n",
    "\n",
    "wn.exitonclick()"
   ]
  },
  {
   "attachments": {},
   "cell_type": "markdown",
   "metadata": {},
   "source": []
  },
  {
   "cell_type": "code",
   "execution_count": null,
   "metadata": {},
   "outputs": [],
   "source": []
  }
 ],
 "metadata": {
  "kernelspec": {
   "display_name": "Python 3",
   "language": "python",
   "name": "python3"
  },
  "language_info": {
   "codemirror_mode": {
    "name": "ipython",
    "version": 3
   },
   "file_extension": ".py",
   "mimetype": "text/x-python",
   "name": "python",
   "nbconvert_exporter": "python",
   "pygments_lexer": "ipython3",
   "version": "3.10.7 (tags/v3.10.7:6cc6b13, Sep  5 2022, 14:08:36) [MSC v.1933 64 bit (AMD64)]"
  },
  "orig_nbformat": 4,
  "vscode": {
   "interpreter": {
    "hash": "ba33de22a5821ff61dd53097cd70511c2f19fae7b0f9e8b27ee69b6aca2c4956"
   }
  }
 },
 "nbformat": 4,
 "nbformat_minor": 2
}
