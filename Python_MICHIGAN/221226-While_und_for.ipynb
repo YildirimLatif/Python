{
 "cells": [
  {
   "attachments": {},
   "cell_type": "markdown",
   "metadata": {},
   "source": [
    "    Write a function, *sublist*, that takes in a list of numbers as the parameter. In the function, use a while loop to return a sublist of the input list. The sublist should contain the same values of the original list up until it reaches the number 5 (it should not contain the number 5)."
   ]
  },
  {
   "cell_type": "code",
   "execution_count": 8,
   "metadata": {},
   "outputs": [
    {
     "data": {
      "text/plain": [
       "[0, 1, 2, 3, 4]"
      ]
     },
     "execution_count": 8,
     "metadata": {},
     "output_type": "execute_result"
    }
   ],
   "source": [
    "list = [0,1,2,3,4,5]\n",
    "#################################################\n",
    "def sublist(x):\n",
    "    a = []\n",
    "    y = 0    \n",
    "    while x[y] != 5:\n",
    "        a.append(x[y]) \n",
    "        y += 1\n",
    "        if len(x) == y:\n",
    "            break        \n",
    "    return a\n",
    "###################################################\n",
    "sublist(list)"
   ]
  },
  {
   "attachments": {},
   "cell_type": "markdown",
   "metadata": {},
   "source": [
    "    Write a function called #check_nums# that takes a list as its parameter, and contains a while loop that only stops once the element of the list is the number 7. What is returned is a list of all of the numbers up until it reaches 7."
   ]
  },
  {
   "cell_type": "code",
   "execution_count": 9,
   "metadata": {},
   "outputs": [
    {
     "data": {
      "text/plain": [
       "[0, 1, 2, 3]"
      ]
     },
     "execution_count": 9,
     "metadata": {},
     "output_type": "execute_result"
    }
   ],
   "source": [
    "list = [0,1,2,3,7,8,3,4,5]\n",
    "#################################################\n",
    "def check_nums(x):\n",
    "    a = []\n",
    "    y = 0    \n",
    "    while x[y] != 7:\n",
    "        a.append(x[y])\n",
    "        y += 1\n",
    "        if len(x) == y:\n",
    "            break                   \n",
    "    return a\n",
    "###################################################\n",
    "check_nums(list)"
   ]
  },
  {
   "attachments": {},
   "cell_type": "markdown",
   "metadata": {},
   "source": [
    "    Write a function, sublist, that takes in a list of strings as the parameter. In the function, use a while loop to return a sublist of the input list. The sublist should contain the same values of the original list up until it reaches the string “STOP” (it should not contain the string “STOP”)."
   ]
  },
  {
   "cell_type": "code",
   "execution_count": 10,
   "metadata": {},
   "outputs": [
    {
     "data": {
      "text/plain": [
       "['bob', 'joe', 'lucy']"
      ]
     },
     "execution_count": 10,
     "metadata": {},
     "output_type": "execute_result"
    }
   ],
   "source": [
    "list = ['bob', 'joe', 'lucy', 'STOP', 'carol', 'james']\n",
    "#################################################\n",
    "def sublist(x):\n",
    "    a = []\n",
    "    y = 0    \n",
    "    while x[y] != \"STOP\":\n",
    "        a.append(x[y]) \n",
    "        y += 1\n",
    "        if len(x) == y:\n",
    "            break        \n",
    "    return a\n",
    "###################################################\n",
    "sublist(list)"
   ]
  },
  {
   "attachments": {},
   "cell_type": "markdown",
   "metadata": {},
   "source": [
    "    Write a function called stop_at_z that iterates through a list of strings. Using a while loop, append each string to a new list until the string that appears is “z”. The function should return the new list."
   ]
  },
  {
   "cell_type": "code",
   "execution_count": 11,
   "metadata": {},
   "outputs": [
    {
     "data": {
      "text/plain": [
       "['c', 'b', 'd', 'zebra', 'h', 'r']"
      ]
     },
     "execution_count": 11,
     "metadata": {},
     "output_type": "execute_result"
    }
   ],
   "source": [
    "list = ['c', 'b', 'd', 'zebra', 'h', 'r', 'z', 'm', 'a', 'k']\n",
    "#################################################\n",
    "def stop_at_z(x):\n",
    "    a = []\n",
    "    y = 0    \n",
    "    while x[y] != \"z\":\n",
    "        a.append(x[y]) \n",
    "        y += 1\n",
    "        if len(x) == y:\n",
    "            break        \n",
    "    return a\n",
    "###################################################\n",
    "stop_at_z(list)"
   ]
  },
  {
   "attachments": {},
   "cell_type": "markdown",
   "metadata": {},
   "source": [
    "    Below is a for loop that works. Underneath the for loop, rewrite the problem so that it does the same thing, but using a while loop instead of a for loop. Assign the accumulated total in the while loop code to the variable sum2. Once complete, sum2 should equal sum1."
   ]
  }
 ],
 "metadata": {
  "kernelspec": {
   "display_name": "Python 3",
   "language": "python",
   "name": "python3"
  },
  "language_info": {
   "codemirror_mode": {
    "name": "ipython",
    "version": 3
   },
   "file_extension": ".py",
   "mimetype": "text/x-python",
   "name": "python",
   "nbconvert_exporter": "python",
   "pygments_lexer": "ipython3",
   "version": "3.10.7"
  },
  "orig_nbformat": 4,
  "vscode": {
   "interpreter": {
    "hash": "ba33de22a5821ff61dd53097cd70511c2f19fae7b0f9e8b27ee69b6aca2c4956"
   }
  }
 },
 "nbformat": 4,
 "nbformat_minor": 2
}
